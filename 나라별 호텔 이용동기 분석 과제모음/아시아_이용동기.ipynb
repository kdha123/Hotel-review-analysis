{
  "nbformat": 4,
  "nbformat_minor": 0,
  "metadata": {
    "colab": {
      "name": "아시아_이용동기.ipynb",
      "version": "0.3.2",
      "provenance": [],
      "collapsed_sections": []
    },
    "language_info": {
      "codemirror_mode": {
        "name": "ipython",
        "version": 3
      },
      "file_extension": ".py",
      "mimetype": "text/x-python",
      "name": "python",
      "nbconvert_exporter": "python",
      "pygments_lexer": "ipython3",
      "version": "3.7.3"
    },
    "kernelspec": {
      "display_name": "Python 3",
      "language": "python",
      "name": "python3"
    }
  },
  "cells": [
    {
      "cell_type": "code",
      "metadata": {
        "id": "o5WY4cEZp4Za",
        "colab_type": "code",
        "colab": {
          "base_uri": "https://localhost:8080/",
          "height": 53
        },
        "outputId": "f4f0e5a8-5e01-4892-f825-41c96fd4c68a"
      },
      "source": [
        "# -*- coding: utf-8 -*-\n",
        "%matplotlib inline\n",
        "import numpy as np\n",
        "import matplotlib.pyplot as plt\n",
        "import re\n",
        "from string import digits\n",
        "import nltk; nltk.download('stopwords')\n",
        "import os\n",
        "from pprint import pprint\n",
        "\n",
        "# Gensim\n",
        "import gensim\n",
        "import gensim.corpora as corpora\n",
        "from gensim.utils import simple_preprocess\n",
        "from gensim.models import CoherenceModel\n",
        "\n",
        "import warnings\n",
        "warnings.filterwarnings(\"ignore\",category=DeprecationWarning)"
      ],
      "execution_count": 1,
      "outputs": [
        {
          "output_type": "stream",
          "text": [
            "[nltk_data] Downloading package stopwords to /root/nltk_data...\n",
            "[nltk_data]   Package stopwords is already up-to-date!\n"
          ],
          "name": "stdout"
        }
      ]
    },
    {
      "cell_type": "code",
      "metadata": {
        "id": "lvABNEvOp4Zf",
        "colab_type": "code",
        "colab": {
          "base_uri": "https://localhost:8080/",
          "height": 683
        },
        "outputId": "de3b41ee-b743-465b-e694-e27dcd0cabcc"
      },
      "source": [
        "import pandas as pd\n",
        "hotel_review = pd.read_csv('Hotel_Reviews.csv')\n",
        "hotel_review.head()"
      ],
      "execution_count": 2,
      "outputs": [
        {
          "output_type": "execute_result",
          "data": {
            "text/html": [
              "<div>\n",
              "<style scoped>\n",
              "    .dataframe tbody tr th:only-of-type {\n",
              "        vertical-align: middle;\n",
              "    }\n",
              "\n",
              "    .dataframe tbody tr th {\n",
              "        vertical-align: top;\n",
              "    }\n",
              "\n",
              "    .dataframe thead th {\n",
              "        text-align: right;\n",
              "    }\n",
              "</style>\n",
              "<table border=\"1\" class=\"dataframe\">\n",
              "  <thead>\n",
              "    <tr style=\"text-align: right;\">\n",
              "      <th></th>\n",
              "      <th>Hotel_Address</th>\n",
              "      <th>Additional_Number_of_Scoring</th>\n",
              "      <th>Review_Date</th>\n",
              "      <th>Average_Score</th>\n",
              "      <th>Hotel_Name</th>\n",
              "      <th>Reviewer_Nationality</th>\n",
              "      <th>Negative_Review</th>\n",
              "      <th>Review_Total_Negative_Word_Counts</th>\n",
              "      <th>Total_Number_of_Reviews</th>\n",
              "      <th>Positive_Review</th>\n",
              "      <th>Review_Total_Positive_Word_Counts</th>\n",
              "      <th>Total_Number_of_Reviews_Reviewer_Has_Given</th>\n",
              "      <th>Reviewer_Score</th>\n",
              "      <th>Tags</th>\n",
              "      <th>days_since_review</th>\n",
              "      <th>lat</th>\n",
              "      <th>lng</th>\n",
              "    </tr>\n",
              "  </thead>\n",
              "  <tbody>\n",
              "    <tr>\n",
              "      <th>0</th>\n",
              "      <td>s Gravesandestraat 55 Oost 1092 AA Amsterdam ...</td>\n",
              "      <td>194</td>\n",
              "      <td>8/3/2017</td>\n",
              "      <td>7.7</td>\n",
              "      <td>Hotel Arena</td>\n",
              "      <td>Russia</td>\n",
              "      <td>I am so angry that i made this post available...</td>\n",
              "      <td>397.0</td>\n",
              "      <td>1403.0</td>\n",
              "      <td>Only the park outside of the hotel was beauti...</td>\n",
              "      <td>11.0</td>\n",
              "      <td>7.0</td>\n",
              "      <td>2.9</td>\n",
              "      <td>[' Leisure trip ', ' Couple ', ' Duplex Double...</td>\n",
              "      <td>0 days</td>\n",
              "      <td>52.360576</td>\n",
              "      <td>4.915968</td>\n",
              "    </tr>\n",
              "    <tr>\n",
              "      <th>1</th>\n",
              "      <td>s Gravesandestraat 55 Oost 1092 AA Amsterdam ...</td>\n",
              "      <td>194</td>\n",
              "      <td>8/3/2017</td>\n",
              "      <td>7.7</td>\n",
              "      <td>Hotel Arena</td>\n",
              "      <td>Ireland</td>\n",
              "      <td>No Negative</td>\n",
              "      <td>0.0</td>\n",
              "      <td>1403.0</td>\n",
              "      <td>No real complaints the hotel was great great ...</td>\n",
              "      <td>105.0</td>\n",
              "      <td>7.0</td>\n",
              "      <td>7.5</td>\n",
              "      <td>[' Leisure trip ', ' Couple ', ' Duplex Double...</td>\n",
              "      <td>0 days</td>\n",
              "      <td>52.360576</td>\n",
              "      <td>4.915968</td>\n",
              "    </tr>\n",
              "    <tr>\n",
              "      <th>2</th>\n",
              "      <td>s Gravesandestraat 55 Oost 1092 AA Amsterdam ...</td>\n",
              "      <td>194</td>\n",
              "      <td>7/31/2017</td>\n",
              "      <td>7.7</td>\n",
              "      <td>Hotel Arena</td>\n",
              "      <td>Australia</td>\n",
              "      <td>Rooms are nice but for elderly a bit difficul...</td>\n",
              "      <td>42.0</td>\n",
              "      <td>1403.0</td>\n",
              "      <td>Location was good and staff were ok It is cut...</td>\n",
              "      <td>21.0</td>\n",
              "      <td>9.0</td>\n",
              "      <td>7.1</td>\n",
              "      <td>[' Leisure trip ', ' Family with young childre...</td>\n",
              "      <td>3 days</td>\n",
              "      <td>52.360576</td>\n",
              "      <td>4.915968</td>\n",
              "    </tr>\n",
              "    <tr>\n",
              "      <th>3</th>\n",
              "      <td>s Gravesandestraat 55 Oost 1092 AA Amsterdam ...</td>\n",
              "      <td>194</td>\n",
              "      <td>7/31/2017</td>\n",
              "      <td>7.7</td>\n",
              "      <td>Hotel Arena</td>\n",
              "      <td>United Kingdom</td>\n",
              "      <td>My room was dirty and I was afraid to walk ba...</td>\n",
              "      <td>210.0</td>\n",
              "      <td>1403.0</td>\n",
              "      <td>Great location in nice surroundings the bar a...</td>\n",
              "      <td>26.0</td>\n",
              "      <td>1.0</td>\n",
              "      <td>3.8</td>\n",
              "      <td>[' Leisure trip ', ' Solo traveler ', ' Duplex...</td>\n",
              "      <td>3 days</td>\n",
              "      <td>52.360576</td>\n",
              "      <td>4.915968</td>\n",
              "    </tr>\n",
              "    <tr>\n",
              "      <th>4</th>\n",
              "      <td>s Gravesandestraat 55 Oost 1092 AA Amsterdam ...</td>\n",
              "      <td>194</td>\n",
              "      <td>7/24/2017</td>\n",
              "      <td>7.7</td>\n",
              "      <td>Hotel Arena</td>\n",
              "      <td>New Zealand</td>\n",
              "      <td>You When I booked with your company on line y...</td>\n",
              "      <td>140.0</td>\n",
              "      <td>1403.0</td>\n",
              "      <td>Amazing location and building Romantic setting</td>\n",
              "      <td>8.0</td>\n",
              "      <td>3.0</td>\n",
              "      <td>6.7</td>\n",
              "      <td>[' Leisure trip ', ' Couple ', ' Suite ', ' St...</td>\n",
              "      <td>10 days</td>\n",
              "      <td>52.360576</td>\n",
              "      <td>4.915968</td>\n",
              "    </tr>\n",
              "  </tbody>\n",
              "</table>\n",
              "</div>"
            ],
            "text/plain": [
              "                                       Hotel_Address  ...       lng\n",
              "0   s Gravesandestraat 55 Oost 1092 AA Amsterdam ...  ...  4.915968\n",
              "1   s Gravesandestraat 55 Oost 1092 AA Amsterdam ...  ...  4.915968\n",
              "2   s Gravesandestraat 55 Oost 1092 AA Amsterdam ...  ...  4.915968\n",
              "3   s Gravesandestraat 55 Oost 1092 AA Amsterdam ...  ...  4.915968\n",
              "4   s Gravesandestraat 55 Oost 1092 AA Amsterdam ...  ...  4.915968\n",
              "\n",
              "[5 rows x 17 columns]"
            ]
          },
          "metadata": {
            "tags": []
          },
          "execution_count": 2
        }
      ]
    },
    {
      "cell_type": "code",
      "metadata": {
        "id": "bAF5TFWxp4Zi",
        "colab_type": "code",
        "colab": {
          "base_uri": "https://localhost:8080/",
          "height": 55
        },
        "outputId": "4c20a7de-ec81-412d-cd0b-b9b7b70b70da"
      },
      "source": [
        "# 나라 중복값 확인\n",
        "w_count  = {}\n",
        "for lst in hotel_review['Reviewer_Nationality']:\n",
        "    try: w_count[lst] += 1\n",
        "    except: w_count[lst]=1\n",
        "print(w_count)"
      ],
      "execution_count": 3,
      "outputs": [
        {
          "output_type": "stream",
          "text": [
            "{' Russia ': 150, ' Ireland ': 1097, ' Australia ': 1724, ' United Kingdom ': 23093, ' New Zealand ': 243, ' Poland ': 133, ' Belgium ': 387, ' Norway ': 179, ' France ': 510, ' Italy ': 324, ' Canada ': 596, ' Netherlands ': 510, ' Germany ': 450, ' United States of America ': 2670, ' Hungary ': 68, ' Israel ': 344, ' Switzerland ': 554, ' India ': 220, ' United Arab Emirates ': 688, ' Malaysia ': 174, ' Denmark ': 122, ' South Africa ': 275, ' Rwanda ': 1, ' Finland ': 99, ' Portugal ': 115, ' Luxembourg ': 80, ' Spain ': 260, ' Malta ': 77, ' China ': 259, ' Turkey ': 255, ' Ukraine ': 44, ' Gibraltar ': 26, ' Argentina ': 25, ' Abkhazia Georgia ': 14, ' Isle of Man ': 37, ' Sweden ': 229, ' Croatia ': 51, ' Saudi Arabia ': 555, ' Lithuania ': 29, ' Slovenia ': 24, ' Panama ': 12, ' Austria ': 111, ' Brazil ': 104, ' Taiwan ': 64, ' Iceland ': 59, ' Iran ': 40, ' Liechtenstein ': 1, ' Chile ': 21, ' Hong Kong ': 280, ' United States Minor Outlying Islands ': 10, ' Morocco ': 11, ' Oman ': 92, ' Lebanon ': 124, ' Qatar ': 177, ' Nigeria ': 105, ' Romania ': 107, ' Czech Republic ': 86, ' Greece ': 187, ' Thailand ': 128, ' Singapore ': 220, ' Guernsey ': 69, ' Latvia ': 35, ' Namibia ': 9, ' Japan ': 103, ' Egypt ': 106, ' Slovakia ': 33, ' South Korea ': 54, ' Kuwait ': 283, ' Bahrain ': 107, ' Jersey ': 92, ' Jordan ': 54, ' Bulgaria ': 38, ' Cyprus ': 102, ' Albania ': 8, ' Estonia ': 33, ' Serbia ': 16, ' Belarus ': 8, ' Puerto Rico ': 10, ' Sudan ': 5, ' Sri Lanka ': 25, ' Indonesia ': 105, ' Honduras ': 2, ' Philippines ': 83, ' Montenegro ': 5, ' Uruguay ': 7, ' Brunei ': 11, ' Pakistan ': 50, ' Kosovo ': 1, ' Azerbaijan ': 12, ' ': 34, ' Botswana ': 4, ' Tanzania ': 7, ' Bangladesh ': 13, ' Trinidad and Tobago ': 14, ' Palestinian Territory ': 2, ' Peru ': 4, ' Mexico ': 38, ' Kenya ': 24, ' Zimbabwe ': 8, ' Macedonia ': 7, ' Georgia ': 5, ' Bermuda ': 9, ' Costa Rica ': 6, ' Bahamas ': 4, ' Maldives ': 8, ' Barbados ': 10, ' Libya ': 2, ' Fiji ': 1, ' Angola ': 6, ' Kazakhstan ': 17, ' Bosnia and Herzegovina ': 4, ' Colombia ': 11, ' Armenia ': 5, ' Vietnam ': 13, ' Iraq ': 11, ' Monaco ': 13, ' Uganda ': 1, ' Togo ': 1, ' Guatemala ': 2, ' Ghana ': 14, ' Macau ': 9, ' Zambia ': 3, ' Jamaica ': 2, ' Mauritius ': 11, ' Venezuela ': 1, ' Crimea ': 1, ' St Maarten ': 1, ' Algeria ': 5, ' Equatorial Guinea ': 1, ' Nicaragua ': 1, ' Comoros ': 1, ' Cayman Islands ': 4, ' Ethiopia ': 2, ' Dominican Republic ': 5, ' Ecuador ': 4, ' Uzbekistan ': 3, ' Turks Caicos Islands ': 3, ' Nepal ': 3, ' Mozambique ': 3, ' Sierra Leone ': 1, ' Ivory Coast ': 1, ' Cura ao ': 1, ' Antigua Barbuda ': 4, ' Burundi ': 1, ' East Timor ': 1, ' Tunisia ': 4, ' Andorra ': 1, ' U S Virgin Islands ': 1, ' Antarctica ': 1, ' Papua New Guinea ': 1, ' Montserrat ': 1, ' Malawi ': 1, ' Yemen ': 1, ' Suriname ': 1, ' Paraguay ': 1, ' Aruba ': 2, ' Mongolia ': 1, ' Moldova ': 1, ' St Pierre and Miquelon ': 2, ' Cambodia ': 1, nan: 1}\n"
          ],
          "name": "stdout"
        }
      ]
    },
    {
      "cell_type": "code",
      "metadata": {
        "id": "OTYOMqImp4Zk",
        "colab_type": "code",
        "colab": {
          "base_uri": "https://localhost:8080/",
          "height": 2802
        },
        "outputId": "b1a26c09-1ea6-44d3-ef8b-6eba09748a1d"
      },
      "source": [
        "# 대륙별 행 추출_아시아\n",
        "hotel_review_Asia = hotel_review[['Reviewer_Nationality',\"Negative_Review\",\"Positive_Review\"]]\n",
        "Id = hotel_review_Asia[hotel_review_Asia['Reviewer_Nationality']  == \" India \"]\n",
        "Ma = hotel_review_Asia[hotel_review_Asia['Reviewer_Nationality']  == \" Malaysia \"]\n",
        "Ch = hotel_review_Asia[hotel_review_Asia['Reviewer_Nationality']  == \" China \"]\n",
        "Tu = hotel_review_Asia[hotel_review_Asia['Reviewer_Nationality']  == \" Turkey \"]\n",
        "Au = hotel_review_Asia[hotel_review_Asia['Reviewer_Nationality']  == \" Australia \"]\n",
        "Nz = hotel_review_Asia[hotel_review_Asia['Reviewer_Nationality']  == \" New Zealand \"]\n",
        "Th = hotel_review_Asia[hotel_review_Asia['Reviewer_Nationality']  == \" Thailand \"]\n",
        "Si = hotel_review_Asia[hotel_review_Asia['Reviewer_Nationality']  == \" Singapore \"]\n",
        "Ja = hotel_review_Asia[hotel_review_Asia['Reviewer_Nationality']  == \" Japan \"]\n",
        "Sk = hotel_review_Asia[hotel_review_Asia['Reviewer_Nationality']  == \" South Korea \"]\n",
        "Ta = hotel_review_Asia[hotel_review_Asia['Reviewer_Nationality']  == \" Taiwan \"]\n",
        "Hk = hotel_review_Asia[hotel_review_Asia['Reviewer_Nationality']  == \" Hong Kong \"]\n",
        "ASIA = pd.concat([Id,Ma,Ch,Tu,Au,Nz,Th,Si,Ja,Sk,Ta,Hk])\n",
        "ASIA"
      ],
      "execution_count": 4,
      "outputs": [
        {
          "output_type": "execute_result",
          "data": {
            "text/html": [
              "<div>\n",
              "<style scoped>\n",
              "    .dataframe tbody tr th:only-of-type {\n",
              "        vertical-align: middle;\n",
              "    }\n",
              "\n",
              "    .dataframe tbody tr th {\n",
              "        vertical-align: top;\n",
              "    }\n",
              "\n",
              "    .dataframe thead th {\n",
              "        text-align: right;\n",
              "    }\n",
              "</style>\n",
              "<table border=\"1\" class=\"dataframe\">\n",
              "  <thead>\n",
              "    <tr style=\"text-align: right;\">\n",
              "      <th></th>\n",
              "      <th>Reviewer_Nationality</th>\n",
              "      <th>Negative_Review</th>\n",
              "      <th>Positive_Review</th>\n",
              "    </tr>\n",
              "  </thead>\n",
              "  <tbody>\n",
              "    <tr>\n",
              "      <th>45</th>\n",
              "      <td>India</td>\n",
              "      <td>Bathroom lighting could have been brighter Th...</td>\n",
              "      <td>The location of the hotel is super opening ou...</td>\n",
              "    </tr>\n",
              "    <tr>\n",
              "      <th>247</th>\n",
              "      <td>India</td>\n",
              "      <td>The beds were a little small and very low</td>\n",
              "      <td>No Positive</td>\n",
              "    </tr>\n",
              "    <tr>\n",
              "      <th>429</th>\n",
              "      <td>India</td>\n",
              "      <td>No Negative</td>\n",
              "      <td>Room as advertised excellent location a 2 min...</td>\n",
              "    </tr>\n",
              "    <tr>\n",
              "      <th>733</th>\n",
              "      <td>India</td>\n",
              "      <td>No Negative</td>\n",
              "      <td>Help from staff in a medical emergency</td>\n",
              "    </tr>\n",
              "    <tr>\n",
              "      <th>1907</th>\n",
              "      <td>India</td>\n",
              "      <td>inhouse restaurant isnt that great</td>\n",
              "      <td>location good rooms</td>\n",
              "    </tr>\n",
              "    <tr>\n",
              "      <th>2148</th>\n",
              "      <td>India</td>\n",
              "      <td>The carpeting in the corridor out side the ro...</td>\n",
              "      <td>The Handy Phone was a nice touch Helped a lot...</td>\n",
              "    </tr>\n",
              "    <tr>\n",
              "      <th>2216</th>\n",
              "      <td>India</td>\n",
              "      <td>The room is way too small No matter how well ...</td>\n",
              "      <td>Great location for the property Close to Hyde...</td>\n",
              "    </tr>\n",
              "    <tr>\n",
              "      <th>2313</th>\n",
              "      <td>India</td>\n",
              "      <td>The staff was very in co operative and the ro...</td>\n",
              "      <td>The only good thing was the location</td>\n",
              "    </tr>\n",
              "    <tr>\n",
              "      <th>2329</th>\n",
              "      <td>India</td>\n",
              "      <td>Everything else you don t expect big and lavi...</td>\n",
              "      <td>Location is good walking distance from Paddin...</td>\n",
              "    </tr>\n",
              "    <tr>\n",
              "      <th>2375</th>\n",
              "      <td>India</td>\n",
              "      <td>After hauling 4 suitcases across London we we...</td>\n",
              "      <td>Location was really close to train station an...</td>\n",
              "    </tr>\n",
              "    <tr>\n",
              "      <th>2447</th>\n",
              "      <td>India</td>\n",
              "      <td>My bag was stolen from the hotel lobby and th...</td>\n",
              "      <td>I liked the staff in the restaurant very warm...</td>\n",
              "    </tr>\n",
              "    <tr>\n",
              "      <th>2469</th>\n",
              "      <td>India</td>\n",
              "      <td>No Negative</td>\n",
              "      <td>Food at Restaurant was simply awesome for an ...</td>\n",
              "    </tr>\n",
              "    <tr>\n",
              "      <th>2472</th>\n",
              "      <td>India</td>\n",
              "      <td>We were there for 5 days it would be nice to ...</td>\n",
              "      <td>The staff was excellent each and every one of...</td>\n",
              "    </tr>\n",
              "    <tr>\n",
              "      <th>2488</th>\n",
              "      <td>India</td>\n",
              "      <td>The booking was done for Deluxe Double room a...</td>\n",
              "      <td>Location is the greatest advantage for property</td>\n",
              "    </tr>\n",
              "    <tr>\n",
              "      <th>2717</th>\n",
              "      <td>India</td>\n",
              "      <td>No Negative</td>\n",
              "      <td>fab boutique hotel gr8 location very near hyd...</td>\n",
              "    </tr>\n",
              "    <tr>\n",
              "      <th>2766</th>\n",
              "      <td>India</td>\n",
              "      <td>The rooms provided were small We had to upgra...</td>\n",
              "      <td>No Positive</td>\n",
              "    </tr>\n",
              "    <tr>\n",
              "      <th>2831</th>\n",
              "      <td>India</td>\n",
              "      <td>Price too high</td>\n",
              "      <td>Great veg restAurant location</td>\n",
              "    </tr>\n",
              "    <tr>\n",
              "      <th>2832</th>\n",
              "      <td>India</td>\n",
              "      <td>No Negative</td>\n",
              "      <td>It s Silent and very near to Paddington Stati...</td>\n",
              "    </tr>\n",
              "    <tr>\n",
              "      <th>2920</th>\n",
              "      <td>India</td>\n",
              "      <td>Room was too small bed isn t sufficient for 2...</td>\n",
              "      <td>Location was good</td>\n",
              "    </tr>\n",
              "    <tr>\n",
              "      <th>2951</th>\n",
              "      <td>India</td>\n",
              "      <td>They don t change Bedsheets on daily basis</td>\n",
              "      <td>Location</td>\n",
              "    </tr>\n",
              "    <tr>\n",
              "      <th>2983</th>\n",
              "      <td>India</td>\n",
              "      <td>No Negative</td>\n",
              "      <td>The Staff service with a smile</td>\n",
              "    </tr>\n",
              "    <tr>\n",
              "      <th>3003</th>\n",
              "      <td>India</td>\n",
              "      <td>Couldnt find one reason</td>\n",
              "      <td>Everything room decor comfort</td>\n",
              "    </tr>\n",
              "    <tr>\n",
              "      <th>3100</th>\n",
              "      <td>India</td>\n",
              "      <td>It is hard to pin point anything as such</td>\n",
              "      <td>Reception desk was always helping</td>\n",
              "    </tr>\n",
              "    <tr>\n",
              "      <th>3210</th>\n",
              "      <td>India</td>\n",
              "      <td>No Negative</td>\n",
              "      <td>Amazing food with Amazing staff Location was ...</td>\n",
              "    </tr>\n",
              "    <tr>\n",
              "      <th>3230</th>\n",
              "      <td>India</td>\n",
              "      <td>The rooms were extra small</td>\n",
              "      <td>The location as well as the breakfast</td>\n",
              "    </tr>\n",
              "    <tr>\n",
              "      <th>3326</th>\n",
              "      <td>India</td>\n",
              "      <td>Staff needs to be more friendly</td>\n",
              "      <td>Nice Location Great Indian food clean rooms</td>\n",
              "    </tr>\n",
              "    <tr>\n",
              "      <th>3412</th>\n",
              "      <td>India</td>\n",
              "      <td>Rooms are very conjested no value of money</td>\n",
              "      <td>No this is not good hotel</td>\n",
              "    </tr>\n",
              "    <tr>\n",
              "      <th>3422</th>\n",
              "      <td>India</td>\n",
              "      <td>Everytime i book other park property and am s...</td>\n",
              "      <td>No Positive</td>\n",
              "    </tr>\n",
              "    <tr>\n",
              "      <th>3485</th>\n",
              "      <td>India</td>\n",
              "      <td>No parking area and small rooms</td>\n",
              "      <td>Service and hospitality</td>\n",
              "    </tr>\n",
              "    <tr>\n",
              "      <th>3541</th>\n",
              "      <td>India</td>\n",
              "      <td>Room Size</td>\n",
              "      <td>Very Helpful and Cooperative staff Breakfast</td>\n",
              "    </tr>\n",
              "    <tr>\n",
              "      <th>...</th>\n",
              "      <td>...</td>\n",
              "      <td>...</td>\n",
              "      <td>...</td>\n",
              "    </tr>\n",
              "    <tr>\n",
              "      <th>37089</th>\n",
              "      <td>Hong Kong</td>\n",
              "      <td>The double room is too small in every aspect ...</td>\n",
              "      <td>Location is excellent</td>\n",
              "    </tr>\n",
              "    <tr>\n",
              "      <th>37312</th>\n",
              "      <td>Hong Kong</td>\n",
              "      <td>No Negative</td>\n",
              "      <td>In last three times I visited London I stayed...</td>\n",
              "    </tr>\n",
              "    <tr>\n",
              "      <th>37319</th>\n",
              "      <td>Hong Kong</td>\n",
              "      <td>No Negative</td>\n",
              "      <td>Great location underground station within a f...</td>\n",
              "    </tr>\n",
              "    <tr>\n",
              "      <th>37486</th>\n",
              "      <td>Hong Kong</td>\n",
              "      <td>The rooms are quite old Bathrooms are clean b...</td>\n",
              "      <td>No Positive</td>\n",
              "    </tr>\n",
              "    <tr>\n",
              "      <th>37898</th>\n",
              "      <td>Hong Kong</td>\n",
              "      <td>The hairdryer</td>\n",
              "      <td>The room was very clean and hotel was conveni...</td>\n",
              "    </tr>\n",
              "    <tr>\n",
              "      <th>37929</th>\n",
              "      <td>Hong Kong</td>\n",
              "      <td>Very unstable wifi connection So troublesome ...</td>\n",
              "      <td>Comfortable bed</td>\n",
              "    </tr>\n",
              "    <tr>\n",
              "      <th>38181</th>\n",
              "      <td>Hong Kong</td>\n",
              "      <td>No Negative</td>\n",
              "      <td>Excellent staff great rooms convenient locati...</td>\n",
              "    </tr>\n",
              "    <tr>\n",
              "      <th>38200</th>\n",
              "      <td>Hong Kong</td>\n",
              "      <td>No Negative</td>\n",
              "      <td>Beautifully decorated quirky full of antiques...</td>\n",
              "    </tr>\n",
              "    <tr>\n",
              "      <th>38217</th>\n",
              "      <td>Hong Kong</td>\n",
              "      <td>I was down with food poisoning shortly before...</td>\n",
              "      <td>Decor is quite unique beds are comfortable Ro...</td>\n",
              "    </tr>\n",
              "    <tr>\n",
              "      <th>38289</th>\n",
              "      <td>Hong Kong</td>\n",
              "      <td>No Negative</td>\n",
              "      <td>Funky room friendly staff great location for ...</td>\n",
              "    </tr>\n",
              "    <tr>\n",
              "      <th>38534</th>\n",
              "      <td>Hong Kong</td>\n",
              "      <td>Suite was located on 1st floor with no view a...</td>\n",
              "      <td>Booked the executive suite and roomy for the ...</td>\n",
              "    </tr>\n",
              "    <tr>\n",
              "      <th>38543</th>\n",
              "      <td>Hong Kong</td>\n",
              "      <td>Room was hot as the aircon didn t work very w...</td>\n",
              "      <td>No Positive</td>\n",
              "    </tr>\n",
              "    <tr>\n",
              "      <th>38710</th>\n",
              "      <td>Hong Kong</td>\n",
              "      <td>The room is super small It s difficult to ope...</td>\n",
              "      <td>Good location Very close to the Lancaster Gat...</td>\n",
              "    </tr>\n",
              "    <tr>\n",
              "      <th>38865</th>\n",
              "      <td>Hong Kong</td>\n",
              "      <td>No Negative</td>\n",
              "      <td>Location breakfast staffs and room size is go...</td>\n",
              "    </tr>\n",
              "    <tr>\n",
              "      <th>38993</th>\n",
              "      <td>Hong Kong</td>\n",
              "      <td>good</td>\n",
              "      <td>good</td>\n",
              "    </tr>\n",
              "    <tr>\n",
              "      <th>39073</th>\n",
              "      <td>Hong Kong</td>\n",
              "      <td>would be nice to have a fridge in room</td>\n",
              "      <td>convenient location comfortable and spacious ...</td>\n",
              "    </tr>\n",
              "    <tr>\n",
              "      <th>39086</th>\n",
              "      <td>Hong Kong</td>\n",
              "      <td>The room is a bit small</td>\n",
              "      <td>The breakfast is great Staff is friendly</td>\n",
              "    </tr>\n",
              "    <tr>\n",
              "      <th>39102</th>\n",
              "      <td>Hong Kong</td>\n",
              "      <td>The room is smaller than the one shown in the...</td>\n",
              "      <td>The staff is very helpful</td>\n",
              "    </tr>\n",
              "    <tr>\n",
              "      <th>39112</th>\n",
              "      <td>Hong Kong</td>\n",
              "      <td>No Negative</td>\n",
              "      <td>Quiet environment and nearby London Undergrou...</td>\n",
              "    </tr>\n",
              "    <tr>\n",
              "      <th>39514</th>\n",
              "      <td>Hong Kong</td>\n",
              "      <td>The ubiquitous fitted carpets loved by Britis...</td>\n",
              "      <td>This hotel is well located on a quiet street ...</td>\n",
              "    </tr>\n",
              "    <tr>\n",
              "      <th>39535</th>\n",
              "      <td>Hong Kong</td>\n",
              "      <td>Bathroom a little small but it s London I don...</td>\n",
              "      <td>Very quiet room Pleasant staff and excellent ...</td>\n",
              "    </tr>\n",
              "    <tr>\n",
              "      <th>39668</th>\n",
              "      <td>Hong Kong</td>\n",
              "      <td>The room is small for three people and the ex...</td>\n",
              "      <td>No Positive</td>\n",
              "    </tr>\n",
              "    <tr>\n",
              "      <th>39743</th>\n",
              "      <td>Hong Kong</td>\n",
              "      <td>Reception can react nicer</td>\n",
              "      <td>The decoration and room facilities are very w...</td>\n",
              "    </tr>\n",
              "    <tr>\n",
              "      <th>39816</th>\n",
              "      <td>Hong Kong</td>\n",
              "      <td>The attitude of the staff was not pleasant bi...</td>\n",
              "      <td>Rooms were clean and bed was comfy</td>\n",
              "    </tr>\n",
              "    <tr>\n",
              "      <th>40221</th>\n",
              "      <td>Hong Kong</td>\n",
              "      <td>The alarm at night but the staff made up for ...</td>\n",
              "      <td>Great hotel very new decoration is very chic ...</td>\n",
              "    </tr>\n",
              "    <tr>\n",
              "      <th>40235</th>\n",
              "      <td>Hong Kong</td>\n",
              "      <td>The swimming pool design is dysfunctional for...</td>\n",
              "      <td>Staff were great and room is comfortable</td>\n",
              "    </tr>\n",
              "    <tr>\n",
              "      <th>40258</th>\n",
              "      <td>Hong Kong</td>\n",
              "      <td>There were many points that we didn t like as...</td>\n",
              "      <td>No Positive</td>\n",
              "    </tr>\n",
              "    <tr>\n",
              "      <th>40281</th>\n",
              "      <td>Hong Kong</td>\n",
              "      <td>I booked a room suppose the Terrance can view...</td>\n",
              "      <td>Location is excellent Staffs are nice and hel...</td>\n",
              "    </tr>\n",
              "    <tr>\n",
              "      <th>40296</th>\n",
              "      <td>Hong Kong</td>\n",
              "      <td>The washroom in the room was with bad smell i...</td>\n",
              "      <td>The breakfast was nice with flaky croissants ...</td>\n",
              "    </tr>\n",
              "    <tr>\n",
              "      <th>40367</th>\n",
              "      <td>Hong Kong</td>\n",
              "      <td>The door of the shower room is no good The wa...</td>\n",
              "      <td>convenience to go shopping eating</td>\n",
              "    </tr>\n",
              "  </tbody>\n",
              "</table>\n",
              "<p>3724 rows × 3 columns</p>\n",
              "</div>"
            ],
            "text/plain": [
              "      Reviewer_Nationality  ...                                    Positive_Review\n",
              "45                  India   ...   The location of the hotel is super opening ou...\n",
              "247                 India   ...                                        No Positive\n",
              "429                 India   ...   Room as advertised excellent location a 2 min...\n",
              "733                 India   ...            Help from staff in a medical emergency \n",
              "1907                India   ...                                location good rooms\n",
              "2148                India   ...   The Handy Phone was a nice touch Helped a lot...\n",
              "2216                India   ...   Great location for the property Close to Hyde...\n",
              "2313                India   ...              The only good thing was the location \n",
              "2329                India   ...   Location is good walking distance from Paddin...\n",
              "2375                India   ...   Location was really close to train station an...\n",
              "2447                India   ...   I liked the staff in the restaurant very warm...\n",
              "2469                India   ...   Food at Restaurant was simply awesome for an ...\n",
              "2472                India   ...   The staff was excellent each and every one of...\n",
              "2488                India   ...   Location is the greatest advantage for property \n",
              "2717                India   ...   fab boutique hotel gr8 location very near hyd...\n",
              "2766                India   ...                                        No Positive\n",
              "2831                India   ...                      Great veg restAurant location\n",
              "2832                India   ...   It s Silent and very near to Paddington Stati...\n",
              "2920                India   ...                                  Location was good\n",
              "2951                India   ...                                           Location\n",
              "2983                India   ...                     The Staff service with a smile\n",
              "3003                India   ...                      Everything room decor comfort\n",
              "3100                India   ...                  Reception desk was always helping\n",
              "3210                India   ...   Amazing food with Amazing staff Location was ...\n",
              "3230                India   ...             The location as well as the breakfast \n",
              "3326                India   ...        Nice Location Great Indian food clean rooms\n",
              "3412                India   ...                          No this is not good hotel\n",
              "3422                India   ...                                        No Positive\n",
              "3485                India   ...                            Service and hospitality\n",
              "3541                India   ...       Very Helpful and Cooperative staff Breakfast\n",
              "...                    ...  ...                                                ...\n",
              "37089           Hong Kong   ...                             Location is excellent \n",
              "37312           Hong Kong   ...   In last three times I visited London I stayed...\n",
              "37319           Hong Kong   ...   Great location underground station within a f...\n",
              "37486           Hong Kong   ...                                        No Positive\n",
              "37898           Hong Kong   ...   The room was very clean and hotel was conveni...\n",
              "37929           Hong Kong   ...                                   Comfortable bed \n",
              "38181           Hong Kong   ...   Excellent staff great rooms convenient locati...\n",
              "38200           Hong Kong   ...   Beautifully decorated quirky full of antiques...\n",
              "38217           Hong Kong   ...   Decor is quite unique beds are comfortable Ro...\n",
              "38289           Hong Kong   ...   Funky room friendly staff great location for ...\n",
              "38534           Hong Kong   ...   Booked the executive suite and roomy for the ...\n",
              "38543           Hong Kong   ...                                        No Positive\n",
              "38710           Hong Kong   ...   Good location Very close to the Lancaster Gat...\n",
              "38865           Hong Kong   ...   Location breakfast staffs and room size is go...\n",
              "38993           Hong Kong   ...                                               good\n",
              "39073           Hong Kong   ...   convenient location comfortable and spacious ...\n",
              "39086           Hong Kong   ...          The breakfast is great Staff is friendly \n",
              "39102           Hong Kong   ...                         The staff is very helpful \n",
              "39112           Hong Kong   ...   Quiet environment and nearby London Undergrou...\n",
              "39514           Hong Kong   ...   This hotel is well located on a quiet street ...\n",
              "39535           Hong Kong   ...   Very quiet room Pleasant staff and excellent ...\n",
              "39668           Hong Kong   ...                                        No Positive\n",
              "39743           Hong Kong   ...   The decoration and room facilities are very w...\n",
              "39816           Hong Kong   ...                Rooms were clean and bed was comfy \n",
              "40221           Hong Kong   ...   Great hotel very new decoration is very chic ...\n",
              "40235           Hong Kong   ...           Staff were great and room is comfortable\n",
              "40258           Hong Kong   ...                                        No Positive\n",
              "40281           Hong Kong   ...   Location is excellent Staffs are nice and hel...\n",
              "40296           Hong Kong   ...   The breakfast was nice with flaky croissants ...\n",
              "40367           Hong Kong   ...                  convenience to go shopping eating\n",
              "\n",
              "[3724 rows x 3 columns]"
            ]
          },
          "metadata": {
            "tags": []
          },
          "execution_count": 4
        }
      ]
    },
    {
      "cell_type": "code",
      "metadata": {
        "id": "as-3KCsnp4Zn",
        "colab_type": "code",
        "colab": {}
      },
      "source": [
        "Negative = ASIA.iloc[:,1]\n",
        "Positive = ASIA.iloc[:,2]"
      ],
      "execution_count": 0,
      "outputs": []
    },
    {
      "cell_type": "code",
      "metadata": {
        "id": "Tyi4NgT4p4Zp",
        "colab_type": "code",
        "colab": {
          "base_uri": "https://localhost:8080/",
          "height": 107
        },
        "outputId": "a0e3e031-3ca7-4080-f71d-22c1c522c5db"
      },
      "source": [
        "Negative = [re.sub(\"\\'\", \"\", str(sent)) for sent in Negative]\n",
        "Negative = [re.sub(\"No Negative'\", \"\", str(sent)) for sent in Negative]\n",
        "pprint(Negative[:1])"
      ],
      "execution_count": 6,
      "outputs": [
        {
          "output_type": "stream",
          "text": [
            "[' Bathroom lighting could have been brighter The airconditioning of our room '\n",
            " '303 could not be turned down lower than 23 degrees celcius The refrigerator '\n",
            " 'in our room was not cooling there was no thermostat The toiletries were not '\n",
            " 'replenished shampoo shower gel dispenser was empty and was not replenished '\n",
            " 'on the second day either ']\n"
          ],
          "name": "stdout"
        }
      ]
    },
    {
      "cell_type": "code",
      "metadata": {
        "id": "j9BNDDAnp4Zs",
        "colab_type": "code",
        "colab": {
          "base_uri": "https://localhost:8080/",
          "height": 71
        },
        "outputId": "7f6bcf67-dc23-4f7f-f34e-7df8ef97c4fa"
      },
      "source": [
        "Positive = [re.sub(\"\\'\", \"\", str(sent1)) for sent1 in Positive]\n",
        "Positive = [re.sub(\"No Positive'\", \"\", str(sent1)) for sent1 in Positive]\n",
        "pprint(Positive[:1])"
      ],
      "execution_count": 7,
      "outputs": [
        {
          "output_type": "stream",
          "text": [
            "[' The location of the hotel is super opening out to Oosterpark The staff was '\n",
            " 'very helpful and friendly The bed was very comfortable The room was spacious '\n",
            " 'enough for 2 people ']\n"
          ],
          "name": "stdout"
        }
      ]
    },
    {
      "cell_type": "code",
      "metadata": {
        "id": "SVW7svGVp4Zu",
        "colab_type": "code",
        "colab": {}
      },
      "source": [
        "import gensim \n",
        "from gensim.models import Word2Vec"
      ],
      "execution_count": 0,
      "outputs": []
    },
    {
      "cell_type": "code",
      "metadata": {
        "scrolled": true,
        "id": "RoK6Fytpp4Zx",
        "colab_type": "code",
        "colab": {
          "base_uri": "https://localhost:8080/",
          "height": 73
        },
        "outputId": "b96f81a9-1f34-4f47-de33-06105ac471bc"
      },
      "source": [
        "def sent_to_words(sentences):\n",
        "    for sentence in sentences:\n",
        "        yield(gensim.utils.simple_preprocess(str(sentence), deacc=True))  # deacc=True removes punctuations\n",
        "\n",
        "data_words1 = list(sent_to_words(Negative))\n",
        "data_words2 = list(sent_to_words(Positive))\n",
        "\n",
        "print(data_words1[:1])\n",
        "print(data_words2[:1])"
      ],
      "execution_count": 9,
      "outputs": [
        {
          "output_type": "stream",
          "text": [
            "[['bathroom', 'lighting', 'could', 'have', 'been', 'brighter', 'the', 'airconditioning', 'of', 'our', 'room', 'could', 'not', 'be', 'turned', 'down', 'lower', 'than', 'degrees', 'celcius', 'the', 'refrigerator', 'in', 'our', 'room', 'was', 'not', 'cooling', 'there', 'was', 'no', 'thermostat', 'the', 'toiletries', 'were', 'not', 'replenished', 'shampoo', 'shower', 'gel', 'dispenser', 'was', 'empty', 'and', 'was', 'not', 'replenished', 'on', 'the', 'second', 'day', 'either']]\n",
            "[['the', 'location', 'of', 'the', 'hotel', 'is', 'super', 'opening', 'out', 'to', 'oosterpark', 'the', 'staff', 'was', 'very', 'helpful', 'and', 'friendly', 'the', 'bed', 'was', 'very', 'comfortable', 'the', 'room', 'was', 'spacious', 'enough', 'for', 'people']]\n"
          ],
          "name": "stdout"
        }
      ]
    },
    {
      "cell_type": "code",
      "metadata": {
        "scrolled": true,
        "id": "ao-yQX7yp4Z0",
        "colab_type": "code",
        "colab": {
          "base_uri": "https://localhost:8080/",
          "height": 53
        },
        "outputId": "9b17bbb7-0262-4c24-ff98-6738a671a303"
      },
      "source": [
        "%%time\n",
        "model1 = Word2Vec(data_words1)"
      ],
      "execution_count": 10,
      "outputs": [
        {
          "output_type": "stream",
          "text": [
            "CPU times: user 530 ms, sys: 7.06 ms, total: 537 ms\n",
            "Wall time: 333 ms\n"
          ],
          "name": "stdout"
        }
      ]
    },
    {
      "cell_type": "code",
      "metadata": {
        "id": "GT0BL6vFp4Z2",
        "colab_type": "code",
        "colab": {
          "base_uri": "https://localhost:8080/",
          "height": 53
        },
        "outputId": "b033e94c-5631-4fa6-e2f8-901d64480d38"
      },
      "source": [
        "%%time\n",
        "model2 = Word2Vec(data_words2)"
      ],
      "execution_count": 11,
      "outputs": [
        {
          "output_type": "stream",
          "text": [
            "CPU times: user 507 ms, sys: 6.29 ms, total: 513 ms\n",
            "Wall time: 313 ms\n"
          ],
          "name": "stdout"
        }
      ]
    },
    {
      "cell_type": "code",
      "metadata": {
        "id": "IuJeCOVIp4Z4",
        "colab_type": "code",
        "colab": {
          "base_uri": "https://localhost:8080/",
          "height": 91
        },
        "outputId": "81d4a13b-ebc7-49af-c70f-d43b3300c538"
      },
      "source": [
        "model1.wv.similarity('service', \"room\")"
      ],
      "execution_count": 31,
      "outputs": [
        {
          "output_type": "stream",
          "text": [
            "/usr/local/lib/python3.6/dist-packages/gensim/matutils.py:737: FutureWarning: Conversion of the second argument of issubdtype from `int` to `np.signedinteger` is deprecated. In future, it will be treated as `np.int64 == np.dtype(int).type`.\n",
            "  if np.issubdtype(vec.dtype, np.int):\n"
          ],
          "name": "stderr"
        },
        {
          "output_type": "execute_result",
          "data": {
            "text/plain": [
              "0.9995044"
            ]
          },
          "metadata": {
            "tags": []
          },
          "execution_count": 31
        }
      ]
    },
    {
      "cell_type": "code",
      "metadata": {
        "id": "X1bWl-Ob5hli",
        "colab_type": "code",
        "colab": {
          "base_uri": "https://localhost:8080/",
          "height": 91
        },
        "outputId": "8f2c9535-d3f1-4605-a0b3-d3b38a654654"
      },
      "source": [
        "model1.wv.similarity('location', \"room\")"
      ],
      "execution_count": 32,
      "outputs": [
        {
          "output_type": "stream",
          "text": [
            "/usr/local/lib/python3.6/dist-packages/gensim/matutils.py:737: FutureWarning: Conversion of the second argument of issubdtype from `int` to `np.signedinteger` is deprecated. In future, it will be treated as `np.int64 == np.dtype(int).type`.\n",
            "  if np.issubdtype(vec.dtype, np.int):\n"
          ],
          "name": "stderr"
        },
        {
          "output_type": "execute_result",
          "data": {
            "text/plain": [
              "0.9995245"
            ]
          },
          "metadata": {
            "tags": []
          },
          "execution_count": 32
        }
      ]
    },
    {
      "cell_type": "code",
      "metadata": {
        "id": "a0U_rpv25hVv",
        "colab_type": "code",
        "colab": {
          "base_uri": "https://localhost:8080/",
          "height": 91
        },
        "outputId": "f4764af1-daef-4ebc-c4b9-72eea9dcc761"
      },
      "source": [
        "model1.wv.similarity('service', \"travel\")"
      ],
      "execution_count": 33,
      "outputs": [
        {
          "output_type": "stream",
          "text": [
            "/usr/local/lib/python3.6/dist-packages/gensim/matutils.py:737: FutureWarning: Conversion of the second argument of issubdtype from `int` to `np.signedinteger` is deprecated. In future, it will be treated as `np.int64 == np.dtype(int).type`.\n",
            "  if np.issubdtype(vec.dtype, np.int):\n"
          ],
          "name": "stderr"
        },
        {
          "output_type": "execute_result",
          "data": {
            "text/plain": [
              "0.99949396"
            ]
          },
          "metadata": {
            "tags": []
          },
          "execution_count": 33
        }
      ]
    },
    {
      "cell_type": "code",
      "metadata": {
        "id": "QIs7gVUrp4Z6",
        "colab_type": "code",
        "colab": {
          "base_uri": "https://localhost:8080/",
          "height": 253
        },
        "outputId": "0a6a450b-7b84-43ca-e402-3edb796dfd26"
      },
      "source": [
        "# 부정적 리뷰 토픽 연관단어 도출\n",
        "model1.wv.most_similar(\"service\")"
      ],
      "execution_count": 35,
      "outputs": [
        {
          "output_type": "stream",
          "text": [
            "/usr/local/lib/python3.6/dist-packages/gensim/matutils.py:737: FutureWarning: Conversion of the second argument of issubdtype from `int` to `np.signedinteger` is deprecated. In future, it will be treated as `np.int64 == np.dtype(int).type`.\n",
            "  if np.issubdtype(vec.dtype, np.int):\n"
          ],
          "name": "stderr"
        },
        {
          "output_type": "execute_result",
          "data": {
            "text/plain": [
              "[('off', 0.9999016523361206),\n",
              " ('also', 0.9998975992202759),\n",
              " ('with', 0.9998959302902222),\n",
              " ('which', 0.999893307685852),\n",
              " ('people', 0.9998897314071655),\n",
              " ('and', 0.999885082244873),\n",
              " ('for', 0.9998837113380432),\n",
              " ('from', 0.9998797178268433),\n",
              " ('breakfast', 0.9998788237571716),\n",
              " ('than', 0.9998758435249329)]"
            ]
          },
          "metadata": {
            "tags": []
          },
          "execution_count": 35
        }
      ]
    },
    {
      "cell_type": "code",
      "metadata": {
        "id": "LC76c2ol6LQT",
        "colab_type": "code",
        "colab": {
          "base_uri": "https://localhost:8080/",
          "height": 253
        },
        "outputId": "7d776efc-45d4-4f48-9cba-92d2a210d71f"
      },
      "source": [
        "model1.wv.most_similar(\"room\")"
      ],
      "execution_count": 36,
      "outputs": [
        {
          "output_type": "stream",
          "text": [
            "/usr/local/lib/python3.6/dist-packages/gensim/matutils.py:737: FutureWarning: Conversion of the second argument of issubdtype from `int` to `np.signedinteger` is deprecated. In future, it will be treated as `np.int64 == np.dtype(int).type`.\n",
            "  if np.issubdtype(vec.dtype, np.int):\n"
          ],
          "name": "stderr"
        },
        {
          "output_type": "execute_result",
          "data": {
            "text/plain": [
              "[('bed', 0.9997918009757996),\n",
              " ('too', 0.9997463226318359),\n",
              " ('bathroom', 0.9997434616088867),\n",
              " ('very', 0.9997321367263794),\n",
              " ('was', 0.9997041821479797),\n",
              " ('little', 0.9996824860572815),\n",
              " ('bit', 0.999681830406189),\n",
              " ('shower', 0.9996591806411743),\n",
              " ('rooms', 0.9996573328971863),\n",
              " ('tiny', 0.9996545910835266)]"
            ]
          },
          "metadata": {
            "tags": []
          },
          "execution_count": 36
        }
      ]
    },
    {
      "cell_type": "code",
      "metadata": {
        "id": "NtlUKilx6K9D",
        "colab_type": "code",
        "colab": {
          "base_uri": "https://localhost:8080/",
          "height": 253
        },
        "outputId": "b077c43c-db79-4e4e-e90d-672c21a662f6"
      },
      "source": [
        "model1.wv.most_similar(\"location\")"
      ],
      "execution_count": 37,
      "outputs": [
        {
          "output_type": "stream",
          "text": [
            "/usr/local/lib/python3.6/dist-packages/gensim/matutils.py:737: FutureWarning: Conversion of the second argument of issubdtype from `int` to `np.signedinteger` is deprecated. In future, it will be treated as `np.int64 == np.dtype(int).type`.\n",
            "  if np.issubdtype(vec.dtype, np.int):\n"
          ],
          "name": "stderr"
        },
        {
          "output_type": "execute_result",
          "data": {
            "text/plain": [
              "[('quite', 0.999886155128479),\n",
              " ('area', 0.9998762011528015),\n",
              " ('people', 0.9998703002929688),\n",
              " ('just', 0.9998691082000732),\n",
              " ('noisy', 0.9998619556427002),\n",
              " ('really', 0.9998580813407898),\n",
              " ('without', 0.9998519420623779),\n",
              " ('service', 0.999850869178772),\n",
              " ('old', 0.9998503923416138),\n",
              " ('price', 0.9998491406440735)]"
            ]
          },
          "metadata": {
            "tags": []
          },
          "execution_count": 37
        }
      ]
    },
    {
      "cell_type": "code",
      "metadata": {
        "id": "DYFwrSx_6KvS",
        "colab_type": "code",
        "colab": {
          "base_uri": "https://localhost:8080/",
          "height": 253
        },
        "outputId": "34b25951-1728-435a-ed1e-296e2ed24644"
      },
      "source": [
        "model1.wv.most_similar(\"transport\")"
      ],
      "execution_count": 38,
      "outputs": [
        {
          "output_type": "stream",
          "text": [
            "/usr/local/lib/python3.6/dist-packages/gensim/matutils.py:737: FutureWarning: Conversion of the second argument of issubdtype from `int` to `np.signedinteger` is deprecated. In future, it will be treated as `np.int64 == np.dtype(int).type`.\n",
            "  if np.issubdtype(vec.dtype, np.int):\n"
          ],
          "name": "stderr"
        },
        {
          "output_type": "execute_result",
          "data": {
            "text/plain": [
              "[('access', 0.9994739294052124),\n",
              " ('open', 0.9994422793388367),\n",
              " ('didn', 0.9994398355484009),\n",
              " ('after', 0.9994338154792786),\n",
              " ('by', 0.9994262456893921),\n",
              " ('being', 0.9994248747825623),\n",
              " ('back', 0.999412477016449),\n",
              " ('into', 0.9994069933891296),\n",
              " ('car', 0.9994068145751953),\n",
              " ('more', 0.9994059801101685)]"
            ]
          },
          "metadata": {
            "tags": []
          },
          "execution_count": 38
        }
      ]
    },
    {
      "cell_type": "code",
      "metadata": {
        "id": "yCgxPT3Hp4Z7",
        "colab_type": "code",
        "colab": {
          "base_uri": "https://localhost:8080/",
          "height": 253
        },
        "outputId": "395e294a-b0bd-4b73-c496-ad4d1418c408"
      },
      "source": [
        "# 긍정적 리뷰 토픽 연관단어 도출\n",
        "model2.wv.most_similar(\"service\")"
      ],
      "execution_count": 39,
      "outputs": [
        {
          "output_type": "stream",
          "text": [
            "/usr/local/lib/python3.6/dist-packages/gensim/matutils.py:737: FutureWarning: Conversion of the second argument of issubdtype from `int` to `np.signedinteger` is deprecated. In future, it will be treated as `np.int64 == np.dtype(int).type`.\n",
            "  if np.issubdtype(vec.dtype, np.int):\n"
          ],
          "name": "stderr"
        },
        {
          "output_type": "execute_result",
          "data": {
            "text/plain": [
              "[('facilities', 0.9997658729553223),\n",
              " ('amazing', 0.9997528195381165),\n",
              " ('modern', 0.9997255802154541),\n",
              " ('welcoming', 0.9997169971466064),\n",
              " ('are', 0.999705970287323),\n",
              " ('quiet', 0.9996815919876099),\n",
              " ('really', 0.9996749758720398),\n",
              " ('lovely', 0.9996562600135803),\n",
              " ('rooms', 0.9996433258056641),\n",
              " ('beds', 0.9996392726898193)]"
            ]
          },
          "metadata": {
            "tags": []
          },
          "execution_count": 39
        }
      ]
    },
    {
      "cell_type": "code",
      "metadata": {
        "id": "-TbO9TtVqKfn",
        "colab_type": "code",
        "colab": {
          "base_uri": "https://localhost:8080/",
          "height": 253
        },
        "outputId": "973e1f41-8d6b-43b0-dda3-030d9bb060cc"
      },
      "source": [
        "model2.wv.most_similar(\"room\")"
      ],
      "execution_count": 40,
      "outputs": [
        {
          "output_type": "stream",
          "text": [
            "/usr/local/lib/python3.6/dist-packages/gensim/matutils.py:737: FutureWarning: Conversion of the second argument of issubdtype from `int` to `np.signedinteger` is deprecated. In future, it will be treated as `np.int64 == np.dtype(int).type`.\n",
            "  if np.issubdtype(vec.dtype, np.int):\n"
          ],
          "name": "stderr"
        },
        {
          "output_type": "execute_result",
          "data": {
            "text/plain": [
              "[('spacious', 0.999547004699707),\n",
              " ('bathroom', 0.9995203018188477),\n",
              " ('rooms', 0.9994654655456543),\n",
              " ('beds', 0.9993888735771179),\n",
              " ('extremely', 0.9992818832397461),\n",
              " ('super', 0.9992531538009644),\n",
              " ('breakfast', 0.9992529153823853),\n",
              " ('size', 0.9992381930351257),\n",
              " ('modern', 0.9992203712463379),\n",
              " ('bed', 0.9991369843482971)]"
            ]
          },
          "metadata": {
            "tags": []
          },
          "execution_count": 40
        }
      ]
    },
    {
      "cell_type": "code",
      "metadata": {
        "id": "IC4GGobc6kCy",
        "colab_type": "code",
        "colab": {
          "base_uri": "https://localhost:8080/",
          "height": 253
        },
        "outputId": "34121193-e107-4e96-9cc9-29dac3d38651"
      },
      "source": [
        "model2.wv.most_similar(\"location\")"
      ],
      "execution_count": 41,
      "outputs": [
        {
          "output_type": "stream",
          "text": [
            "/usr/local/lib/python3.6/dist-packages/gensim/matutils.py:737: FutureWarning: Conversion of the second argument of issubdtype from `int` to `np.signedinteger` is deprecated. In future, it will be treated as `np.int64 == np.dtype(int).type`.\n",
            "  if np.issubdtype(vec.dtype, np.int):\n"
          ],
          "name": "stderr"
        },
        {
          "output_type": "execute_result",
          "data": {
            "text/plain": [
              "[('good', 0.9984912872314453),\n",
              " ('great', 0.9983866214752197),\n",
              " ('and', 0.9983680844306946),\n",
              " ('excellent', 0.997833788394928),\n",
              " ('nice', 0.9968424439430237),\n",
              " ('the', 0.9962975382804871),\n",
              " ('comfortable', 0.9962686896324158),\n",
              " ('breakfast', 0.9962402582168579),\n",
              " ('is', 0.9961481094360352),\n",
              " ('staffs', 0.996056318283081)]"
            ]
          },
          "metadata": {
            "tags": []
          },
          "execution_count": 41
        }
      ]
    },
    {
      "cell_type": "code",
      "metadata": {
        "id": "oQ2GHep86nDZ",
        "colab_type": "code",
        "colab": {
          "base_uri": "https://localhost:8080/",
          "height": 253
        },
        "outputId": "feedaa2c-7577-4552-ea6f-bb6baa6111d1"
      },
      "source": [
        "model2.wv.most_similar(\"transport\")"
      ],
      "execution_count": 42,
      "outputs": [
        {
          "output_type": "stream",
          "text": [
            "/usr/local/lib/python3.6/dist-packages/gensim/matutils.py:737: FutureWarning: Conversion of the second argument of issubdtype from `int` to `np.signedinteger` is deprecated. In future, it will be treated as `np.int64 == np.dtype(int).type`.\n",
            "  if np.issubdtype(vec.dtype, np.int):\n"
          ],
          "name": "stderr"
        },
        {
          "output_type": "execute_result",
          "data": {
            "text/plain": [
              "[('kensington', 0.9997055530548096),\n",
              " ('lots', 0.9996972680091858),\n",
              " ('nearby', 0.9996722340583801),\n",
              " ('many', 0.9996660351753235),\n",
              " ('proximity', 0.9996626377105713),\n",
              " ('right', 0.9996550679206848),\n",
              " ('shops', 0.9996341466903687),\n",
              " ('subway', 0.9996126890182495),\n",
              " ('cafes', 0.9996094107627869),\n",
              " ('queensway', 0.9995921850204468)]"
            ]
          },
          "metadata": {
            "tags": []
          },
          "execution_count": 42
        }
      ]
    },
    {
      "cell_type": "code",
      "metadata": {
        "id": "GMv_VrY96qU4",
        "colab_type": "code",
        "colab": {}
      },
      "source": [
        ""
      ],
      "execution_count": 0,
      "outputs": []
    }
  ]
}
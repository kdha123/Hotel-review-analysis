{
  "nbformat": 4,
  "nbformat_minor": 0,
  "metadata": {
    "colab": {
      "name": "유럽 이용동기 W2V.ipynb",
      "version": "0.3.2",
      "provenance": [],
      "collapsed_sections": []
    },
    "language_info": {
      "codemirror_mode": {
        "name": "ipython",
        "version": 3
      },
      "file_extension": ".py",
      "mimetype": "text/x-python",
      "name": "python",
      "nbconvert_exporter": "python",
      "pygments_lexer": "ipython3",
      "version": "3.6.8"
    },
    "kernelspec": {
      "display_name": "tf37c",
      "language": "python",
      "name": "tf37c"
    }
  },
  "cells": [
    {
      "cell_type": "code",
      "metadata": {
        "id": "SyVtwAMW9eoE",
        "colab_type": "code",
        "outputId": "fa989867-23e6-46b1-8ddc-01ecd5ecf650",
        "colab": {
          "base_uri": "https://localhost:8080/",
          "height": 53
        }
      },
      "source": [
        "# -*- coding: utf-8 -*-\n",
        "%matplotlib inline\n",
        "import numpy as np\n",
        "import matplotlib.pyplot as plt\n",
        "import re\n",
        "from string import digits\n",
        "import nltk; nltk.download('stopwords')\n",
        "import os\n",
        "from pprint import pprint\n",
        "\n",
        "# Gensim\n",
        "import gensim\n",
        "import gensim.corpora as corpora\n",
        "from gensim.utils import simple_preprocess\n",
        "from gensim.models import CoherenceModel\n",
        "\n",
        "import warnings\n",
        "warnings.filterwarnings(\"ignore\",category=DeprecationWarning)\n"
      ],
      "execution_count": 1,
      "outputs": [
        {
          "output_type": "stream",
          "text": [
            "[nltk_data] Downloading package stopwords to /root/nltk_data...\n",
            "[nltk_data]   Unzipping corpora/stopwords.zip.\n"
          ],
          "name": "stdout"
        }
      ]
    },
    {
      "cell_type": "code",
      "metadata": {
        "scrolled": true,
        "id": "hBCSKR5t8K49",
        "colab_type": "code",
        "outputId": "4e6e3fa3-0f66-4e10-ef34-d45c27ad423c",
        "colab": {
          "base_uri": "https://localhost:8080/",
          "height": 683
        }
      },
      "source": [
        "import pandas as pd\n",
        "hotel_review = pd.read_csv('Hotel_Reviews.csv')\n",
        "hotel_review.head()"
      ],
      "execution_count": 2,
      "outputs": [
        {
          "output_type": "execute_result",
          "data": {
            "text/html": [
              "<div>\n",
              "<style scoped>\n",
              "    .dataframe tbody tr th:only-of-type {\n",
              "        vertical-align: middle;\n",
              "    }\n",
              "\n",
              "    .dataframe tbody tr th {\n",
              "        vertical-align: top;\n",
              "    }\n",
              "\n",
              "    .dataframe thead th {\n",
              "        text-align: right;\n",
              "    }\n",
              "</style>\n",
              "<table border=\"1\" class=\"dataframe\">\n",
              "  <thead>\n",
              "    <tr style=\"text-align: right;\">\n",
              "      <th></th>\n",
              "      <th>Hotel_Address</th>\n",
              "      <th>Additional_Number_of_Scoring</th>\n",
              "      <th>Review_Date</th>\n",
              "      <th>Average_Score</th>\n",
              "      <th>Hotel_Name</th>\n",
              "      <th>Reviewer_Nationality</th>\n",
              "      <th>Negative_Review</th>\n",
              "      <th>Review_Total_Negative_Word_Counts</th>\n",
              "      <th>Total_Number_of_Reviews</th>\n",
              "      <th>Positive_Review</th>\n",
              "      <th>Review_Total_Positive_Word_Counts</th>\n",
              "      <th>Total_Number_of_Reviews_Reviewer_Has_Given</th>\n",
              "      <th>Reviewer_Score</th>\n",
              "      <th>Tags</th>\n",
              "      <th>days_since_review</th>\n",
              "      <th>lat</th>\n",
              "      <th>lng</th>\n",
              "    </tr>\n",
              "  </thead>\n",
              "  <tbody>\n",
              "    <tr>\n",
              "      <th>0</th>\n",
              "      <td>s Gravesandestraat 55 Oost 1092 AA Amsterdam ...</td>\n",
              "      <td>194</td>\n",
              "      <td>8/3/2017</td>\n",
              "      <td>7.7</td>\n",
              "      <td>Hotel Arena</td>\n",
              "      <td>Russia</td>\n",
              "      <td>I am so angry that i made this post available...</td>\n",
              "      <td>397.0</td>\n",
              "      <td>1403.0</td>\n",
              "      <td>Only the park outside of the hotel was beauti...</td>\n",
              "      <td>11.0</td>\n",
              "      <td>7.0</td>\n",
              "      <td>2.9</td>\n",
              "      <td>[' Leisure trip ', ' Couple ', ' Duplex Double...</td>\n",
              "      <td>0 days</td>\n",
              "      <td>52.360576</td>\n",
              "      <td>4.915968</td>\n",
              "    </tr>\n",
              "    <tr>\n",
              "      <th>1</th>\n",
              "      <td>s Gravesandestraat 55 Oost 1092 AA Amsterdam ...</td>\n",
              "      <td>194</td>\n",
              "      <td>8/3/2017</td>\n",
              "      <td>7.7</td>\n",
              "      <td>Hotel Arena</td>\n",
              "      <td>Ireland</td>\n",
              "      <td>No Negative</td>\n",
              "      <td>0.0</td>\n",
              "      <td>1403.0</td>\n",
              "      <td>No real complaints the hotel was great great ...</td>\n",
              "      <td>105.0</td>\n",
              "      <td>7.0</td>\n",
              "      <td>7.5</td>\n",
              "      <td>[' Leisure trip ', ' Couple ', ' Duplex Double...</td>\n",
              "      <td>0 days</td>\n",
              "      <td>52.360576</td>\n",
              "      <td>4.915968</td>\n",
              "    </tr>\n",
              "    <tr>\n",
              "      <th>2</th>\n",
              "      <td>s Gravesandestraat 55 Oost 1092 AA Amsterdam ...</td>\n",
              "      <td>194</td>\n",
              "      <td>7/31/2017</td>\n",
              "      <td>7.7</td>\n",
              "      <td>Hotel Arena</td>\n",
              "      <td>Australia</td>\n",
              "      <td>Rooms are nice but for elderly a bit difficul...</td>\n",
              "      <td>42.0</td>\n",
              "      <td>1403.0</td>\n",
              "      <td>Location was good and staff were ok It is cut...</td>\n",
              "      <td>21.0</td>\n",
              "      <td>9.0</td>\n",
              "      <td>7.1</td>\n",
              "      <td>[' Leisure trip ', ' Family with young childre...</td>\n",
              "      <td>3 days</td>\n",
              "      <td>52.360576</td>\n",
              "      <td>4.915968</td>\n",
              "    </tr>\n",
              "    <tr>\n",
              "      <th>3</th>\n",
              "      <td>s Gravesandestraat 55 Oost 1092 AA Amsterdam ...</td>\n",
              "      <td>194</td>\n",
              "      <td>7/31/2017</td>\n",
              "      <td>7.7</td>\n",
              "      <td>Hotel Arena</td>\n",
              "      <td>United Kingdom</td>\n",
              "      <td>My room was dirty and I was afraid to walk ba...</td>\n",
              "      <td>210.0</td>\n",
              "      <td>1403.0</td>\n",
              "      <td>Great location in nice surroundings the bar a...</td>\n",
              "      <td>26.0</td>\n",
              "      <td>1.0</td>\n",
              "      <td>3.8</td>\n",
              "      <td>[' Leisure trip ', ' Solo traveler ', ' Duplex...</td>\n",
              "      <td>3 days</td>\n",
              "      <td>52.360576</td>\n",
              "      <td>4.915968</td>\n",
              "    </tr>\n",
              "    <tr>\n",
              "      <th>4</th>\n",
              "      <td>s Gravesandestraat 55 Oost 1092 AA Amsterdam ...</td>\n",
              "      <td>194</td>\n",
              "      <td>7/24/2017</td>\n",
              "      <td>7.7</td>\n",
              "      <td>Hotel Arena</td>\n",
              "      <td>New Zealand</td>\n",
              "      <td>You When I booked with your company on line y...</td>\n",
              "      <td>140.0</td>\n",
              "      <td>1403.0</td>\n",
              "      <td>Amazing location and building Romantic setting</td>\n",
              "      <td>8.0</td>\n",
              "      <td>3.0</td>\n",
              "      <td>6.7</td>\n",
              "      <td>[' Leisure trip ', ' Couple ', ' Suite ', ' St...</td>\n",
              "      <td>10 days</td>\n",
              "      <td>52.360576</td>\n",
              "      <td>4.915968</td>\n",
              "    </tr>\n",
              "  </tbody>\n",
              "</table>\n",
              "</div>"
            ],
            "text/plain": [
              "                                       Hotel_Address  ...       lng\n",
              "0   s Gravesandestraat 55 Oost 1092 AA Amsterdam ...  ...  4.915968\n",
              "1   s Gravesandestraat 55 Oost 1092 AA Amsterdam ...  ...  4.915968\n",
              "2   s Gravesandestraat 55 Oost 1092 AA Amsterdam ...  ...  4.915968\n",
              "3   s Gravesandestraat 55 Oost 1092 AA Amsterdam ...  ...  4.915968\n",
              "4   s Gravesandestraat 55 Oost 1092 AA Amsterdam ...  ...  4.915968\n",
              "\n",
              "[5 rows x 17 columns]"
            ]
          },
          "metadata": {
            "tags": []
          },
          "execution_count": 2
        }
      ]
    },
    {
      "cell_type": "code",
      "metadata": {
        "id": "EhEXpBDs_Fs4",
        "colab_type": "code",
        "outputId": "7bdef3e2-92a3-4d44-fe99-60223741dcab",
        "colab": {
          "base_uri": "https://localhost:8080/",
          "height": 55
        }
      },
      "source": [
        "# 나라 중복값 확인\n",
        "w_count  = {}\n",
        "for lst in hotel_review['Reviewer_Nationality']:\n",
        "    try: w_count[lst] += 1\n",
        "    except: w_count[lst]=1\n",
        "print(w_count)\n",
        "\n",
        "# 유럽  = United Kingdom, Belgum, Norway, France, Italy, Netherlands, Germany, Denmark, Portugal, Sweden, Romaina, Greece, Bulgaria, Russia\n",
        "# 아시아 = India, Malaysia, China, Turkey, Australia, New Zealand, Thailand, Singapore, Japan, South Korea, Taiwan, Hong Kong\n",
        "# 중동, 아프리카 = Israel, United Arab Emirates, South Africa, Saudi Arabia, Bahrain, Kuwait\n",
        "# 아메리카 = United Stated of America, Canada, Argentina, Brazil, Mexico"
      ],
      "execution_count": 3,
      "outputs": [
        {
          "output_type": "stream",
          "text": [
            "{' Russia ': 28, ' Ireland ': 282, ' Australia ': 351, ' United Kingdom ': 5159, ' New Zealand ': 43, ' Poland ': 29, ' Belgium ': 64, ' Norway ': 53, ' France ': 94, ' Italy ': 68, ' Canada ': 142, ' Netherlands ': 100, ' Germany ': 83, ' United States of America ': 547, ' Hungary ': 18, ' Israel ': 71, ' Switzerland ': 112, ' India ': 71, ' United Arab Emirates ': 137, ' Malaysia ': 40, ' Denmark ': 23, ' South Africa ': 57, ' Rwanda ': 1, ' Finland ': 25, ' Portugal ': 16, ' Luxembourg ': 19, ' Spain ': 57, ' Malta ': 19, ' China ': 49, ' Turkey ': 45, ' Ukraine ': 3, ' Gibraltar ': 1, ' Argentina ': 5, ' Abkhazia Georgia ': 4, ' Isle of Man ': 12, ' Sweden ': 52, ' Croatia ': 11, ' Saudi Arabia ': 128, ' Lithuania ': 4, ' Slovenia ': 2, ' Panama ': 2, ' Austria ': 25, ' Brazil ': 23, ' Taiwan ': 11, ' Iceland ': 13, ' Iran ': 5, ' Liechtenstein ': 1, ' Chile ': 3, ' Hong Kong ': 57, ' United States Minor Outlying Islands ': 3, ' Morocco ': 3, ' Oman ': 16, ' Lebanon ': 16, ' Qatar ': 28, ' Nigeria ': 26, ' Romania ': 21, ' Czech Republic ': 14, ' Greece ': 38, ' Thailand ': 26, ' Singapore ': 47, ' Guernsey ': 6, ' Latvia ': 2, ' Namibia ': 5, ' Japan ': 21, ' Egypt ': 27, ' Slovakia ': 4, ' South Korea ': 12, ' Kuwait ': 55, ' Bahrain ': 21, ' Jersey ': 20, ' Jordan ': 12, ' Bulgaria ': 8, ' Cyprus ': 28, ' Albania ': 4, ' Estonia ': 5, ' Serbia ': 2, ' Belarus ': 2, ' Puerto Rico ': 4, ' Sudan ': 2, ' Sri Lanka ': 7, ' Indonesia ': 14, ' Honduras ': 1, ' Philippines ': 11, ' Montenegro ': 1, ' Uruguay ': 2, ' Brunei ': 2, ' Pakistan ': 8, ' Kosovo ': 1, ' Azerbaijan ': 2, ' ': 4, ' Botswana ': 1, ' Tanzania ': 2, ' Bangladesh ': 3, ' Trinidad and Tobago ': 4, ' Palestinian Territory ': 1, ' Peru ': 2, ' Mexico ': 5, ' Kenya ': 3, ' Zimbabwe ': 2, ' Macedonia ': 1, ' Georgia ': 1, ' Bermuda ': 3, ' Costa Rica ': 2, ' Bahamas ': 1, ' Maldives ': 1, ' Barbados ': 1, ' Libya ': 1, ' Fiji ': 1, ' Angola ': 2, ' Kazakhstan ': 1, ' Bosnia and Herzegovina ': 1, ' Colombia ': 1, ' Armenia ': 1, ' Vietnam ': 1, ' Iraq ': 1, ' Monaco ': 1, ' Uganda ': 1, ' Togo ': 1, ' Guatemala ': 1}\n"
          ],
          "name": "stdout"
        }
      ]
    },
    {
      "cell_type": "code",
      "metadata": {
        "id": "nR1vvvZvC-6s",
        "colab_type": "code",
        "outputId": "137cedc7-9ba0-4a70-acfe-bd2a2af72cc6",
        "colab": {
          "base_uri": "https://localhost:8080/",
          "height": 2785
        }
      },
      "source": [
        "# 대륙별 행 추출\n",
        "hotel_review_eu = hotel_review[['Reviewer_Nationality',\"Negative_Review\",\"Positive_Review\"]]\n",
        "Ru = hotel_review_eu[hotel_review_eu['Reviewer_Nationality']  == \" Russia \"]\n",
        "Un = hotel_review_eu[hotel_review_eu['Reviewer_Nationality']  == \" United Kingdom \"]\n",
        "Be = hotel_review_eu[hotel_review_eu['Reviewer_Nationality']  == \" Belgum \"]\n",
        "No = hotel_review_eu[hotel_review_eu['Reviewer_Nationality']  == \" Norway \"]\n",
        "Fr = hotel_review_eu[hotel_review_eu['Reviewer_Nationality']  == \" France \"]\n",
        "It = hotel_review_eu[hotel_review_eu['Reviewer_Nationality']  == \" Italy \"]\n",
        "Ne = hotel_review_eu[hotel_review_eu['Reviewer_Nationality']  == \" Netherlands \"]\n",
        "De = hotel_review_eu[hotel_review_eu['Reviewer_Nationality']  == \" Denmark \"]\n",
        "Po = hotel_review_eu[hotel_review_eu['Reviewer_Nationality']  == \" Portugal \"]\n",
        "Sw = hotel_review_eu[hotel_review_eu['Reviewer_Nationality']  == \" Sweden \"]\n",
        "RO = hotel_review_eu[hotel_review_eu['Reviewer_Nationality']  == \" Romaina \"]\n",
        "Gr = hotel_review_eu[hotel_review_eu['Reviewer_Nationality']  == \" Greece \"]\n",
        "Bu = hotel_review_eu[hotel_review_eu['Reviewer_Nationality']  == \" Bulgaira \"]\n",
        "EU = pd.concat([Ru,Un,Be,No,Fr,It,Ne,De,Po,Sw,RO,Gr,Bu])\n",
        "EU"
      ],
      "execution_count": 4,
      "outputs": [
        {
          "output_type": "execute_result",
          "data": {
            "text/html": [
              "<div>\n",
              "<style scoped>\n",
              "    .dataframe tbody tr th:only-of-type {\n",
              "        vertical-align: middle;\n",
              "    }\n",
              "\n",
              "    .dataframe tbody tr th {\n",
              "        vertical-align: top;\n",
              "    }\n",
              "\n",
              "    .dataframe thead th {\n",
              "        text-align: right;\n",
              "    }\n",
              "</style>\n",
              "<table border=\"1\" class=\"dataframe\">\n",
              "  <thead>\n",
              "    <tr style=\"text-align: right;\">\n",
              "      <th></th>\n",
              "      <th>Reviewer_Nationality</th>\n",
              "      <th>Negative_Review</th>\n",
              "      <th>Positive_Review</th>\n",
              "    </tr>\n",
              "  </thead>\n",
              "  <tbody>\n",
              "    <tr>\n",
              "      <th>0</th>\n",
              "      <td>Russia</td>\n",
              "      <td>I am so angry that i made this post available...</td>\n",
              "      <td>Only the park outside of the hotel was beauti...</td>\n",
              "    </tr>\n",
              "    <tr>\n",
              "      <th>37</th>\n",
              "      <td>Russia</td>\n",
              "      <td>The glass wall separating the bathroom and th...</td>\n",
              "      <td>Very nice hotel located in a park Ca 30 minut...</td>\n",
              "    </tr>\n",
              "    <tr>\n",
              "      <th>191</th>\n",
              "      <td>Russia</td>\n",
              "      <td>Arena hotel is located in a historical buildi...</td>\n",
              "      <td>Location is good it takes 20 mins by feet and...</td>\n",
              "    </tr>\n",
              "    <tr>\n",
              "      <th>213</th>\n",
              "      <td>Russia</td>\n",
              "      <td>The room with stairs was quite uncomfortable ...</td>\n",
              "      <td>Very nice property stylish hotel friendly sta...</td>\n",
              "    </tr>\n",
              "    <tr>\n",
              "      <th>255</th>\n",
              "      <td>Russia</td>\n",
              "      <td>No Negative</td>\n",
              "      <td>Standard room is amazing location is adorable...</td>\n",
              "    </tr>\n",
              "    <tr>\n",
              "      <th>520</th>\n",
              "      <td>Russia</td>\n",
              "      <td>Housekeeping staff were rude shower had water...</td>\n",
              "      <td>Great food very nice bar staff</td>\n",
              "    </tr>\n",
              "    <tr>\n",
              "      <th>725</th>\n",
              "      <td>Russia</td>\n",
              "      <td>Got settled on the UNDERground floor without ...</td>\n",
              "      <td>No Positive</td>\n",
              "    </tr>\n",
              "    <tr>\n",
              "      <th>907</th>\n",
              "      <td>Russia</td>\n",
              "      <td>No Negative</td>\n",
              "      <td>Great location</td>\n",
              "    </tr>\n",
              "    <tr>\n",
              "      <th>1239</th>\n",
              "      <td>Russia</td>\n",
              "      <td>There is a definite problem with the smoking ...</td>\n",
              "      <td>Everything was great the service the rooms lo...</td>\n",
              "    </tr>\n",
              "    <tr>\n",
              "      <th>1471</th>\n",
              "      <td>Russia</td>\n",
              "      <td>Far from the tube</td>\n",
              "      <td>No Positive</td>\n",
              "    </tr>\n",
              "    <tr>\n",
              "      <th>1613</th>\n",
              "      <td>Russia</td>\n",
              "      <td>To me breakfast could have been of a larger v...</td>\n",
              "      <td>No Positive</td>\n",
              "    </tr>\n",
              "    <tr>\n",
              "      <th>2070</th>\n",
              "      <td>Russia</td>\n",
              "      <td>Having to share a double bed instead of twin ...</td>\n",
              "      <td>When we arrived at the hotel we were told tha...</td>\n",
              "    </tr>\n",
              "    <tr>\n",
              "      <th>2101</th>\n",
              "      <td>Russia</td>\n",
              "      <td>The ventilation system worked throughout the ...</td>\n",
              "      <td>The staff was excellent and very friendly</td>\n",
              "    </tr>\n",
              "    <tr>\n",
              "      <th>2532</th>\n",
              "      <td>Russia</td>\n",
              "      <td>15 min walk from Pasdington station My room w...</td>\n",
              "      <td>Friendly staff clean rooms nice area around b...</td>\n",
              "    </tr>\n",
              "    <tr>\n",
              "      <th>3686</th>\n",
              "      <td>Russia</td>\n",
              "      <td>The underground level room</td>\n",
              "      <td>The receptionist Julia was very helpful</td>\n",
              "    </tr>\n",
              "    <tr>\n",
              "      <th>4034</th>\n",
              "      <td>Russia</td>\n",
              "      <td>Windows are made with frosted glass so there ...</td>\n",
              "      <td>Location</td>\n",
              "    </tr>\n",
              "    <tr>\n",
              "      <th>4447</th>\n",
              "      <td>Russia</td>\n",
              "      <td>What I would suggest the hotel to look at lon...</td>\n",
              "      <td>The hotels appearance is amazing The staff wa...</td>\n",
              "    </tr>\n",
              "    <tr>\n",
              "      <th>4562</th>\n",
              "      <td>Russia</td>\n",
              "      <td>The hotel is very old and requires reconstruc...</td>\n",
              "      <td>concierge staff</td>\n",
              "    </tr>\n",
              "    <tr>\n",
              "      <th>4640</th>\n",
              "      <td>Russia</td>\n",
              "      <td>The room was too small</td>\n",
              "      <td>No Positive</td>\n",
              "    </tr>\n",
              "    <tr>\n",
              "      <th>4641</th>\n",
              "      <td>Russia</td>\n",
              "      <td>Bad quality for standard rooms</td>\n",
              "      <td>Location</td>\n",
              "    </tr>\n",
              "    <tr>\n",
              "      <th>4726</th>\n",
              "      <td>Russia</td>\n",
              "      <td>everything</td>\n",
              "      <td>nothing</td>\n",
              "    </tr>\n",
              "    <tr>\n",
              "      <th>5453</th>\n",
              "      <td>Russia</td>\n",
              "      <td>the breakfast is so basic for its price The f...</td>\n",
              "      <td>good location and big room number you also ha...</td>\n",
              "    </tr>\n",
              "    <tr>\n",
              "      <th>6591</th>\n",
              "      <td>Russia</td>\n",
              "      <td>Being in UK and doesn t have a porridge for b...</td>\n",
              "      <td>The location of the hotel</td>\n",
              "    </tr>\n",
              "    <tr>\n",
              "      <th>7797</th>\n",
              "      <td>Russia</td>\n",
              "      <td>All was good</td>\n",
              "      <td>Wonderful room at the 8th floor huge n very n...</td>\n",
              "    </tr>\n",
              "    <tr>\n",
              "      <th>7875</th>\n",
              "      <td>Russia</td>\n",
              "      <td>Room was a little small but this is Paris</td>\n",
              "      <td>Location is great Wi Fi connection is great</td>\n",
              "    </tr>\n",
              "    <tr>\n",
              "      <th>8010</th>\n",
              "      <td>Russia</td>\n",
              "      <td>This time I had a number of issues during my ...</td>\n",
              "      <td>No Positive</td>\n",
              "    </tr>\n",
              "    <tr>\n",
              "      <th>8021</th>\n",
              "      <td>Russia</td>\n",
              "      <td>No swimming pool available for guests</td>\n",
              "      <td>Location was good Room quite spacious</td>\n",
              "    </tr>\n",
              "    <tr>\n",
              "      <th>8379</th>\n",
              "      <td>Russia</td>\n",
              "      <td>No Negative</td>\n",
              "      <td>Convenient location near two tube station Ver...</td>\n",
              "    </tr>\n",
              "    <tr>\n",
              "      <th>3</th>\n",
              "      <td>United Kingdom</td>\n",
              "      <td>My room was dirty and I was afraid to walk ba...</td>\n",
              "      <td>Great location in nice surroundings the bar a...</td>\n",
              "    </tr>\n",
              "    <tr>\n",
              "      <th>6</th>\n",
              "      <td>United Kingdom</td>\n",
              "      <td>Cleaner did not change our sheet and duvet ev...</td>\n",
              "      <td>The room is spacious and bright The hotel is ...</td>\n",
              "    </tr>\n",
              "    <tr>\n",
              "      <th>...</th>\n",
              "      <td>...</td>\n",
              "      <td>...</td>\n",
              "      <td>...</td>\n",
              "    </tr>\n",
              "    <tr>\n",
              "      <th>2848</th>\n",
              "      <td>Greece</td>\n",
              "      <td>Very small room Extremely small bathroom Bad ...</td>\n",
              "      <td>Convenient location Helpful and polite staff</td>\n",
              "    </tr>\n",
              "    <tr>\n",
              "      <th>2913</th>\n",
              "      <td>Greece</td>\n",
              "      <td>Small room</td>\n",
              "      <td>Very good breakfast friendly stuff and perfec...</td>\n",
              "    </tr>\n",
              "    <tr>\n",
              "      <th>3401</th>\n",
              "      <td>Greece</td>\n",
              "      <td>Bathroom</td>\n",
              "      <td>Location staff breakfast clean room</td>\n",
              "    </tr>\n",
              "    <tr>\n",
              "      <th>3483</th>\n",
              "      <td>Greece</td>\n",
              "      <td>The room was so small although very clean</td>\n",
              "      <td>No Positive</td>\n",
              "    </tr>\n",
              "    <tr>\n",
              "      <th>3504</th>\n",
              "      <td>Greece</td>\n",
              "      <td>I would have liked a larger room and not a we...</td>\n",
              "      <td>Breakfast was great</td>\n",
              "    </tr>\n",
              "    <tr>\n",
              "      <th>3542</th>\n",
              "      <td>Greece</td>\n",
              "      <td>No Negative</td>\n",
              "      <td>Heated floor in the shower</td>\n",
              "    </tr>\n",
              "    <tr>\n",
              "      <th>3770</th>\n",
              "      <td>Greece</td>\n",
              "      <td>No Negative</td>\n",
              "      <td>The staff in this hotel were friendly accommo...</td>\n",
              "    </tr>\n",
              "    <tr>\n",
              "      <th>4088</th>\n",
              "      <td>Greece</td>\n",
              "      <td>The hotel ventilation units were just outside...</td>\n",
              "      <td>Close to the center Living in a hotel of your...</td>\n",
              "    </tr>\n",
              "    <tr>\n",
              "      <th>4106</th>\n",
              "      <td>Greece</td>\n",
              "      <td>I didn t like the breakfast for the price it ...</td>\n",
              "      <td>I liked the fact that the hotel was a lovely ...</td>\n",
              "    </tr>\n",
              "    <tr>\n",
              "      <th>4229</th>\n",
              "      <td>Greece</td>\n",
              "      <td>Unacceptable level of customer service Once w...</td>\n",
              "      <td>Great location Clean rooms</td>\n",
              "    </tr>\n",
              "    <tr>\n",
              "      <th>4253</th>\n",
              "      <td>Greece</td>\n",
              "      <td>No Negative</td>\n",
              "      <td>perfect location less than 1 min to Russel Sq...</td>\n",
              "    </tr>\n",
              "    <tr>\n",
              "      <th>4399</th>\n",
              "      <td>Greece</td>\n",
              "      <td>for the rate I paid it wouldn t be fair to co...</td>\n",
              "      <td>location was great and for a the room for sin...</td>\n",
              "    </tr>\n",
              "    <tr>\n",
              "      <th>4646</th>\n",
              "      <td>Greece</td>\n",
              "      <td>For that price you would expect to have tooth...</td>\n",
              "      <td>No Positive</td>\n",
              "    </tr>\n",
              "    <tr>\n",
              "      <th>4942</th>\n",
              "      <td>Greece</td>\n",
              "      <td>The rooms are too small too hot and the bathr...</td>\n",
              "      <td>I love the location of this hotel</td>\n",
              "    </tr>\n",
              "    <tr>\n",
              "      <th>5635</th>\n",
              "      <td>Greece</td>\n",
              "      <td>The windows didnt open as a result there wasn...</td>\n",
              "      <td>No Positive</td>\n",
              "    </tr>\n",
              "    <tr>\n",
              "      <th>5710</th>\n",
              "      <td>Greece</td>\n",
              "      <td>Terrible service when the room filled with wa...</td>\n",
              "      <td>Actually not a single thing</td>\n",
              "    </tr>\n",
              "    <tr>\n",
              "      <th>5728</th>\n",
              "      <td>Greece</td>\n",
              "      <td>You have to wait a lot of time to have breakf...</td>\n",
              "      <td>No Positive</td>\n",
              "    </tr>\n",
              "    <tr>\n",
              "      <th>5819</th>\n",
              "      <td>Greece</td>\n",
              "      <td>poor breakfast extra charge for the omelet wh...</td>\n",
              "      <td>Big rooms super facilities two tvs espresso m...</td>\n",
              "    </tr>\n",
              "    <tr>\n",
              "      <th>5933</th>\n",
              "      <td>Greece</td>\n",
              "      <td>No Negative</td>\n",
              "      <td>i booked a junior suite and was upgraded to p...</td>\n",
              "    </tr>\n",
              "    <tr>\n",
              "      <th>6396</th>\n",
              "      <td>Greece</td>\n",
              "      <td>No Negative</td>\n",
              "      <td>Excellent central accomodation for a stay in ...</td>\n",
              "    </tr>\n",
              "    <tr>\n",
              "      <th>6650</th>\n",
              "      <td>Greece</td>\n",
              "      <td>The room wasn t so big for four people</td>\n",
              "      <td>Location and view</td>\n",
              "    </tr>\n",
              "    <tr>\n",
              "      <th>6907</th>\n",
              "      <td>Greece</td>\n",
              "      <td>the sofa bed must be changed About the wifi I...</td>\n",
              "      <td>Nice location</td>\n",
              "    </tr>\n",
              "    <tr>\n",
              "      <th>7655</th>\n",
              "      <td>Greece</td>\n",
              "      <td>Leaving</td>\n",
              "      <td>I would say the best hotel we have stayed in ...</td>\n",
              "    </tr>\n",
              "    <tr>\n",
              "      <th>8188</th>\n",
              "      <td>Greece</td>\n",
              "      <td>the manager of hotel wants to pay all the mon...</td>\n",
              "      <td>No Positive</td>\n",
              "    </tr>\n",
              "    <tr>\n",
              "      <th>8283</th>\n",
              "      <td>Greece</td>\n",
              "      <td>Location High standard room excellent staff</td>\n",
              "      <td>Hotel confortable friendly staff</td>\n",
              "    </tr>\n",
              "    <tr>\n",
              "      <th>8292</th>\n",
              "      <td>Greece</td>\n",
              "      <td>Bad neighborhood</td>\n",
              "      <td>Spacious rooms</td>\n",
              "    </tr>\n",
              "    <tr>\n",
              "      <th>8435</th>\n",
              "      <td>Greece</td>\n",
              "      <td>The room was tiny to the point that you had t...</td>\n",
              "      <td>The stuff was lovely The lobby bar restaurant...</td>\n",
              "    </tr>\n",
              "    <tr>\n",
              "      <th>8576</th>\n",
              "      <td>Greece</td>\n",
              "      <td>Very small room difficult to move around hote...</td>\n",
              "      <td>Location not bad abt 15 minute relaxed walk t...</td>\n",
              "    </tr>\n",
              "    <tr>\n",
              "      <th>8619</th>\n",
              "      <td>Greece</td>\n",
              "      <td>The room was very very small so a couple with...</td>\n",
              "      <td>The hotel is in a fantastic location Both by ...</td>\n",
              "    </tr>\n",
              "    <tr>\n",
              "      <th>8700</th>\n",
              "      <td>Greece</td>\n",
              "      <td>Rooms are rather small still one has everythi...</td>\n",
              "      <td>Staff was extremely polite welcoming and frie...</td>\n",
              "    </tr>\n",
              "  </tbody>\n",
              "</table>\n",
              "<p>5631 rows × 3 columns</p>\n",
              "</div>"
            ],
            "text/plain": [
              "     Reviewer_Nationality  ...                                    Positive_Review\n",
              "0                 Russia   ...   Only the park outside of the hotel was beauti...\n",
              "37                Russia   ...   Very nice hotel located in a park Ca 30 minut...\n",
              "191               Russia   ...   Location is good it takes 20 mins by feet and...\n",
              "213               Russia   ...   Very nice property stylish hotel friendly sta...\n",
              "255               Russia   ...   Standard room is amazing location is adorable...\n",
              "520               Russia   ...                     Great food very nice bar staff\n",
              "725               Russia   ...                                        No Positive\n",
              "907               Russia   ...                                    Great location \n",
              "1239              Russia   ...   Everything was great the service the rooms lo...\n",
              "1471              Russia   ...                                        No Positive\n",
              "1613              Russia   ...                                        No Positive\n",
              "2070              Russia   ...   When we arrived at the hotel we were told tha...\n",
              "2101              Russia   ...         The staff was excellent and very friendly \n",
              "2532              Russia   ...   Friendly staff clean rooms nice area around b...\n",
              "3686              Russia   ...            The receptionist Julia was very helpful\n",
              "4034              Russia   ...                                           Location\n",
              "4447              Russia   ...   The hotels appearance is amazing The staff wa...\n",
              "4562              Russia   ...                                    concierge staff\n",
              "4640              Russia   ...                                        No Positive\n",
              "4641              Russia   ...                                           Location\n",
              "4726              Russia   ...                                            nothing\n",
              "5453              Russia   ...   good location and big room number you also ha...\n",
              "6591              Russia   ...                          The location of the hotel\n",
              "7797              Russia   ...   Wonderful room at the 8th floor huge n very n...\n",
              "7875              Russia   ...       Location is great Wi Fi connection is great \n",
              "8010              Russia   ...                                        No Positive\n",
              "8021              Russia   ...             Location was good Room quite spacious \n",
              "8379              Russia   ...   Convenient location near two tube station Ver...\n",
              "3         United Kingdom   ...   Great location in nice surroundings the bar a...\n",
              "6         United Kingdom   ...   The room is spacious and bright The hotel is ...\n",
              "...                   ...  ...                                                ...\n",
              "2848              Greece   ...      Convenient location Helpful and polite staff \n",
              "2913              Greece   ...   Very good breakfast friendly stuff and perfec...\n",
              "3401              Greece   ...                Location staff breakfast clean room\n",
              "3483              Greece   ...                                        No Positive\n",
              "3504              Greece   ...                                Breakfast was great\n",
              "3542              Greece   ...                         Heated floor in the shower\n",
              "3770              Greece   ...   The staff in this hotel were friendly accommo...\n",
              "4088              Greece   ...   Close to the center Living in a hotel of your...\n",
              "4106              Greece   ...   I liked the fact that the hotel was a lovely ...\n",
              "4229              Greece   ...                        Great location Clean rooms \n",
              "4253              Greece   ...   perfect location less than 1 min to Russel Sq...\n",
              "4399              Greece   ...   location was great and for a the room for sin...\n",
              "4646              Greece   ...                                        No Positive\n",
              "4942              Greece   ...                 I love the location of this hotel \n",
              "5635              Greece   ...                                        No Positive\n",
              "5710              Greece   ...                       Actually not a single thing \n",
              "5728              Greece   ...                                        No Positive\n",
              "5819              Greece   ...   Big rooms super facilities two tvs espresso m...\n",
              "5933              Greece   ...   i booked a junior suite and was upgraded to p...\n",
              "6396              Greece   ...   Excellent central accomodation for a stay in ...\n",
              "6650              Greece   ...                                 Location and view \n",
              "6907              Greece   ...                                     Nice location \n",
              "7655              Greece   ...   I would say the best hotel we have stayed in ...\n",
              "8188              Greece   ...                                        No Positive\n",
              "8283              Greece   ...                  Hotel confortable friendly staff \n",
              "8292              Greece   ...                                     Spacious rooms\n",
              "8435              Greece   ...   The stuff was lovely The lobby bar restaurant...\n",
              "8576              Greece   ...   Location not bad abt 15 minute relaxed walk t...\n",
              "8619              Greece   ...   The hotel is in a fantastic location Both by ...\n",
              "8700              Greece   ...   Staff was extremely polite welcoming and frie...\n",
              "\n",
              "[5631 rows x 3 columns]"
            ]
          },
          "metadata": {
            "tags": []
          },
          "execution_count": 4
        }
      ]
    },
    {
      "cell_type": "code",
      "metadata": {
        "id": "XGTfE9CHJtwf",
        "colab_type": "code",
        "colab": {}
      },
      "source": [
        "Negative = EU.iloc[:,1]\n",
        "Positive = EU.iloc[:,2]"
      ],
      "execution_count": 0,
      "outputs": []
    },
    {
      "cell_type": "code",
      "metadata": {
        "id": "Ltl4D6tGGlra",
        "colab_type": "code",
        "outputId": "1083bd64-dec5-417c-99b2-a34d8674fc31",
        "colab": {
          "base_uri": "https://localhost:8080/",
          "height": 485
        }
      },
      "source": [
        "Negative = [re.sub(\"\\'\", \"\", str(sent)) for sent in Negative]\n",
        "Negative = [re.sub(\"No Negative'\", \"\", str(sent)) for sent in Negative]\n",
        "pprint(Negative[:1])"
      ],
      "execution_count": 6,
      "outputs": [
        {
          "output_type": "stream",
          "text": [
            "[' I am so angry that i made this post available via all possible sites i use '\n",
            " 'when planing my trips so no one will make the mistake of booking this place '\n",
            " 'I made my booking via booking com We stayed for 6 nights in this hotel from '\n",
            " '11 to 17 July Upon arrival we were placed in a small room on the 2nd floor '\n",
            " 'of the hotel It turned out that this was not the room we booked I had '\n",
            " 'specially reserved the 2 level duplex room so that we would have a big '\n",
            " 'windows and high ceilings The room itself was ok if you don t mind the '\n",
            " 'broken window that can not be closed hello rain and a mini fridge that '\n",
            " 'contained some sort of a bio weapon at least i guessed so by the smell of it '\n",
            " 'I intimately asked to change the room and after explaining 2 times that i '\n",
            " 'booked a duplex btw it costs the same as a simple double but got way more '\n",
            " 'volume due to the high ceiling was offered a room but only the next day SO i '\n",
            " 'had to check out the next day before 11 o clock in order to get the room i '\n",
            " 'waned to Not the best way to begin your holiday So we had to wait till 13 00 '\n",
            " 'in order to check in my new room what a wonderful waist of my time The room '\n",
            " '023 i got was just as i wanted to peaceful internal garden view big window '\n",
            " 'We were tired from waiting the room so we placed our belongings and rushed '\n",
            " 'to the city In the evening it turned out that there was a constant noise in '\n",
            " 'the room i guess it was made by vibrating vent tubes or something it was '\n",
            " 'constant and annoying as hell AND it did not stop even at 2 am making it '\n",
            " 'hard to fall asleep for me and my wife I have an audio recording that i can '\n",
            " 'not attach here but if you want i can send it via e mail The next day the '\n",
            " 'technician came but was not able to determine the cause of the disturbing '\n",
            " 'sound so i was offered to change the room once again the hotel was fully '\n",
            " 'booked and they had only 1 room left the one that was smaller but seems '\n",
            " 'newer ']\n"
          ],
          "name": "stdout"
        }
      ]
    },
    {
      "cell_type": "code",
      "metadata": {
        "id": "3g0AY61jHHkR",
        "colab_type": "code",
        "outputId": "c7ba2812-1b32-4cdf-ca23-91127b540471",
        "colab": {
          "base_uri": "https://localhost:8080/",
          "height": 35
        }
      },
      "source": [
        "Positive = [re.sub(\"\\'\", \"\", str(sent1)) for sent1 in Positive]\n",
        "Positive = [re.sub(\"No Positive'\", \"\", str(sent1)) for sent1 in Positive]\n",
        "pprint(Positive[:1])"
      ],
      "execution_count": 7,
      "outputs": [
        {
          "output_type": "stream",
          "text": [
            "[' Only the park outside of the hotel was beautiful ']\n"
          ],
          "name": "stdout"
        }
      ]
    },
    {
      "cell_type": "code",
      "metadata": {
        "id": "sRVh2eqk8K69",
        "colab_type": "code",
        "colab": {}
      },
      "source": [
        "import gensim \n",
        "from gensim.models import Word2Vec"
      ],
      "execution_count": 0,
      "outputs": []
    },
    {
      "cell_type": "code",
      "metadata": {
        "id": "jPIofMvI8K6_",
        "colab_type": "code",
        "outputId": "da1ded1b-6642-412c-84c7-c6152f0290ef",
        "colab": {
          "base_uri": "https://localhost:8080/",
          "height": 73
        }
      },
      "source": [
        "def sent_to_words(sentences):\n",
        "    for sentence in sentences:\n",
        "        yield(gensim.utils.simple_preprocess(str(sentence), deacc=True))  # deacc=True removes punctuations\n",
        "\n",
        "data_words1 = list(sent_to_words(Negative))\n",
        "data_words2 = list(sent_to_words(Positive))\n",
        "\n",
        "print(data_words1[:1])\n",
        "print(data_words2[:1])"
      ],
      "execution_count": 9,
      "outputs": [
        {
          "output_type": "stream",
          "text": [
            "[['am', 'so', 'angry', 'that', 'made', 'this', 'post', 'available', 'via', 'all', 'possible', 'sites', 'use', 'when', 'planing', 'my', 'trips', 'so', 'no', 'one', 'will', 'make', 'the', 'mistake', 'of', 'booking', 'this', 'place', 'made', 'my', 'booking', 'via', 'booking', 'com', 'we', 'stayed', 'for', 'nights', 'in', 'this', 'hotel', 'from', 'to', 'july', 'upon', 'arrival', 'we', 'were', 'placed', 'in', 'small', 'room', 'on', 'the', 'nd', 'floor', 'of', 'the', 'hotel', 'it', 'turned', 'out', 'that', 'this', 'was', 'not', 'the', 'room', 'we', 'booked', 'had', 'specially', 'reserved', 'the', 'level', 'duplex', 'room', 'so', 'that', 'we', 'would', 'have', 'big', 'windows', 'and', 'high', 'ceilings', 'the', 'room', 'itself', 'was', 'ok', 'if', 'you', 'don', 'mind', 'the', 'broken', 'window', 'that', 'can', 'not', 'be', 'closed', 'hello', 'rain', 'and', 'mini', 'fridge', 'that', 'contained', 'some', 'sort', 'of', 'bio', 'weapon', 'at', 'least', 'guessed', 'so', 'by', 'the', 'smell', 'of', 'it', 'intimately', 'asked', 'to', 'change', 'the', 'room', 'and', 'after', 'explaining', 'times', 'that', 'booked', 'duplex', 'btw', 'it', 'costs', 'the', 'same', 'as', 'simple', 'double', 'but', 'got', 'way', 'more', 'volume', 'due', 'to', 'the', 'high', 'ceiling', 'was', 'offered', 'room', 'but', 'only', 'the', 'next', 'day', 'so', 'had', 'to', 'check', 'out', 'the', 'next', 'day', 'before', 'clock', 'in', 'order', 'to', 'get', 'the', 'room', 'waned', 'to', 'not', 'the', 'best', 'way', 'to', 'begin', 'your', 'holiday', 'so', 'we', 'had', 'to', 'wait', 'till', 'in', 'order', 'to', 'check', 'in', 'my', 'new', 'room', 'what', 'wonderful', 'waist', 'of', 'my', 'time', 'the', 'room', 'got', 'was', 'just', 'as', 'wanted', 'to', 'peaceful', 'internal', 'garden', 'view', 'big', 'window', 'we', 'were', 'tired', 'from', 'waiting', 'the', 'room', 'so', 'we', 'placed', 'our', 'belongings', 'and', 'rushed', 'to', 'the', 'city', 'in', 'the', 'evening', 'it', 'turned', 'out', 'that', 'there', 'was', 'constant', 'noise', 'in', 'the', 'room', 'guess', 'it', 'was', 'made', 'by', 'vibrating', 'vent', 'tubes', 'or', 'something', 'it', 'was', 'constant', 'and', 'annoying', 'as', 'hell', 'and', 'it', 'did', 'not', 'stop', 'even', 'at', 'am', 'making', 'it', 'hard', 'to', 'fall', 'asleep', 'for', 'me', 'and', 'my', 'wife', 'have', 'an', 'audio', 'recording', 'that', 'can', 'not', 'attach', 'here', 'but', 'if', 'you', 'want', 'can', 'send', 'it', 'via', 'mail', 'the', 'next', 'day', 'the', 'technician', 'came', 'but', 'was', 'not', 'able', 'to', 'determine', 'the', 'cause', 'of', 'the', 'disturbing', 'sound', 'so', 'was', 'offered', 'to', 'change', 'the', 'room', 'once', 'again', 'the', 'hotel', 'was', 'fully', 'booked', 'and', 'they', 'had', 'only', 'room', 'left', 'the', 'one', 'that', 'was', 'smaller', 'but', 'seems', 'newer']]\n",
            "[['only', 'the', 'park', 'outside', 'of', 'the', 'hotel', 'was', 'beautiful']]\n"
          ],
          "name": "stdout"
        }
      ]
    },
    {
      "cell_type": "code",
      "metadata": {
        "scrolled": false,
        "id": "Gcz0byem8K7B",
        "colab_type": "code",
        "outputId": "cef85db5-902f-4596-e100-8894dcdb57e0",
        "colab": {
          "base_uri": "https://localhost:8080/",
          "height": 53
        }
      },
      "source": [
        "%%time\n",
        "model1 = Word2Vec(data_words1)"
      ],
      "execution_count": 10,
      "outputs": [
        {
          "output_type": "stream",
          "text": [
            "CPU times: user 967 ms, sys: 10.2 ms, total: 977 ms\n",
            "Wall time: 579 ms\n"
          ],
          "name": "stdout"
        }
      ]
    },
    {
      "cell_type": "code",
      "metadata": {
        "id": "nek2d8Q8IOhH",
        "colab_type": "code",
        "outputId": "0fd31631-4990-4d8f-8a5b-4904ee807576",
        "colab": {
          "base_uri": "https://localhost:8080/",
          "height": 53
        }
      },
      "source": [
        "%%time\n",
        "model2 = Word2Vec(data_words2)"
      ],
      "execution_count": 11,
      "outputs": [
        {
          "output_type": "stream",
          "text": [
            "CPU times: user 759 ms, sys: 6.85 ms, total: 766 ms\n",
            "Wall time: 459 ms\n"
          ],
          "name": "stdout"
        }
      ]
    },
    {
      "cell_type": "code",
      "metadata": {
        "id": "Nq75b6LhJtZZ",
        "colab_type": "code",
        "outputId": "69481588-82db-42c0-ebb5-898acd12a3d1",
        "colab": {
          "base_uri": "https://localhost:8080/",
          "height": 91
        }
      },
      "source": [
        "# 토픽 간에 얼마나 연관성이 있는지\n",
        "model1.wv.similarity('service', \"room\")"
      ],
      "execution_count": 36,
      "outputs": [
        {
          "output_type": "stream",
          "text": [
            "/usr/local/lib/python3.6/dist-packages/gensim/matutils.py:737: FutureWarning: Conversion of the second argument of issubdtype from `int` to `np.signedinteger` is deprecated. In future, it will be treated as `np.int64 == np.dtype(int).type`.\n",
            "  if np.issubdtype(vec.dtype, np.int):\n"
          ],
          "name": "stderr"
        },
        {
          "output_type": "execute_result",
          "data": {
            "text/plain": [
              "0.99197346"
            ]
          },
          "metadata": {
            "tags": []
          },
          "execution_count": 36
        }
      ]
    },
    {
      "cell_type": "code",
      "metadata": {
        "id": "yvNXw0J63tyK",
        "colab_type": "code",
        "colab": {
          "base_uri": "https://localhost:8080/",
          "height": 91
        },
        "outputId": "ab00b40f-ba13-4a99-a29b-f6f7c73602d5"
      },
      "source": [
        "model1.wv.similarity('location', \"room\")"
      ],
      "execution_count": 34,
      "outputs": [
        {
          "output_type": "stream",
          "text": [
            "/usr/local/lib/python3.6/dist-packages/gensim/matutils.py:737: FutureWarning: Conversion of the second argument of issubdtype from `int` to `np.signedinteger` is deprecated. In future, it will be treated as `np.int64 == np.dtype(int).type`.\n",
            "  if np.issubdtype(vec.dtype, np.int):\n"
          ],
          "name": "stderr"
        },
        {
          "output_type": "execute_result",
          "data": {
            "text/plain": [
              "0.99249715"
            ]
          },
          "metadata": {
            "tags": []
          },
          "execution_count": 34
        }
      ]
    },
    {
      "cell_type": "code",
      "metadata": {
        "id": "nj1Cun8Q3tZz",
        "colab_type": "code",
        "colab": {
          "base_uri": "https://localhost:8080/",
          "height": 91
        },
        "outputId": "624cd6e1-0713-4773-d799-5b7f47074fcb"
      },
      "source": [
        "model1.wv.similarity('location', \"travel\")"
      ],
      "execution_count": 35,
      "outputs": [
        {
          "output_type": "stream",
          "text": [
            "/usr/local/lib/python3.6/dist-packages/gensim/matutils.py:737: FutureWarning: Conversion of the second argument of issubdtype from `int` to `np.signedinteger` is deprecated. In future, it will be treated as `np.int64 == np.dtype(int).type`.\n",
            "  if np.issubdtype(vec.dtype, np.int):\n"
          ],
          "name": "stderr"
        },
        {
          "output_type": "execute_result",
          "data": {
            "text/plain": [
              "0.9980682"
            ]
          },
          "metadata": {
            "tags": []
          },
          "execution_count": 35
        }
      ]
    },
    {
      "cell_type": "code",
      "metadata": {
        "id": "2n6bdR_53tKA",
        "colab_type": "code",
        "colab": {
          "base_uri": "https://localhost:8080/",
          "height": 253
        },
        "outputId": "7dc3c59e-79b5-4f2f-aed4-6810e97d4175"
      },
      "source": [
        "# 부정적 토픽 연관단어 도출\n",
        "model1.wv.most_similar(\"service\")"
      ],
      "execution_count": 37,
      "outputs": [
        {
          "output_type": "stream",
          "text": [
            "/usr/local/lib/python3.6/dist-packages/gensim/matutils.py:737: FutureWarning: Conversion of the second argument of issubdtype from `int` to `np.signedinteger` is deprecated. In future, it will be treated as `np.int64 == np.dtype(int).type`.\n",
            "  if np.issubdtype(vec.dtype, np.int):\n"
          ],
          "name": "stderr"
        },
        {
          "output_type": "execute_result",
          "data": {
            "text/plain": [
              "[('drinks', 0.9997082948684692),\n",
              " ('two', 0.9996693134307861),\n",
              " ('busy', 0.9996404051780701),\n",
              " ('terrible', 0.99962317943573),\n",
              " ('second', 0.9996143579483032),\n",
              " ('just', 0.9996017217636108),\n",
              " ('especially', 0.9995898008346558),\n",
              " ('restaurant', 0.9995889663696289),\n",
              " ('given', 0.9995888471603394),\n",
              " ('quality', 0.999587893486023)]"
            ]
          },
          "metadata": {
            "tags": []
          },
          "execution_count": 37
        }
      ]
    },
    {
      "cell_type": "code",
      "metadata": {
        "id": "lZJVZIHs3-Ab",
        "colab_type": "code",
        "colab": {
          "base_uri": "https://localhost:8080/",
          "height": 253
        },
        "outputId": "373952a4-5601-4993-f0ef-ef1600c57710"
      },
      "source": [
        "model1.wv.most_similar(\"room\")"
      ],
      "execution_count": 38,
      "outputs": [
        {
          "output_type": "stream",
          "text": [
            "/usr/local/lib/python3.6/dist-packages/gensim/matutils.py:737: FutureWarning: Conversion of the second argument of issubdtype from `int` to `np.signedinteger` is deprecated. In future, it will be treated as `np.int64 == np.dtype(int).type`.\n",
            "  if np.issubdtype(vec.dtype, np.int):\n"
          ],
          "name": "stderr"
        },
        {
          "output_type": "execute_result",
          "data": {
            "text/plain": [
              "[('bathroom', 0.9991134405136108),\n",
              " ('bed', 0.999083399772644),\n",
              " ('and', 0.9984620809555054),\n",
              " ('quite', 0.998098611831665),\n",
              " ('hot', 0.9980074167251587),\n",
              " ('uncomfortable', 0.9977221488952637),\n",
              " ('bit', 0.9977128505706787),\n",
              " ('noisy', 0.9975695610046387),\n",
              " ('too', 0.9975110292434692),\n",
              " ('tiny', 0.9974052309989929)]"
            ]
          },
          "metadata": {
            "tags": []
          },
          "execution_count": 38
        }
      ]
    },
    {
      "cell_type": "code",
      "metadata": {
        "id": "77HENi3539fw",
        "colab_type": "code",
        "colab": {
          "base_uri": "https://localhost:8080/",
          "height": 253
        },
        "outputId": "b8264353-8b26-4cfb-d6a2-5a75b9cd0368"
      },
      "source": [
        "model1.wv.most_similar(\"location\")"
      ],
      "execution_count": 39,
      "outputs": [
        {
          "output_type": "stream",
          "text": [
            "/usr/local/lib/python3.6/dist-packages/gensim/matutils.py:737: FutureWarning: Conversion of the second argument of issubdtype from `int` to `np.signedinteger` is deprecated. In future, it will be treated as `np.int64 == np.dtype(int).type`.\n",
            "  if np.issubdtype(vec.dtype, np.int):\n"
          ],
          "name": "stderr"
        },
        {
          "output_type": "execute_result",
          "data": {
            "text/plain": [
              "[('quality', 0.9998161792755127),\n",
              " ('looking', 0.9997661113739014),\n",
              " ('lovely', 0.9997644424438477),\n",
              " ('busy', 0.9997528195381165),\n",
              " ('just', 0.9997406005859375),\n",
              " ('over', 0.9997373223304749),\n",
              " ('disappointing', 0.9997346997261047),\n",
              " ('around', 0.9997276663780212),\n",
              " ('standard', 0.9997270703315735),\n",
              " ('felt', 0.9996987581253052)]"
            ]
          },
          "metadata": {
            "tags": []
          },
          "execution_count": 39
        }
      ]
    },
    {
      "cell_type": "code",
      "metadata": {
        "id": "JqelCaMo39VX",
        "colab_type": "code",
        "colab": {
          "base_uri": "https://localhost:8080/",
          "height": 253
        },
        "outputId": "56577bc7-a714-4b54-870c-c7d4876aaab0"
      },
      "source": [
        "model1.wv.most_similar(\"travel\")"
      ],
      "execution_count": 40,
      "outputs": [
        {
          "output_type": "stream",
          "text": [
            "/usr/local/lib/python3.6/dist-packages/gensim/matutils.py:737: FutureWarning: Conversion of the second argument of issubdtype from `int` to `np.signedinteger` is deprecated. In future, it will be treated as `np.int64 == np.dtype(int).type`.\n",
            "  if np.issubdtype(vec.dtype, np.int):\n"
          ],
          "name": "stderr"
        },
        {
          "output_type": "execute_result",
          "data": {
            "text/plain": [
              "[('your', 0.9990754723548889),\n",
              " ('wouldn', 0.9990749955177307),\n",
              " ('upgrade', 0.9990630149841309),\n",
              " ('who', 0.9990549087524414),\n",
              " ('manager', 0.9990535974502563),\n",
              " ('say', 0.9990510940551758),\n",
              " ('few', 0.9990449547767639),\n",
              " ('use', 0.9990352392196655),\n",
              " ('changed', 0.9990115761756897),\n",
              " ('while', 0.9990048408508301)]"
            ]
          },
          "metadata": {
            "tags": []
          },
          "execution_count": 40
        }
      ]
    },
    {
      "cell_type": "code",
      "metadata": {
        "scrolled": true,
        "id": "6zeTic9N8K7L",
        "colab_type": "code",
        "outputId": "d0c4325c-baee-4510-c1d0-4b665debe613",
        "colab": {
          "base_uri": "https://localhost:8080/",
          "height": 253
        }
      },
      "source": [
        "# 긍정적 리뷰 토픽 연관단어 도출\n",
        "model2.wv.most_similar(\"room\")"
      ],
      "execution_count": 41,
      "outputs": [
        {
          "output_type": "stream",
          "text": [
            "/usr/local/lib/python3.6/dist-packages/gensim/matutils.py:737: FutureWarning: Conversion of the second argument of issubdtype from `int` to `np.signedinteger` is deprecated. In future, it will be treated as `np.int64 == np.dtype(int).type`.\n",
            "  if np.issubdtype(vec.dtype, np.int):\n"
          ],
          "name": "stderr"
        },
        {
          "output_type": "execute_result",
          "data": {
            "text/plain": [
              "[('was', 0.9978694915771484),\n",
              " ('bathroom', 0.9972381591796875),\n",
              " ('facilities', 0.9955177307128906),\n",
              " ('breakfast', 0.9954632520675659),\n",
              " ('size', 0.9948987364768982),\n",
              " ('modern', 0.9948853254318237),\n",
              " ('beds', 0.9938538074493408),\n",
              " ('food', 0.9937745332717896),\n",
              " ('shower', 0.9936048984527588),\n",
              " ('quiet', 0.9930133819580078)]"
            ]
          },
          "metadata": {
            "tags": []
          },
          "execution_count": 41
        }
      ]
    },
    {
      "cell_type": "code",
      "metadata": {
        "id": "A4Tzq6zBJ_HE",
        "colab_type": "code",
        "colab": {
          "base_uri": "https://localhost:8080/",
          "height": 253
        },
        "outputId": "a7be4afd-ba19-4428-bcb6-ba2194b4f976"
      },
      "source": [
        "model2.wv.most_similar(\"booking\")"
      ],
      "execution_count": 45,
      "outputs": [
        {
          "output_type": "stream",
          "text": [
            "/usr/local/lib/python3.6/dist-packages/gensim/matutils.py:737: FutureWarning: Conversion of the second argument of issubdtype from `int` to `np.signedinteger` is deprecated. In future, it will be treated as `np.int64 == np.dtype(int).type`.\n",
            "  if np.issubdtype(vec.dtype, np.int):\n"
          ],
          "name": "stderr"
        },
        {
          "output_type": "execute_result",
          "data": {
            "text/plain": [
              "[('their', 0.9997375011444092),\n",
              " ('her', 0.9996627569198608),\n",
              " ('work', 0.9996582865715027),\n",
              " ('without', 0.999646782875061),\n",
              " ('don', 0.999626636505127),\n",
              " ('what', 0.9996001124382019),\n",
              " ('better', 0.9995971918106079),\n",
              " ('thing', 0.999586284160614),\n",
              " ('ve', 0.9995829463005066),\n",
              " ('think', 0.9995749592781067)]"
            ]
          },
          "metadata": {
            "tags": []
          },
          "execution_count": 45
        }
      ]
    },
    {
      "cell_type": "code",
      "metadata": {
        "id": "qVb_CCOG4Uzo",
        "colab_type": "code",
        "colab": {
          "base_uri": "https://localhost:8080/",
          "height": 253
        },
        "outputId": "e378e431-3166-4d3a-fb96-61fe7530407d"
      },
      "source": [
        "model2.wv.most_similar(\"travel\")"
      ],
      "execution_count": 46,
      "outputs": [
        {
          "output_type": "stream",
          "text": [
            "/usr/local/lib/python3.6/dist-packages/gensim/matutils.py:737: FutureWarning: Conversion of the second argument of issubdtype from `int` to `np.signedinteger` is deprecated. In future, it will be treated as `np.int64 == np.dtype(int).type`.\n",
            "  if np.issubdtype(vec.dtype, np.int):\n"
          ],
          "name": "stderr"
        },
        {
          "output_type": "execute_result",
          "data": {
            "text/plain": [
              "[('tourist', 0.999602735042572),\n",
              " ('through', 0.9995079040527344),\n",
              " ('theatre', 0.9994638562202454),\n",
              " ('by', 0.9994374513626099),\n",
              " ('see', 0.99942547082901),\n",
              " ('find', 0.9994229674339294),\n",
              " ('than', 0.9993686676025391),\n",
              " ('easily', 0.9993287324905396),\n",
              " ('st', 0.9993185997009277),\n",
              " ('show', 0.9992899894714355)]"
            ]
          },
          "metadata": {
            "tags": []
          },
          "execution_count": 46
        }
      ]
    },
    {
      "cell_type": "code",
      "metadata": {
        "id": "fby5WSK-40aY",
        "colab_type": "code",
        "colab": {
          "base_uri": "https://localhost:8080/",
          "height": 253
        },
        "outputId": "b103753c-20c7-40c0-dc90-2231f81dfe44"
      },
      "source": [
        "model2.wv.most_similar(\"meal\")"
      ],
      "execution_count": 47,
      "outputs": [
        {
          "output_type": "stream",
          "text": [
            "/usr/local/lib/python3.6/dist-packages/gensim/matutils.py:737: FutureWarning: Conversion of the second argument of issubdtype from `int` to `np.signedinteger` is deprecated. In future, it will be treated as `np.int64 == np.dtype(int).type`.\n",
            "  if np.issubdtype(vec.dtype, np.int):\n"
          ],
          "name": "stderr"
        },
        {
          "output_type": "execute_result",
          "data": {
            "text/plain": [
              "[('he', 0.9993299841880798),\n",
              " ('both', 0.9992352724075317),\n",
              " ('look', 0.9992222785949707),\n",
              " ('expensive', 0.9992116689682007),\n",
              " ('bit', 0.9992042183876038),\n",
              " ('having', 0.9991991519927979),\n",
              " ('perfectly', 0.9991854429244995),\n",
              " ('young', 0.9991767406463623),\n",
              " ('deal', 0.9991666078567505),\n",
              " ('each', 0.9991433620452881)]"
            ]
          },
          "metadata": {
            "tags": []
          },
          "execution_count": 47
        }
      ]
    },
    {
      "cell_type": "code",
      "metadata": {
        "id": "fyVeefo-43ep",
        "colab_type": "code",
        "colab": {}
      },
      "source": [
        ""
      ],
      "execution_count": 0,
      "outputs": []
    }
  ]
}
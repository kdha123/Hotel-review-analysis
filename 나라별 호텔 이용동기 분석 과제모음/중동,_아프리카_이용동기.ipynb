{
  "nbformat": 4,
  "nbformat_minor": 0,
  "metadata": {
    "colab": {
      "name": "중동, 아프리카_이용동기.ipynb",
      "version": "0.3.2",
      "provenance": [],
      "collapsed_sections": []
    },
    "language_info": {
      "codemirror_mode": {
        "name": "ipython",
        "version": 3
      },
      "file_extension": ".py",
      "mimetype": "text/x-python",
      "name": "python",
      "nbconvert_exporter": "python",
      "pygments_lexer": "ipython3",
      "version": "3.7.3"
    },
    "kernelspec": {
      "display_name": "Python 3",
      "language": "python",
      "name": "python3"
    }
  },
  "cells": [
    {
      "cell_type": "code",
      "metadata": {
        "id": "8YvOkDVW6xo7",
        "colab_type": "code",
        "colab": {
          "base_uri": "https://localhost:8080/",
          "height": 53
        },
        "outputId": "f03368a2-9e0c-445c-90e1-ce6373d72c85"
      },
      "source": [
        "# -*- coding: utf-8 -*-\n",
        "%matplotlib inline\n",
        "import numpy as np\n",
        "import matplotlib.pyplot as plt\n",
        "import re\n",
        "from string import digits\n",
        "import nltk; nltk.download('stopwords')\n",
        "import os\n",
        "from pprint import pprint\n",
        "\n",
        "# Gensim\n",
        "import gensim\n",
        "import gensim.corpora as corpora\n",
        "from gensim.utils import simple_preprocess\n",
        "from gensim.models import CoherenceModel\n",
        "\n",
        "import warnings\n",
        "warnings.filterwarnings(\"ignore\",category=DeprecationWarning)\n"
      ],
      "execution_count": 2,
      "outputs": [
        {
          "output_type": "stream",
          "text": [
            "[nltk_data] Downloading package stopwords to /root/nltk_data...\n",
            "[nltk_data]   Package stopwords is already up-to-date!\n"
          ],
          "name": "stdout"
        }
      ]
    },
    {
      "cell_type": "code",
      "metadata": {
        "id": "QoKm-sJU6xpB",
        "colab_type": "code",
        "colab": {
          "base_uri": "https://localhost:8080/",
          "height": 683
        },
        "outputId": "81d38d9d-8a28-4a23-8d1c-f6160390e9d3"
      },
      "source": [
        "import pandas as pd\n",
        "hotel_review = pd.read_csv('Hotel_Reviews.csv')\n",
        "hotel_review.head()"
      ],
      "execution_count": 3,
      "outputs": [
        {
          "output_type": "execute_result",
          "data": {
            "text/html": [
              "<div>\n",
              "<style scoped>\n",
              "    .dataframe tbody tr th:only-of-type {\n",
              "        vertical-align: middle;\n",
              "    }\n",
              "\n",
              "    .dataframe tbody tr th {\n",
              "        vertical-align: top;\n",
              "    }\n",
              "\n",
              "    .dataframe thead th {\n",
              "        text-align: right;\n",
              "    }\n",
              "</style>\n",
              "<table border=\"1\" class=\"dataframe\">\n",
              "  <thead>\n",
              "    <tr style=\"text-align: right;\">\n",
              "      <th></th>\n",
              "      <th>Hotel_Address</th>\n",
              "      <th>Additional_Number_of_Scoring</th>\n",
              "      <th>Review_Date</th>\n",
              "      <th>Average_Score</th>\n",
              "      <th>Hotel_Name</th>\n",
              "      <th>Reviewer_Nationality</th>\n",
              "      <th>Negative_Review</th>\n",
              "      <th>Review_Total_Negative_Word_Counts</th>\n",
              "      <th>Total_Number_of_Reviews</th>\n",
              "      <th>Positive_Review</th>\n",
              "      <th>Review_Total_Positive_Word_Counts</th>\n",
              "      <th>Total_Number_of_Reviews_Reviewer_Has_Given</th>\n",
              "      <th>Reviewer_Score</th>\n",
              "      <th>Tags</th>\n",
              "      <th>days_since_review</th>\n",
              "      <th>lat</th>\n",
              "      <th>lng</th>\n",
              "    </tr>\n",
              "  </thead>\n",
              "  <tbody>\n",
              "    <tr>\n",
              "      <th>0</th>\n",
              "      <td>s Gravesandestraat 55 Oost 1092 AA Amsterdam ...</td>\n",
              "      <td>194</td>\n",
              "      <td>8/3/2017</td>\n",
              "      <td>7.7</td>\n",
              "      <td>Hotel Arena</td>\n",
              "      <td>Russia</td>\n",
              "      <td>I am so angry that i made this post available...</td>\n",
              "      <td>397</td>\n",
              "      <td>1403</td>\n",
              "      <td>Only the park outside of the hotel was beauti...</td>\n",
              "      <td>11</td>\n",
              "      <td>7</td>\n",
              "      <td>2.9</td>\n",
              "      <td>[' Leisure trip ', ' Couple ', ' Duplex Double...</td>\n",
              "      <td>0 days</td>\n",
              "      <td>52.360576</td>\n",
              "      <td>4.915968</td>\n",
              "    </tr>\n",
              "    <tr>\n",
              "      <th>1</th>\n",
              "      <td>s Gravesandestraat 55 Oost 1092 AA Amsterdam ...</td>\n",
              "      <td>194</td>\n",
              "      <td>8/3/2017</td>\n",
              "      <td>7.7</td>\n",
              "      <td>Hotel Arena</td>\n",
              "      <td>Ireland</td>\n",
              "      <td>No Negative</td>\n",
              "      <td>0</td>\n",
              "      <td>1403</td>\n",
              "      <td>No real complaints the hotel was great great ...</td>\n",
              "      <td>105</td>\n",
              "      <td>7</td>\n",
              "      <td>7.5</td>\n",
              "      <td>[' Leisure trip ', ' Couple ', ' Duplex Double...</td>\n",
              "      <td>0 days</td>\n",
              "      <td>52.360576</td>\n",
              "      <td>4.915968</td>\n",
              "    </tr>\n",
              "    <tr>\n",
              "      <th>2</th>\n",
              "      <td>s Gravesandestraat 55 Oost 1092 AA Amsterdam ...</td>\n",
              "      <td>194</td>\n",
              "      <td>7/31/2017</td>\n",
              "      <td>7.7</td>\n",
              "      <td>Hotel Arena</td>\n",
              "      <td>Australia</td>\n",
              "      <td>Rooms are nice but for elderly a bit difficul...</td>\n",
              "      <td>42</td>\n",
              "      <td>1403</td>\n",
              "      <td>Location was good and staff were ok It is cut...</td>\n",
              "      <td>21</td>\n",
              "      <td>9</td>\n",
              "      <td>7.1</td>\n",
              "      <td>[' Leisure trip ', ' Family with young childre...</td>\n",
              "      <td>3 days</td>\n",
              "      <td>52.360576</td>\n",
              "      <td>4.915968</td>\n",
              "    </tr>\n",
              "    <tr>\n",
              "      <th>3</th>\n",
              "      <td>s Gravesandestraat 55 Oost 1092 AA Amsterdam ...</td>\n",
              "      <td>194</td>\n",
              "      <td>7/31/2017</td>\n",
              "      <td>7.7</td>\n",
              "      <td>Hotel Arena</td>\n",
              "      <td>United Kingdom</td>\n",
              "      <td>My room was dirty and I was afraid to walk ba...</td>\n",
              "      <td>210</td>\n",
              "      <td>1403</td>\n",
              "      <td>Great location in nice surroundings the bar a...</td>\n",
              "      <td>26</td>\n",
              "      <td>1</td>\n",
              "      <td>3.8</td>\n",
              "      <td>[' Leisure trip ', ' Solo traveler ', ' Duplex...</td>\n",
              "      <td>3 days</td>\n",
              "      <td>52.360576</td>\n",
              "      <td>4.915968</td>\n",
              "    </tr>\n",
              "    <tr>\n",
              "      <th>4</th>\n",
              "      <td>s Gravesandestraat 55 Oost 1092 AA Amsterdam ...</td>\n",
              "      <td>194</td>\n",
              "      <td>7/24/2017</td>\n",
              "      <td>7.7</td>\n",
              "      <td>Hotel Arena</td>\n",
              "      <td>New Zealand</td>\n",
              "      <td>You When I booked with your company on line y...</td>\n",
              "      <td>140</td>\n",
              "      <td>1403</td>\n",
              "      <td>Amazing location and building Romantic setting</td>\n",
              "      <td>8</td>\n",
              "      <td>3</td>\n",
              "      <td>6.7</td>\n",
              "      <td>[' Leisure trip ', ' Couple ', ' Suite ', ' St...</td>\n",
              "      <td>10 days</td>\n",
              "      <td>52.360576</td>\n",
              "      <td>4.915968</td>\n",
              "    </tr>\n",
              "  </tbody>\n",
              "</table>\n",
              "</div>"
            ],
            "text/plain": [
              "                                       Hotel_Address  ...       lng\n",
              "0   s Gravesandestraat 55 Oost 1092 AA Amsterdam ...  ...  4.915968\n",
              "1   s Gravesandestraat 55 Oost 1092 AA Amsterdam ...  ...  4.915968\n",
              "2   s Gravesandestraat 55 Oost 1092 AA Amsterdam ...  ...  4.915968\n",
              "3   s Gravesandestraat 55 Oost 1092 AA Amsterdam ...  ...  4.915968\n",
              "4   s Gravesandestraat 55 Oost 1092 AA Amsterdam ...  ...  4.915968\n",
              "\n",
              "[5 rows x 17 columns]"
            ]
          },
          "metadata": {
            "tags": []
          },
          "execution_count": 3
        }
      ]
    },
    {
      "cell_type": "code",
      "metadata": {
        "scrolled": true,
        "id": "INrHg_wu6xpE",
        "colab_type": "code",
        "colab": {
          "base_uri": "https://localhost:8080/",
          "height": 55
        },
        "outputId": "35367700-d8e8-4adf-9823-eb8ebce13c87"
      },
      "source": [
        "# 나라 중복값 확인\n",
        "w_count  = {}\n",
        "for lst in hotel_review['Reviewer_Nationality']:\n",
        "    try: w_count[lst] += 1\n",
        "    except: w_count[lst]=1\n",
        "print(w_count)"
      ],
      "execution_count": 4,
      "outputs": [
        {
          "output_type": "stream",
          "text": [
            "{' Russia ': 3900, ' Ireland ': 14827, ' Australia ': 21686, ' United Kingdom ': 245246, ' New Zealand ': 3237, ' Poland ': 2891, ' Belgium ': 6031, ' Norway ': 2383, ' France ': 7296, ' Italy ': 6114, ' Canada ': 7894, ' Netherlands ': 8772, ' Germany ': 7941, ' United States of America ': 35437, ' Hungary ': 2185, ' Israel ': 6610, ' Switzerland ': 8678, ' India ': 3437, ' United Arab Emirates ': 10235, ' Malaysia ': 1883, ' Denmark ': 1724, ' South Africa ': 3821, ' Rwanda ': 13, ' Finland ': 1829, ' Portugal ': 1839, ' Luxembourg ': 1359, ' Spain ': 4737, ' Malta ': 1685, ' China ': 3400, ' Turkey ': 5444, ' Ukraine ': 1102, ' Gibraltar ': 380, ' Argentina ': 517, ' Abkhazia Georgia ': 153, ' Isle of Man ': 405, ' Sweden ': 3368, ' Croatia ': 1340, ' Saudi Arabia ': 8951, ' Lithuania ': 727, ' Slovenia ': 796, ' Panama ': 122, ' Austria ': 2412, ' Brazil ': 1865, ' Taiwan ': 923, ' Iceland ': 933, ' Iran ': 1086, ' Liechtenstein ': 20, ' Chile ': 334, ' Hong Kong ': 3013, ' United States Minor Outlying Islands ': 74, ' Morocco ': 229, ' Oman ': 1334, ' Lebanon ': 2261, ' Qatar ': 2757, ' Nigeria ': 977, ' Romania ': 4552, ' Czech Republic ': 2311, ' Greece ': 3406, ' Thailand ': 1880, ' Singapore ': 3091, ' Guernsey ': 543, ' Latvia ': 719, ' Namibia ': 67, ' Japan ': 1279, ' Egypt ': 2388, ' Slovakia ': 903, ' South Korea ': 1078, ' Kuwait ': 4920, ' Bahrain ': 1592, ' Jersey ': 863, ' Jordan ': 757, ' Bulgaria ': 1314, ' Cyprus ': 1381, ' Albania ': 286, ' Estonia ': 757, ' Serbia ': 1124, ' Belarus ': 192, ' Puerto Rico ': 180, ' Sudan ': 51, ' Sri Lanka ': 284, ' Indonesia ': 1548, ' Honduras ': 22, ' Philippines ': 1073, ' Montenegro ': 192, ' Uruguay ': 91, ' Brunei ': 100, ' Pakistan ': 916, ' Kosovo ': 72, ' Azerbaijan ': 277, ' ': 523, ' Botswana ': 42, ' Tanzania ': 58, ' Bangladesh ': 151, ' Trinidad and Tobago ': 154, ' Palestinian Territory ': 54, ' Peru ': 118, ' Mexico ': 592, ' Kenya ': 269, ' Zimbabwe ': 51, ' Macedonia ': 282, ' Georgia ': 294, ' Bermuda ': 103, ' Costa Rica ': 120, ' Bahamas ': 32, ' Maldives ': 49, ' Barbados ': 61, ' Libya ': 72, ' Fiji ': 12, ' Angola ': 62, ' Kazakhstan ': 281, ' Bosnia and Herzegovina ': 246, ' Colombia ': 277, ' Armenia ': 134, ' Vietnam ': 187, ' Iraq ': 290, ' Monaco ': 250, ' Uganda ': 47, ' Togo ': 7, ' Guatemala ': 53, ' Ghana ': 145, ' Macau ': 109, ' Zambia ': 37, ' Jamaica ': 41, ' Mauritius ': 216, ' Venezuela ': 78, ' Crimea ': 6, ' St Maarten ': 11, ' Algeria ': 100, ' Equatorial Guinea ': 2, ' Nicaragua ': 15, ' Comoros ': 1, ' Cayman Islands ': 42, ' Ethiopia ': 32, ' Dominican Republic ': 52, ' Ecuador ': 61, ' Uzbekistan ': 20, ' Turks Caicos Islands ': 14, ' Nepal ': 15, ' Mozambique ': 35, ' Sierra Leone ': 6, ' Ivory Coast ': 19, ' Cura ao ': 41, ' Antigua Barbuda ': 14, ' Burundi ': 3, ' East Timor ': 4, ' Tunisia ': 76, ' Andorra ': 64, ' U S Virgin Islands ': 17, ' Antarctica ': 3, ' Papua New Guinea ': 14, ' Montserrat ': 2, ' Malawi ': 10, ' Yemen ': 16, ' Suriname ': 11, ' Paraguay ': 28, ' Aruba ': 31, ' Mongolia ': 39, ' Moldova ': 108, ' St Pierre and Miquelon ': 2, ' Cambodia ': 34, ' Seychelles ': 21, ' Guyana ': 5, ' Senegal ': 24, ' El Salvador ': 24, ' Guam ': 14, ' Myanmar ': 18, ' Madagascar ': 8, ' Benin ': 6, ' Saint Kitts and Nevis ': 9, ' Martinique ': 5, ' Vanuatu ': 8, ' British Virgin Islands ': 16, ' Belize ': 8, ' Democratic Republic of the Congo ': 9, ' Gabon ': 7, ' New Caledonia ': 10, ' Bhutan ': 6, ' Faroe Islands ': 16, ' Kyrgyzstan ': 21, ' Gambia ': 5, ' Syria ': 33, ' Laos ': 9, ' Mauritania ': 8, ' Central Africa Republic ': 3, ' Reunion ': 6, ' Saint Martin ': 4, ' Cameroon ': 9, ' Guadeloupe ': 5, ' Liberia ': 3, ' Haiti ': 6, ' Mali ': 5, ' Saint Lucia ': 8, ' French Guiana ': 4, ' Swaziland ': 8, ' Falkland Islands Malvinas ': 6, ' Tajikistan ': 16, ' Afghanistan ': 8, ' Bolivia ': 18, ' Dominica ': 11, ' Niger ': 2, ' Samoa ': 4, ' Lesotho ': 3, ' French Polynesia ': 3, ' Grenada ': 3, ' Wallis and Futuna ': 2, ' Svalbard Jan Mayen ': 1, ' Djibouti ': 2, ' Saint Barts ': 3, ' Kiribati ': 2, ' Cook Islands ': 2, ' Congo ': 3, ' Somalia ': 3, ' Eritrea ': 2, ' Saint Vincent Grenadines ': 2, ' San Marino ': 3, ' Turkmenistan ': 5, ' Vatican City ': 1, ' South Sudan ': 2, ' Anguilla ': 1, ' Cocos K I ': 2, ' Bonaire St Eustatius and Saba ': 3, ' Cape Verde ': 1, ' Northern Mariana Islands ': 1, ' Tuvalu ': 1, ' Guinea ': 1, ' American Samoa ': 2, ' Palau ': 1}\n"
          ],
          "name": "stdout"
        }
      ]
    },
    {
      "cell_type": "code",
      "metadata": {
        "id": "8JDTPoeA6xpH",
        "colab_type": "code",
        "colab": {
          "base_uri": "https://localhost:8080/",
          "height": 2751
        },
        "outputId": "5167fcc6-6ad6-41e8-a321-663d34fa5ab3"
      },
      "source": [
        "# 대륙별 행 추출\n",
        "hotel_review_Africa = hotel_review[['Reviewer_Nationality',\"Negative_Review\",\"Positive_Review\"]]\n",
        "Is = hotel_review_Africa[hotel_review_Africa['Reviewer_Nationality']  == \" Israel \"]\n",
        "Uae = hotel_review_Africa[hotel_review_Africa['Reviewer_Nationality']  == \" United Arab Emirates \"]\n",
        "Sa = hotel_review_Africa[hotel_review_Africa['Reviewer_Nationality']  == \" South Africa \"]\n",
        "Sd = hotel_review_Africa[hotel_review_Africa['Reviewer_Nationality']  == \" Saudi Arabia \"]\n",
        "Ba = hotel_review_Africa[hotel_review_Africa['Reviewer_Nationality']  == \" Bahrain \"]\n",
        "Ku = hotel_review_Africa[hotel_review_Africa['Reviewer_Nationality']  == \" Kuwait \"]\n",
        "AFRICA = pd.concat([Is,Uae,Sa,Sd,Ba,Ku])\n",
        "AFRICA"
      ],
      "execution_count": 5,
      "outputs": [
        {
          "output_type": "execute_result",
          "data": {
            "text/html": [
              "<div>\n",
              "<style scoped>\n",
              "    .dataframe tbody tr th:only-of-type {\n",
              "        vertical-align: middle;\n",
              "    }\n",
              "\n",
              "    .dataframe tbody tr th {\n",
              "        vertical-align: top;\n",
              "    }\n",
              "\n",
              "    .dataframe thead th {\n",
              "        text-align: right;\n",
              "    }\n",
              "</style>\n",
              "<table border=\"1\" class=\"dataframe\">\n",
              "  <thead>\n",
              "    <tr style=\"text-align: right;\">\n",
              "      <th></th>\n",
              "      <th>Reviewer_Nationality</th>\n",
              "      <th>Negative_Review</th>\n",
              "      <th>Positive_Review</th>\n",
              "    </tr>\n",
              "  </thead>\n",
              "  <tbody>\n",
              "    <tr>\n",
              "      <th>35</th>\n",
              "      <td>Israel</td>\n",
              "      <td>Construction on site but not mentioned on boo...</td>\n",
              "      <td>Very nice hotel manager he upgraded us becaus...</td>\n",
              "    </tr>\n",
              "    <tr>\n",
              "      <th>184</th>\n",
              "      <td>Israel</td>\n",
              "      <td>The location unfortunately were a bit far fro...</td>\n",
              "      <td>The room is beautiful and comfortable the sho...</td>\n",
              "    </tr>\n",
              "    <tr>\n",
              "      <th>190</th>\n",
              "      <td>Israel</td>\n",
              "      <td>In our own experience First night we couldn t...</td>\n",
              "      <td>Staff was vey pleasant The place is very well...</td>\n",
              "    </tr>\n",
              "    <tr>\n",
              "      <th>205</th>\n",
              "      <td>Israel</td>\n",
              "      <td>At first glance it looks like a dream hotel B...</td>\n",
              "      <td>The best thing at this price excellent price ...</td>\n",
              "    </tr>\n",
              "    <tr>\n",
              "      <th>216</th>\n",
              "      <td>Israel</td>\n",
              "      <td>Its hard to get back to the hotel later at ni...</td>\n",
              "      <td>The hotel is beautiful the pictures here aren...</td>\n",
              "    </tr>\n",
              "    <tr>\n",
              "      <th>393</th>\n",
              "      <td>Israel</td>\n",
              "      <td>Long walk from the city center</td>\n",
              "      <td>No Positive</td>\n",
              "    </tr>\n",
              "    <tr>\n",
              "      <th>450</th>\n",
              "      <td>Israel</td>\n",
              "      <td>No Negative</td>\n",
              "      <td>Excellent location near major railway lines E...</td>\n",
              "    </tr>\n",
              "    <tr>\n",
              "      <th>612</th>\n",
              "      <td>Israel</td>\n",
              "      <td>No Negative</td>\n",
              "      <td>Often the reality is different from the websi...</td>\n",
              "    </tr>\n",
              "    <tr>\n",
              "      <th>629</th>\n",
              "      <td>Israel</td>\n",
              "      <td>The hotel is nice but the facilities are poor...</td>\n",
              "      <td>The hotel is clean in good location the break...</td>\n",
              "    </tr>\n",
              "    <tr>\n",
              "      <th>638</th>\n",
              "      <td>Israel</td>\n",
              "      <td>a bit petty but important extra socket near t...</td>\n",
              "      <td>very nice staff at the front desk</td>\n",
              "    </tr>\n",
              "    <tr>\n",
              "      <th>646</th>\n",
              "      <td>Israel</td>\n",
              "      <td>The room little bit small But for couple is e...</td>\n",
              "      <td>The price per night is very good relatively t...</td>\n",
              "    </tr>\n",
              "    <tr>\n",
              "      <th>770</th>\n",
              "      <td>Israel</td>\n",
              "      <td>No Negative</td>\n",
              "      <td>The Service and staff made our stay worthwhile</td>\n",
              "    </tr>\n",
              "    <tr>\n",
              "      <th>785</th>\n",
              "      <td>Israel</td>\n",
              "      <td>I ordered aroom on the second or third floor ...</td>\n",
              "      <td>No Positive</td>\n",
              "    </tr>\n",
              "    <tr>\n",
              "      <th>846</th>\n",
              "      <td>Israel</td>\n",
              "      <td>No Negative</td>\n",
              "      <td>Location</td>\n",
              "    </tr>\n",
              "    <tr>\n",
              "      <th>884</th>\n",
              "      <td>Israel</td>\n",
              "      <td>No WiFi in the room</td>\n",
              "      <td>Very clean Very good breakfast Very close to ...</td>\n",
              "    </tr>\n",
              "    <tr>\n",
              "      <th>933</th>\n",
              "      <td>Israel</td>\n",
              "      <td>No Negative</td>\n",
              "      <td>the hotel is in a quiet neighborhood very clo...</td>\n",
              "    </tr>\n",
              "    <tr>\n",
              "      <th>1042</th>\n",
              "      <td>Israel</td>\n",
              "      <td>We heard our neighbors bathroom in the night</td>\n",
              "      <td>We arived the hotel late in the night and the...</td>\n",
              "    </tr>\n",
              "    <tr>\n",
              "      <th>1086</th>\n",
              "      <td>Israel</td>\n",
              "      <td>I was disappointed that there no sofa or armc...</td>\n",
              "      <td>The location The friendly staff The comfort a...</td>\n",
              "    </tr>\n",
              "    <tr>\n",
              "      <th>1629</th>\n",
              "      <td>Israel</td>\n",
              "      <td>Breakfast wasn t included</td>\n",
              "      <td>The location was great both for walking or ta...</td>\n",
              "    </tr>\n",
              "    <tr>\n",
              "      <th>1642</th>\n",
              "      <td>Israel</td>\n",
              "      <td>No Negative</td>\n",
              "      <td>Grate location guiet and nice room</td>\n",
              "    </tr>\n",
              "    <tr>\n",
              "      <th>1826</th>\n",
              "      <td>Israel</td>\n",
              "      <td>Capuccino</td>\n",
              "      <td>Location clean</td>\n",
              "    </tr>\n",
              "    <tr>\n",
              "      <th>1856</th>\n",
              "      <td>Israel</td>\n",
              "      <td>No Negative</td>\n",
              "      <td>Wonderful hotel great food perfect room it wa...</td>\n",
              "    </tr>\n",
              "    <tr>\n",
              "      <th>1939</th>\n",
              "      <td>Israel</td>\n",
              "      <td>No Negative</td>\n",
              "      <td>new and stylish Quiet</td>\n",
              "    </tr>\n",
              "    <tr>\n",
              "      <th>1981</th>\n",
              "      <td>Israel</td>\n",
              "      <td>Location It s close enough to the train stati...</td>\n",
              "      <td>New hotel high standards great service</td>\n",
              "    </tr>\n",
              "    <tr>\n",
              "      <th>2225</th>\n",
              "      <td>Israel</td>\n",
              "      <td>No closet in the room leakage from shower doors</td>\n",
              "      <td>Small but comfotable room Very clean Excellen...</td>\n",
              "    </tr>\n",
              "    <tr>\n",
              "      <th>2365</th>\n",
              "      <td>Israel</td>\n",
              "      <td>The small bed</td>\n",
              "      <td>The hotel is very clean The double bed was ve...</td>\n",
              "    </tr>\n",
              "    <tr>\n",
              "      <th>2686</th>\n",
              "      <td>Israel</td>\n",
              "      <td>The only thing missing was there was no bath ...</td>\n",
              "      <td>The staff were efficient and friendly The hot...</td>\n",
              "    </tr>\n",
              "    <tr>\n",
              "      <th>2759</th>\n",
              "      <td>Israel</td>\n",
              "      <td>Unfortunately there was not enough storage sp...</td>\n",
              "      <td>We were very impressed with the hotel and sta...</td>\n",
              "    </tr>\n",
              "    <tr>\n",
              "      <th>2782</th>\n",
              "      <td>Israel</td>\n",
              "      <td>The water didn t drain well The desk staff we...</td>\n",
              "      <td>The deluxe room had plenty of space for lugga...</td>\n",
              "    </tr>\n",
              "    <tr>\n",
              "      <th>3072</th>\n",
              "      <td>Israel</td>\n",
              "      <td>No Negative</td>\n",
              "      <td>Everything about this hotel</td>\n",
              "    </tr>\n",
              "    <tr>\n",
              "      <th>...</th>\n",
              "      <td>...</td>\n",
              "      <td>...</td>\n",
              "      <td>...</td>\n",
              "    </tr>\n",
              "    <tr>\n",
              "      <th>509105</th>\n",
              "      <td>Kuwait</td>\n",
              "      <td>Didn t have complimbtary water and when i ask...</td>\n",
              "      <td>Location is excelent and the room was clean</td>\n",
              "    </tr>\n",
              "    <tr>\n",
              "      <th>509176</th>\n",
              "      <td>Kuwait</td>\n",
              "      <td>They need more staff for room cleaning</td>\n",
              "      <td>Love the hotel</td>\n",
              "    </tr>\n",
              "    <tr>\n",
              "      <th>509203</th>\n",
              "      <td>Kuwait</td>\n",
              "      <td>The heat in the bathroom to hot</td>\n",
              "      <td>It s a wonderful hotel</td>\n",
              "    </tr>\n",
              "    <tr>\n",
              "      <th>509394</th>\n",
              "      <td>Kuwait</td>\n",
              "      <td>The lighting in the rooms and hallway are ver...</td>\n",
              "      <td>Friendly staff fast check in</td>\n",
              "    </tr>\n",
              "    <tr>\n",
              "      <th>510108</th>\n",
              "      <td>Kuwait</td>\n",
              "      <td>All was very good</td>\n",
              "      <td>Every thing was really really good loved the ...</td>\n",
              "    </tr>\n",
              "    <tr>\n",
              "      <th>510311</th>\n",
              "      <td>Kuwait</td>\n",
              "      <td>Towel quality was not reaching hotel rankings</td>\n",
              "      <td>Staff price and clean room</td>\n",
              "    </tr>\n",
              "    <tr>\n",
              "      <th>510340</th>\n",
              "      <td>Kuwait</td>\n",
              "      <td>No Negative</td>\n",
              "      <td>Everything</td>\n",
              "    </tr>\n",
              "    <tr>\n",
              "      <th>511438</th>\n",
              "      <td>Kuwait</td>\n",
              "      <td>No air condition in the rooms and the electri...</td>\n",
              "      <td>Location is great just a few minutes walk to ...</td>\n",
              "    </tr>\n",
              "    <tr>\n",
              "      <th>512385</th>\n",
              "      <td>Kuwait</td>\n",
              "      <td>parking is for small cars</td>\n",
              "      <td>Location</td>\n",
              "    </tr>\n",
              "    <tr>\n",
              "      <th>512434</th>\n",
              "      <td>Kuwait</td>\n",
              "      <td>The location is a bit tricky difficult to fig...</td>\n",
              "      <td>Internet speed was good food was nice accommo...</td>\n",
              "    </tr>\n",
              "    <tr>\n",
              "      <th>512464</th>\n",
              "      <td>Kuwait</td>\n",
              "      <td>No room service</td>\n",
              "      <td>No Positive</td>\n",
              "    </tr>\n",
              "    <tr>\n",
              "      <th>512587</th>\n",
              "      <td>Kuwait</td>\n",
              "      <td>there is construction in the hotel and the no...</td>\n",
              "      <td>every thing else</td>\n",
              "    </tr>\n",
              "    <tr>\n",
              "      <th>512593</th>\n",
              "      <td>Kuwait</td>\n",
              "      <td>I did not like the bath tub</td>\n",
              "      <td>I like the tea room location and the size of ...</td>\n",
              "    </tr>\n",
              "    <tr>\n",
              "      <th>512595</th>\n",
              "      <td>Kuwait</td>\n",
              "      <td>The hotel under renovation and some rooms sti...</td>\n",
              "      <td>High end hotel with best service you can get</td>\n",
              "    </tr>\n",
              "    <tr>\n",
              "      <th>512604</th>\n",
              "      <td>Kuwait</td>\n",
              "      <td>No Negative</td>\n",
              "      <td>Location is great and I got a free upgraded t...</td>\n",
              "    </tr>\n",
              "    <tr>\n",
              "      <th>512627</th>\n",
              "      <td>Kuwait</td>\n",
              "      <td>Everything was amazing</td>\n",
              "      <td>Amazing Staff They went out of their way to m...</td>\n",
              "    </tr>\n",
              "    <tr>\n",
              "      <th>512628</th>\n",
              "      <td>Kuwait</td>\n",
              "      <td>No Negative</td>\n",
              "      <td>Extremely friendly staff Great location and i...</td>\n",
              "    </tr>\n",
              "    <tr>\n",
              "      <th>513802</th>\n",
              "      <td>Kuwait</td>\n",
              "      <td>the cleaning took too much time I would leave...</td>\n",
              "      <td>the food was great helpful staff with everything</td>\n",
              "    </tr>\n",
              "    <tr>\n",
              "      <th>514288</th>\n",
              "      <td>Kuwait</td>\n",
              "      <td>Shower head didn t have enough pressure or sp...</td>\n",
              "      <td>Location Comfortable bed Clean and new bathroom</td>\n",
              "    </tr>\n",
              "    <tr>\n",
              "      <th>514794</th>\n",
              "      <td>Kuwait</td>\n",
              "      <td>location only</td>\n",
              "      <td>great hotel and amazing staff special thanks ...</td>\n",
              "    </tr>\n",
              "    <tr>\n",
              "      <th>514990</th>\n",
              "      <td>Kuwait</td>\n",
              "      <td>NO WI FI</td>\n",
              "      <td>Professional management mazing location</td>\n",
              "    </tr>\n",
              "    <tr>\n",
              "      <th>515046</th>\n",
              "      <td>Kuwait</td>\n",
              "      <td>Very slow to check in Woken up at 4am by peop...</td>\n",
              "      <td>Location</td>\n",
              "    </tr>\n",
              "    <tr>\n",
              "      <th>515191</th>\n",
              "      <td>Kuwait</td>\n",
              "      <td>No Negative</td>\n",
              "      <td>Choose this hotel because i used this hotel m...</td>\n",
              "    </tr>\n",
              "    <tr>\n",
              "      <th>515246</th>\n",
              "      <td>Kuwait</td>\n",
              "      <td>compact room no wifi</td>\n",
              "      <td>location friendly staff</td>\n",
              "    </tr>\n",
              "    <tr>\n",
              "      <th>515354</th>\n",
              "      <td>Kuwait</td>\n",
              "      <td>average hotel</td>\n",
              "      <td>nothing</td>\n",
              "    </tr>\n",
              "    <tr>\n",
              "      <th>515355</th>\n",
              "      <td>Kuwait</td>\n",
              "      <td>Had to pay for every extra including wifi</td>\n",
              "      <td>Convenient location</td>\n",
              "    </tr>\n",
              "    <tr>\n",
              "      <th>515499</th>\n",
              "      <td>Kuwait</td>\n",
              "      <td>There were noise of constriction They didn t ...</td>\n",
              "      <td>Good room sevice</td>\n",
              "    </tr>\n",
              "    <tr>\n",
              "      <th>515690</th>\n",
              "      <td>Kuwait</td>\n",
              "      <td>Windows shades hotel design and location</td>\n",
              "      <td>Staff and cleanliness</td>\n",
              "    </tr>\n",
              "    <tr>\n",
              "      <th>515732</th>\n",
              "      <td>Kuwait</td>\n",
              "      <td>No Negative</td>\n",
              "      <td>helpful staff allowed me to check in early as...</td>\n",
              "    </tr>\n",
              "    <tr>\n",
              "      <th>515733</th>\n",
              "      <td>Kuwait</td>\n",
              "      <td>no trolly or staff to help you take the lugga...</td>\n",
              "      <td>location</td>\n",
              "    </tr>\n",
              "  </tbody>\n",
              "</table>\n",
              "<p>36129 rows × 3 columns</p>\n",
              "</div>"
            ],
            "text/plain": [
              "       Reviewer_Nationality  ...                                    Positive_Review\n",
              "35                  Israel   ...   Very nice hotel manager he upgraded us becaus...\n",
              "184                 Israel   ...   The room is beautiful and comfortable the sho...\n",
              "190                 Israel   ...   Staff was vey pleasant The place is very well...\n",
              "205                 Israel   ...   The best thing at this price excellent price ...\n",
              "216                 Israel   ...   The hotel is beautiful the pictures here aren...\n",
              "393                 Israel   ...                                        No Positive\n",
              "450                 Israel   ...   Excellent location near major railway lines E...\n",
              "612                 Israel   ...   Often the reality is different from the websi...\n",
              "629                 Israel   ...   The hotel is clean in good location the break...\n",
              "638                 Israel   ...                 very nice staff at the front desk \n",
              "646                 Israel   ...   The price per night is very good relatively t...\n",
              "770                 Israel   ...    The Service and staff made our stay worthwhile \n",
              "785                 Israel   ...                                        No Positive\n",
              "846                 Israel   ...                                           Location\n",
              "884                 Israel   ...   Very clean Very good breakfast Very close to ...\n",
              "933                 Israel   ...   the hotel is in a quiet neighborhood very clo...\n",
              "1042                Israel   ...   We arived the hotel late in the night and the...\n",
              "1086                Israel   ...   The location The friendly staff The comfort a...\n",
              "1629                Israel   ...   The location was great both for walking or ta...\n",
              "1642                Israel   ...                 Grate location guiet and nice room\n",
              "1826                Israel   ...                                     Location clean\n",
              "1856                Israel   ...   Wonderful hotel great food perfect room it wa...\n",
              "1939                Israel   ...                              new and stylish Quiet\n",
              "1981                Israel   ...             New hotel high standards great service\n",
              "2225                Israel   ...   Small but comfotable room Very clean Excellen...\n",
              "2365                Israel   ...   The hotel is very clean The double bed was ve...\n",
              "2686                Israel   ...   The staff were efficient and friendly The hot...\n",
              "2759                Israel   ...   We were very impressed with the hotel and sta...\n",
              "2782                Israel   ...   The deluxe room had plenty of space for lugga...\n",
              "3072                Israel   ...                        Everything about this hotel\n",
              "...                     ...  ...                                                ...\n",
              "509105              Kuwait   ...       Location is excelent and the room was clean \n",
              "509176              Kuwait   ...                                     Love the hotel\n",
              "509203              Kuwait   ...                             It s a wonderful hotel\n",
              "509394              Kuwait   ...                       Friendly staff fast check in\n",
              "510108              Kuwait   ...   Every thing was really really good loved the ...\n",
              "510311              Kuwait   ...                        Staff price and clean room \n",
              "510340              Kuwait   ...                                         Everything\n",
              "511438              Kuwait   ...   Location is great just a few minutes walk to ...\n",
              "512385              Kuwait   ...                                           Location\n",
              "512434              Kuwait   ...   Internet speed was good food was nice accommo...\n",
              "512464              Kuwait   ...                                        No Positive\n",
              "512587              Kuwait   ...                                   every thing else\n",
              "512593              Kuwait   ...   I like the tea room location and the size of ...\n",
              "512595              Kuwait   ...      High end hotel with best service you can get \n",
              "512604              Kuwait   ...   Location is great and I got a free upgraded t...\n",
              "512627              Kuwait   ...   Amazing Staff They went out of their way to m...\n",
              "512628              Kuwait   ...   Extremely friendly staff Great location and i...\n",
              "513802              Kuwait   ...   the food was great helpful staff with everything\n",
              "514288              Kuwait   ...    Location Comfortable bed Clean and new bathroom\n",
              "514794              Kuwait   ...   great hotel and amazing staff special thanks ...\n",
              "514990              Kuwait   ...            Professional management mazing location\n",
              "515046              Kuwait   ...                                           Location\n",
              "515191              Kuwait   ...   Choose this hotel because i used this hotel m...\n",
              "515246              Kuwait   ...                            location friendly staff\n",
              "515354              Kuwait   ...                                            nothing\n",
              "515355              Kuwait   ...                                Convenient location\n",
              "515499              Kuwait   ...                                  Good room sevice \n",
              "515690              Kuwait   ...                              Staff and cleanliness\n",
              "515732              Kuwait   ...   helpful staff allowed me to check in early as...\n",
              "515733              Kuwait   ...                                           location\n",
              "\n",
              "[36129 rows x 3 columns]"
            ]
          },
          "metadata": {
            "tags": []
          },
          "execution_count": 5
        }
      ]
    },
    {
      "cell_type": "code",
      "metadata": {
        "id": "5HxgXZKp6xpJ",
        "colab_type": "code",
        "colab": {}
      },
      "source": [
        "Negative = AFRICA.iloc[:,1]\n",
        "Positive = AFRICA.iloc[:,2]"
      ],
      "execution_count": 0,
      "outputs": []
    },
    {
      "cell_type": "code",
      "metadata": {
        "id": "OBeoI2gn6xpL",
        "colab_type": "code",
        "colab": {
          "base_uri": "https://localhost:8080/",
          "height": 53
        },
        "outputId": "b0bf59c4-58a0-40ff-f3f9-63072e5da5a7"
      },
      "source": [
        "Negative = [re.sub(\"\\'\", \"\", str(sent)) for sent in Negative]\n",
        "Negative = [re.sub(\"No Negative'\", \"\", str(sent)) for sent in Negative]\n",
        "pprint(Negative[:1])"
      ],
      "execution_count": 7,
      "outputs": [
        {
          "output_type": "stream",
          "text": [
            "[' Construction on site but not mentioned on booking com The breakfast can be '\n",
            " 'improved it is quite expensive for its quality ']\n"
          ],
          "name": "stdout"
        }
      ]
    },
    {
      "cell_type": "code",
      "metadata": {
        "id": "qKEksRmP6xpO",
        "colab_type": "code",
        "colab": {
          "base_uri": "https://localhost:8080/",
          "height": 89
        },
        "outputId": "7f5c0555-f910-4ed4-90ed-69b5ea6d2816"
      },
      "source": [
        "Positive = [re.sub(\"\\'\", \"\", str(sent1)) for sent1 in Positive]\n",
        "Positive = [re.sub(\"No Positive'\", \"\", str(sent1)) for sent1 in Positive]\n",
        "pprint(Positive[:1])"
      ],
      "execution_count": 8,
      "outputs": [
        {
          "output_type": "stream",
          "text": [
            "[' Very nice hotel manager he upgraded us because we had troubles with two '\n",
            " 'different rooms They do everything to make you feel welcome and comfortable '\n",
            " 'The park directly in front of the hotel is amazing rent a bike directly and '\n",
            " 'make a tour Also the bathtub and bed is great ']\n"
          ],
          "name": "stdout"
        }
      ]
    },
    {
      "cell_type": "code",
      "metadata": {
        "id": "-SIeTNmx6xpR",
        "colab_type": "code",
        "colab": {}
      },
      "source": [
        "import gensim \n",
        "from gensim.models import Word2Vec"
      ],
      "execution_count": 0,
      "outputs": []
    },
    {
      "cell_type": "code",
      "metadata": {
        "scrolled": true,
        "id": "GAntNUy_6xpT",
        "colab_type": "code",
        "colab": {
          "base_uri": "https://localhost:8080/",
          "height": 73
        },
        "outputId": "f3c2bba5-afaf-4a92-bc48-22b200171576"
      },
      "source": [
        "def sent_to_words(sentences):\n",
        "    for sentence in sentences:\n",
        "        yield(gensim.utils.simple_preprocess(str(sentence), deacc=True))  # deacc=True removes punctuations\n",
        "\n",
        "data_words1 = list(sent_to_words(Negative))\n",
        "data_words2 = list(sent_to_words(Positive))\n",
        "\n",
        "print(data_words1[:1])\n",
        "print(data_words2[:1])"
      ],
      "execution_count": 10,
      "outputs": [
        {
          "output_type": "stream",
          "text": [
            "[['construction', 'on', 'site', 'but', 'not', 'mentioned', 'on', 'booking', 'com', 'the', 'breakfast', 'can', 'be', 'improved', 'it', 'is', 'quite', 'expensive', 'for', 'its', 'quality']]\n",
            "[['very', 'nice', 'hotel', 'manager', 'he', 'upgraded', 'us', 'because', 'we', 'had', 'troubles', 'with', 'two', 'different', 'rooms', 'they', 'do', 'everything', 'to', 'make', 'you', 'feel', 'welcome', 'and', 'comfortable', 'the', 'park', 'directly', 'in', 'front', 'of', 'the', 'hotel', 'is', 'amazing', 'rent', 'bike', 'directly', 'and', 'make', 'tour', 'also', 'the', 'bathtub', 'and', 'bed', 'is', 'great']]\n"
          ],
          "name": "stdout"
        }
      ]
    },
    {
      "cell_type": "code",
      "metadata": {
        "id": "wITVHUrH6xpW",
        "colab_type": "code",
        "colab": {
          "base_uri": "https://localhost:8080/",
          "height": 53
        },
        "outputId": "af686106-415b-48d7-b389-780da631cdec"
      },
      "source": [
        "%%time\n",
        "model1 = Word2Vec(data_words1)"
      ],
      "execution_count": 11,
      "outputs": [
        {
          "output_type": "stream",
          "text": [
            "CPU times: user 5.49 s, sys: 32 ms, total: 5.52 s\n",
            "Wall time: 2.97 s\n"
          ],
          "name": "stdout"
        }
      ]
    },
    {
      "cell_type": "code",
      "metadata": {
        "id": "IZlFQSru6xpY",
        "colab_type": "code",
        "colab": {
          "base_uri": "https://localhost:8080/",
          "height": 53
        },
        "outputId": "10247ef6-dfff-4808-8d28-09adaf4ee936"
      },
      "source": [
        "%%time\n",
        "model2 = Word2Vec(data_words2)"
      ],
      "execution_count": 12,
      "outputs": [
        {
          "output_type": "stream",
          "text": [
            "CPU times: user 4.24 s, sys: 29 ms, total: 4.27 s\n",
            "Wall time: 2.33 s\n"
          ],
          "name": "stdout"
        }
      ]
    },
    {
      "cell_type": "code",
      "metadata": {
        "id": "RFws6qyq6xpa",
        "colab_type": "code",
        "colab": {
          "base_uri": "https://localhost:8080/",
          "height": 253
        },
        "outputId": "c70a58f7-5f5b-47fd-ad66-c0284f5c5cc0"
      },
      "source": [
        "model1.wv.most_similar(\"service\")"
      ],
      "execution_count": 13,
      "outputs": [
        {
          "output_type": "stream",
          "text": [
            "/usr/local/lib/python3.6/dist-packages/gensim/matutils.py:737: FutureWarning: Conversion of the second argument of issubdtype from `int` to `np.signedinteger` is deprecated. In future, it will be treated as `np.int64 == np.dtype(int).type`.\n",
            "  if np.issubdtype(vec.dtype, np.int):\n"
          ],
          "name": "stderr"
        },
        {
          "output_type": "execute_result",
          "data": {
            "text/plain": [
              "[('services', 0.6896906495094299),\n",
              " ('cleaning', 0.6695860028266907),\n",
              " ('wifi', 0.6527811884880066),\n",
              " ('dining', 0.6394953727722168),\n",
              " ('dinner', 0.6220106482505798),\n",
              " ('internet', 0.6212985515594482),\n",
              " ('food', 0.6207149028778076),\n",
              " ('restaurant', 0.611198365688324),\n",
              " ('attitude', 0.5833016633987427),\n",
              " ('breakfast', 0.563032329082489)]"
            ]
          },
          "metadata": {
            "tags": []
          },
          "execution_count": 13
        }
      ]
    },
    {
      "cell_type": "code",
      "metadata": {
        "id": "rpuUMEoy6xpc",
        "colab_type": "code",
        "colab": {
          "base_uri": "https://localhost:8080/",
          "height": 253
        },
        "outputId": "faa8495f-e47e-4813-be12-988aebce4537"
      },
      "source": [
        "model1.wv.most_similar(\"room\")"
      ],
      "execution_count": 14,
      "outputs": [
        {
          "output_type": "stream",
          "text": [
            "/usr/local/lib/python3.6/dist-packages/gensim/matutils.py:737: FutureWarning: Conversion of the second argument of issubdtype from `int` to `np.signedinteger` is deprecated. In future, it will be treated as `np.int64 == np.dtype(int).type`.\n",
            "  if np.issubdtype(vec.dtype, np.int):\n"
          ],
          "name": "stderr"
        },
        {
          "output_type": "execute_result",
          "data": {
            "text/plain": [
              "[('bed', 0.6607218980789185),\n",
              " ('suite', 0.6495183706283569),\n",
              " ('rooms', 0.6009031534194946),\n",
              " ('bathroom', 0.5961786508560181),\n",
              " ('bedroom', 0.5552880764007568),\n",
              " ('toom', 0.5528099536895752),\n",
              " ('glazing', 0.5360465049743652),\n",
              " ('beds', 0.5299645662307739),\n",
              " ('liking', 0.5155165195465088),\n",
              " ('king', 0.5049129128456116)]"
            ]
          },
          "metadata": {
            "tags": []
          },
          "execution_count": 14
        }
      ]
    },
    {
      "cell_type": "code",
      "metadata": {
        "id": "dbPN1SnX7SIm",
        "colab_type": "code",
        "colab": {
          "base_uri": "https://localhost:8080/",
          "height": 253
        },
        "outputId": "cf7608b8-9159-4943-9e58-e5cde3a49303"
      },
      "source": [
        "model1.wv.most_similar(\"location\")"
      ],
      "execution_count": 15,
      "outputs": [
        {
          "output_type": "stream",
          "text": [
            "/usr/local/lib/python3.6/dist-packages/gensim/matutils.py:737: FutureWarning: Conversion of the second argument of issubdtype from `int` to `np.signedinteger` is deprecated. In future, it will be treated as `np.int64 == np.dtype(int).type`.\n",
            "  if np.issubdtype(vec.dtype, np.int):\n"
          ],
          "name": "stderr"
        },
        {
          "output_type": "execute_result",
          "data": {
            "text/plain": [
              "[('center', 0.7931280136108398),\n",
              " ('everything', 0.7906079292297363),\n",
              " ('far', 0.7672236561775208),\n",
              " ('city', 0.7572845220565796),\n",
              " ('central', 0.7569197416305542),\n",
              " ('its', 0.7452247738838196),\n",
              " ('best', 0.7434491515159607),\n",
              " ('london', 0.7249488234519958),\n",
              " ('convenient', 0.7215392589569092),\n",
              " ('heart', 0.7208604216575623)]"
            ]
          },
          "metadata": {
            "tags": []
          },
          "execution_count": 15
        }
      ]
    },
    {
      "cell_type": "code",
      "metadata": {
        "id": "Lbd20Jk57Rh8",
        "colab_type": "code",
        "colab": {
          "base_uri": "https://localhost:8080/",
          "height": 253
        },
        "outputId": "3ae9f83b-e346-46d3-c5fd-c4c760ae30ee"
      },
      "source": [
        "model1.wv.most_similar(\"transport\")"
      ],
      "execution_count": 16,
      "outputs": [
        {
          "output_type": "stream",
          "text": [
            "/usr/local/lib/python3.6/dist-packages/gensim/matutils.py:737: FutureWarning: Conversion of the second argument of issubdtype from `int` to `np.signedinteger` is deprecated. In future, it will be treated as `np.int64 == np.dtype(int).type`.\n",
            "  if np.issubdtype(vec.dtype, np.int):\n"
          ],
          "name": "stderr"
        },
        {
          "output_type": "execute_result",
          "data": {
            "text/plain": [
              "[('transportation', 0.9571740627288818),\n",
              " ('shopping', 0.9533759355545044),\n",
              " ('duomo', 0.948486328125),\n",
              " ('nearest', 0.9470086693763733),\n",
              " ('public', 0.9434255957603455),\n",
              " ('ride', 0.9426274299621582),\n",
              " ('tube', 0.9394738674163818),\n",
              " ('dam', 0.934174120426178),\n",
              " ('lines', 0.9275264143943787),\n",
              " ('km', 0.9252655506134033)]"
            ]
          },
          "metadata": {
            "tags": []
          },
          "execution_count": 16
        }
      ]
    },
    {
      "cell_type": "code",
      "metadata": {
        "id": "o587vQ_X7TMu",
        "colab_type": "code",
        "colab": {
          "base_uri": "https://localhost:8080/",
          "height": 253
        },
        "outputId": "107bfd84-d324-4086-f648-92e94a60d141"
      },
      "source": [
        "model2.wv.most_similar(\"service\")"
      ],
      "execution_count": 17,
      "outputs": [
        {
          "output_type": "stream",
          "text": [
            "/usr/local/lib/python3.6/dist-packages/gensim/matutils.py:737: FutureWarning: Conversion of the second argument of issubdtype from `int` to `np.signedinteger` is deprecated. In future, it will be treated as `np.int64 == np.dtype(int).type`.\n",
            "  if np.issubdtype(vec.dtype, np.int):\n"
          ],
          "name": "stderr"
        },
        {
          "output_type": "execute_result",
          "data": {
            "text/plain": [
              "[('services', 0.7989984750747681),\n",
              " ('attitude', 0.7117817997932434),\n",
              " ('hospitality', 0.6902007460594177),\n",
              " ('cleaning', 0.6698524951934814),\n",
              " ('team', 0.6518614292144775),\n",
              " ('food', 0.6441803574562073),\n",
              " ('outstanding', 0.641688883304596),\n",
              " ('concierge', 0.631514310836792),\n",
              " ('housekeeping', 0.6273354887962341),\n",
              " ('especially', 0.6207024455070496)]"
            ]
          },
          "metadata": {
            "tags": []
          },
          "execution_count": 17
        }
      ]
    },
    {
      "cell_type": "code",
      "metadata": {
        "id": "srHeYVem6xpe",
        "colab_type": "code",
        "colab": {
          "base_uri": "https://localhost:8080/",
          "height": 253
        },
        "outputId": "c4e42993-19cd-457e-b792-9f81b78643f0"
      },
      "source": [
        "model2.wv.most_similar(\"room\")"
      ],
      "execution_count": 18,
      "outputs": [
        {
          "output_type": "stream",
          "text": [
            "/usr/local/lib/python3.6/dist-packages/gensim/matutils.py:737: FutureWarning: Conversion of the second argument of issubdtype from `int` to `np.signedinteger` is deprecated. In future, it will be treated as `np.int64 == np.dtype(int).type`.\n",
            "  if np.issubdtype(vec.dtype, np.int):\n"
          ],
          "name": "stderr"
        },
        {
          "output_type": "execute_result",
          "data": {
            "text/plain": [
              "[('bathroom', 0.7714527249336243),\n",
              " ('suite', 0.7706912755966187),\n",
              " ('rooms', 0.6962864995002747),\n",
              " ('apartment', 0.6811289191246033),\n",
              " ('king', 0.6761717796325684),\n",
              " ('shower', 0.6708083152770996),\n",
              " ('bath', 0.6599761843681335),\n",
              " ('junior', 0.6343474984169006),\n",
              " ('bed', 0.632392942905426),\n",
              " ('bedroom', 0.6240509152412415)]"
            ]
          },
          "metadata": {
            "tags": []
          },
          "execution_count": 18
        }
      ]
    },
    {
      "cell_type": "code",
      "metadata": {
        "id": "MIG-af7X7vv4",
        "colab_type": "code",
        "colab": {
          "base_uri": "https://localhost:8080/",
          "height": 253
        },
        "outputId": "aef72c11-0327-4d1a-95fd-e37f4ecf29ae"
      },
      "source": [
        "model2.wv.most_similar(\"location\")"
      ],
      "execution_count": 19,
      "outputs": [
        {
          "output_type": "stream",
          "text": [
            "/usr/local/lib/python3.6/dist-packages/gensim/matutils.py:737: FutureWarning: Conversion of the second argument of issubdtype from `int` to `np.signedinteger` is deprecated. In future, it will be treated as `np.int64 == np.dtype(int).type`.\n",
            "  if np.issubdtype(vec.dtype, np.int):\n"
          ],
          "name": "stderr"
        },
        {
          "output_type": "execute_result",
          "data": {
            "text/plain": [
              "[('position', 0.6964618563652039),\n",
              " ('place', 0.650229275226593),\n",
              " ('everything', 0.5882082581520081),\n",
              " ('property', 0.5594277381896973),\n",
              " ('greenwich', 0.5542212128639221),\n",
              " ('elegance', 0.5507317781448364),\n",
              " ('neighborhood', 0.5421019792556763),\n",
              " ('leidseplein', 0.5398176312446594),\n",
              " ('spot', 0.5375691056251526),\n",
              " ('environment', 0.5369924306869507)]"
            ]
          },
          "metadata": {
            "tags": []
          },
          "execution_count": 19
        }
      ]
    },
    {
      "cell_type": "code",
      "metadata": {
        "id": "JyXljGzW7xyX",
        "colab_type": "code",
        "colab": {
          "base_uri": "https://localhost:8080/",
          "height": 253
        },
        "outputId": "81921468-da0d-408f-a42a-62512d75f216"
      },
      "source": [
        "model2.wv.most_similar(\"transport\")"
      ],
      "execution_count": 20,
      "outputs": [
        {
          "output_type": "stream",
          "text": [
            "/usr/local/lib/python3.6/dist-packages/gensim/matutils.py:737: FutureWarning: Conversion of the second argument of issubdtype from `int` to `np.signedinteger` is deprecated. In future, it will be treated as `np.int64 == np.dtype(int).type`.\n",
            "  if np.issubdtype(vec.dtype, np.int):\n"
          ],
          "name": "stderr"
        },
        {
          "output_type": "execute_result",
          "data": {
            "text/plain": [
              "[('public', 0.9748728275299072),\n",
              " ('transportation', 0.9729366898536682),\n",
              " ('stations', 0.9133415818214417),\n",
              " ('buses', 0.907095730304718),\n",
              " ('tourist', 0.9069772362709045),\n",
              " ('museums', 0.9060170650482178),\n",
              " ('trains', 0.9051945209503174),\n",
              " ('accessible', 0.9036531448364258),\n",
              " ('subway', 0.8965941071510315),\n",
              " ('mall', 0.8907855153083801)]"
            ]
          },
          "metadata": {
            "tags": []
          },
          "execution_count": 20
        }
      ]
    },
    {
      "cell_type": "code",
      "metadata": {
        "id": "QvyWyZOZ7zsu",
        "colab_type": "code",
        "colab": {}
      },
      "source": [
        ""
      ],
      "execution_count": 0,
      "outputs": []
    }
  ]
}
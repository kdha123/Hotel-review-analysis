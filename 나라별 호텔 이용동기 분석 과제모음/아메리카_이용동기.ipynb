{
  "nbformat": 4,
  "nbformat_minor": 0,
  "metadata": {
    "colab": {
      "name": "아메리카_이용동기.ipynb",
      "version": "0.3.2",
      "provenance": [],
      "collapsed_sections": []
    },
    "language_info": {
      "codemirror_mode": {
        "name": "ipython",
        "version": 3
      },
      "file_extension": ".py",
      "mimetype": "text/x-python",
      "name": "python",
      "nbconvert_exporter": "python",
      "pygments_lexer": "ipython3",
      "version": "3.7.3"
    },
    "kernelspec": {
      "display_name": "Python 3",
      "language": "python",
      "name": "python3"
    }
  },
  "cells": [
    {
      "cell_type": "code",
      "metadata": {
        "scrolled": true,
        "id": "IU7aX--O8BdH",
        "colab_type": "code",
        "colab": {
          "base_uri": "https://localhost:8080/",
          "height": 53
        },
        "outputId": "51eb3a29-e72e-4cf5-cb0b-6e18a9e34e9e"
      },
      "source": [
        "# -*- coding: utf-8 -*-\n",
        "%matplotlib inline\n",
        "import numpy as np\n",
        "import matplotlib.pyplot as plt\n",
        "import re\n",
        "from string import digits\n",
        "import nltk; nltk.download('stopwords')\n",
        "import os\n",
        "from pprint import pprint\n",
        "\n",
        "# Gensim\n",
        "import gensim\n",
        "import gensim.corpora as corpora\n",
        "from gensim.utils import simple_preprocess\n",
        "from gensim.models import CoherenceModel\n",
        "\n",
        "import warnings\n",
        "warnings.filterwarnings(\"ignore\",category=DeprecationWarning)\n"
      ],
      "execution_count": 1,
      "outputs": [
        {
          "output_type": "stream",
          "text": [
            "[nltk_data] Downloading package stopwords to /root/nltk_data...\n",
            "[nltk_data]   Package stopwords is already up-to-date!\n"
          ],
          "name": "stdout"
        }
      ]
    },
    {
      "cell_type": "code",
      "metadata": {
        "id": "0WM2vNU78BdN",
        "colab_type": "code",
        "colab": {
          "base_uri": "https://localhost:8080/",
          "height": 683
        },
        "outputId": "3ccc86d9-1ace-451e-d1f5-efe2ae414961"
      },
      "source": [
        "import pandas as pd\n",
        "hotel_review = pd.read_csv('Hotel_Reviews.csv')\n",
        "hotel_review.head()"
      ],
      "execution_count": 2,
      "outputs": [
        {
          "output_type": "execute_result",
          "data": {
            "text/html": [
              "<div>\n",
              "<style scoped>\n",
              "    .dataframe tbody tr th:only-of-type {\n",
              "        vertical-align: middle;\n",
              "    }\n",
              "\n",
              "    .dataframe tbody tr th {\n",
              "        vertical-align: top;\n",
              "    }\n",
              "\n",
              "    .dataframe thead th {\n",
              "        text-align: right;\n",
              "    }\n",
              "</style>\n",
              "<table border=\"1\" class=\"dataframe\">\n",
              "  <thead>\n",
              "    <tr style=\"text-align: right;\">\n",
              "      <th></th>\n",
              "      <th>Hotel_Address</th>\n",
              "      <th>Additional_Number_of_Scoring</th>\n",
              "      <th>Review_Date</th>\n",
              "      <th>Average_Score</th>\n",
              "      <th>Hotel_Name</th>\n",
              "      <th>Reviewer_Nationality</th>\n",
              "      <th>Negative_Review</th>\n",
              "      <th>Review_Total_Negative_Word_Counts</th>\n",
              "      <th>Total_Number_of_Reviews</th>\n",
              "      <th>Positive_Review</th>\n",
              "      <th>Review_Total_Positive_Word_Counts</th>\n",
              "      <th>Total_Number_of_Reviews_Reviewer_Has_Given</th>\n",
              "      <th>Reviewer_Score</th>\n",
              "      <th>Tags</th>\n",
              "      <th>days_since_review</th>\n",
              "      <th>lat</th>\n",
              "      <th>lng</th>\n",
              "    </tr>\n",
              "  </thead>\n",
              "  <tbody>\n",
              "    <tr>\n",
              "      <th>0</th>\n",
              "      <td>s Gravesandestraat 55 Oost 1092 AA Amsterdam ...</td>\n",
              "      <td>194</td>\n",
              "      <td>8/3/2017</td>\n",
              "      <td>7.7</td>\n",
              "      <td>Hotel Arena</td>\n",
              "      <td>Russia</td>\n",
              "      <td>I am so angry that i made this post available...</td>\n",
              "      <td>397</td>\n",
              "      <td>1403</td>\n",
              "      <td>Only the park outside of the hotel was beauti...</td>\n",
              "      <td>11</td>\n",
              "      <td>7</td>\n",
              "      <td>2.9</td>\n",
              "      <td>[' Leisure trip ', ' Couple ', ' Duplex Double...</td>\n",
              "      <td>0 days</td>\n",
              "      <td>52.360576</td>\n",
              "      <td>4.915968</td>\n",
              "    </tr>\n",
              "    <tr>\n",
              "      <th>1</th>\n",
              "      <td>s Gravesandestraat 55 Oost 1092 AA Amsterdam ...</td>\n",
              "      <td>194</td>\n",
              "      <td>8/3/2017</td>\n",
              "      <td>7.7</td>\n",
              "      <td>Hotel Arena</td>\n",
              "      <td>Ireland</td>\n",
              "      <td>No Negative</td>\n",
              "      <td>0</td>\n",
              "      <td>1403</td>\n",
              "      <td>No real complaints the hotel was great great ...</td>\n",
              "      <td>105</td>\n",
              "      <td>7</td>\n",
              "      <td>7.5</td>\n",
              "      <td>[' Leisure trip ', ' Couple ', ' Duplex Double...</td>\n",
              "      <td>0 days</td>\n",
              "      <td>52.360576</td>\n",
              "      <td>4.915968</td>\n",
              "    </tr>\n",
              "    <tr>\n",
              "      <th>2</th>\n",
              "      <td>s Gravesandestraat 55 Oost 1092 AA Amsterdam ...</td>\n",
              "      <td>194</td>\n",
              "      <td>7/31/2017</td>\n",
              "      <td>7.7</td>\n",
              "      <td>Hotel Arena</td>\n",
              "      <td>Australia</td>\n",
              "      <td>Rooms are nice but for elderly a bit difficul...</td>\n",
              "      <td>42</td>\n",
              "      <td>1403</td>\n",
              "      <td>Location was good and staff were ok It is cut...</td>\n",
              "      <td>21</td>\n",
              "      <td>9</td>\n",
              "      <td>7.1</td>\n",
              "      <td>[' Leisure trip ', ' Family with young childre...</td>\n",
              "      <td>3 days</td>\n",
              "      <td>52.360576</td>\n",
              "      <td>4.915968</td>\n",
              "    </tr>\n",
              "    <tr>\n",
              "      <th>3</th>\n",
              "      <td>s Gravesandestraat 55 Oost 1092 AA Amsterdam ...</td>\n",
              "      <td>194</td>\n",
              "      <td>7/31/2017</td>\n",
              "      <td>7.7</td>\n",
              "      <td>Hotel Arena</td>\n",
              "      <td>United Kingdom</td>\n",
              "      <td>My room was dirty and I was afraid to walk ba...</td>\n",
              "      <td>210</td>\n",
              "      <td>1403</td>\n",
              "      <td>Great location in nice surroundings the bar a...</td>\n",
              "      <td>26</td>\n",
              "      <td>1</td>\n",
              "      <td>3.8</td>\n",
              "      <td>[' Leisure trip ', ' Solo traveler ', ' Duplex...</td>\n",
              "      <td>3 days</td>\n",
              "      <td>52.360576</td>\n",
              "      <td>4.915968</td>\n",
              "    </tr>\n",
              "    <tr>\n",
              "      <th>4</th>\n",
              "      <td>s Gravesandestraat 55 Oost 1092 AA Amsterdam ...</td>\n",
              "      <td>194</td>\n",
              "      <td>7/24/2017</td>\n",
              "      <td>7.7</td>\n",
              "      <td>Hotel Arena</td>\n",
              "      <td>New Zealand</td>\n",
              "      <td>You When I booked with your company on line y...</td>\n",
              "      <td>140</td>\n",
              "      <td>1403</td>\n",
              "      <td>Amazing location and building Romantic setting</td>\n",
              "      <td>8</td>\n",
              "      <td>3</td>\n",
              "      <td>6.7</td>\n",
              "      <td>[' Leisure trip ', ' Couple ', ' Suite ', ' St...</td>\n",
              "      <td>10 days</td>\n",
              "      <td>52.360576</td>\n",
              "      <td>4.915968</td>\n",
              "    </tr>\n",
              "  </tbody>\n",
              "</table>\n",
              "</div>"
            ],
            "text/plain": [
              "                                       Hotel_Address  ...       lng\n",
              "0   s Gravesandestraat 55 Oost 1092 AA Amsterdam ...  ...  4.915968\n",
              "1   s Gravesandestraat 55 Oost 1092 AA Amsterdam ...  ...  4.915968\n",
              "2   s Gravesandestraat 55 Oost 1092 AA Amsterdam ...  ...  4.915968\n",
              "3   s Gravesandestraat 55 Oost 1092 AA Amsterdam ...  ...  4.915968\n",
              "4   s Gravesandestraat 55 Oost 1092 AA Amsterdam ...  ...  4.915968\n",
              "\n",
              "[5 rows x 17 columns]"
            ]
          },
          "metadata": {
            "tags": []
          },
          "execution_count": 2
        }
      ]
    },
    {
      "cell_type": "code",
      "metadata": {
        "id": "eXRnI_-B8BdT",
        "colab_type": "code",
        "colab": {
          "base_uri": "https://localhost:8080/",
          "height": 55
        },
        "outputId": "6940a11c-0629-43f5-ab1a-afa7aee31eea"
      },
      "source": [
        "# 나라 중복값 확인\n",
        "w_count  = {}\n",
        "for lst in hotel_review['Reviewer_Nationality']:\n",
        "    try: w_count[lst] += 1\n",
        "    except: w_count[lst]=1\n",
        "print(w_count)"
      ],
      "execution_count": 3,
      "outputs": [
        {
          "output_type": "stream",
          "text": [
            "{' Russia ': 3900, ' Ireland ': 14827, ' Australia ': 21686, ' United Kingdom ': 245246, ' New Zealand ': 3237, ' Poland ': 2891, ' Belgium ': 6031, ' Norway ': 2383, ' France ': 7296, ' Italy ': 6114, ' Canada ': 7894, ' Netherlands ': 8772, ' Germany ': 7941, ' United States of America ': 35437, ' Hungary ': 2185, ' Israel ': 6610, ' Switzerland ': 8678, ' India ': 3437, ' United Arab Emirates ': 10235, ' Malaysia ': 1883, ' Denmark ': 1724, ' South Africa ': 3821, ' Rwanda ': 13, ' Finland ': 1829, ' Portugal ': 1839, ' Luxembourg ': 1359, ' Spain ': 4737, ' Malta ': 1685, ' China ': 3400, ' Turkey ': 5444, ' Ukraine ': 1102, ' Gibraltar ': 380, ' Argentina ': 517, ' Abkhazia Georgia ': 153, ' Isle of Man ': 405, ' Sweden ': 3368, ' Croatia ': 1340, ' Saudi Arabia ': 8951, ' Lithuania ': 727, ' Slovenia ': 796, ' Panama ': 122, ' Austria ': 2412, ' Brazil ': 1865, ' Taiwan ': 923, ' Iceland ': 933, ' Iran ': 1086, ' Liechtenstein ': 20, ' Chile ': 334, ' Hong Kong ': 3013, ' United States Minor Outlying Islands ': 74, ' Morocco ': 229, ' Oman ': 1334, ' Lebanon ': 2261, ' Qatar ': 2757, ' Nigeria ': 977, ' Romania ': 4552, ' Czech Republic ': 2311, ' Greece ': 3406, ' Thailand ': 1880, ' Singapore ': 3091, ' Guernsey ': 543, ' Latvia ': 719, ' Namibia ': 67, ' Japan ': 1279, ' Egypt ': 2388, ' Slovakia ': 903, ' South Korea ': 1078, ' Kuwait ': 4920, ' Bahrain ': 1592, ' Jersey ': 863, ' Jordan ': 757, ' Bulgaria ': 1314, ' Cyprus ': 1381, ' Albania ': 286, ' Estonia ': 757, ' Serbia ': 1124, ' Belarus ': 192, ' Puerto Rico ': 180, ' Sudan ': 51, ' Sri Lanka ': 284, ' Indonesia ': 1548, ' Honduras ': 22, ' Philippines ': 1073, ' Montenegro ': 192, ' Uruguay ': 91, ' Brunei ': 100, ' Pakistan ': 916, ' Kosovo ': 72, ' Azerbaijan ': 277, ' ': 523, ' Botswana ': 42, ' Tanzania ': 58, ' Bangladesh ': 151, ' Trinidad and Tobago ': 154, ' Palestinian Territory ': 54, ' Peru ': 118, ' Mexico ': 592, ' Kenya ': 269, ' Zimbabwe ': 51, ' Macedonia ': 282, ' Georgia ': 294, ' Bermuda ': 103, ' Costa Rica ': 120, ' Bahamas ': 32, ' Maldives ': 49, ' Barbados ': 61, ' Libya ': 72, ' Fiji ': 12, ' Angola ': 62, ' Kazakhstan ': 281, ' Bosnia and Herzegovina ': 246, ' Colombia ': 277, ' Armenia ': 134, ' Vietnam ': 187, ' Iraq ': 290, ' Monaco ': 250, ' Uganda ': 47, ' Togo ': 7, ' Guatemala ': 53, ' Ghana ': 145, ' Macau ': 109, ' Zambia ': 37, ' Jamaica ': 41, ' Mauritius ': 216, ' Venezuela ': 78, ' Crimea ': 6, ' St Maarten ': 11, ' Algeria ': 100, ' Equatorial Guinea ': 2, ' Nicaragua ': 15, ' Comoros ': 1, ' Cayman Islands ': 42, ' Ethiopia ': 32, ' Dominican Republic ': 52, ' Ecuador ': 61, ' Uzbekistan ': 20, ' Turks Caicos Islands ': 14, ' Nepal ': 15, ' Mozambique ': 35, ' Sierra Leone ': 6, ' Ivory Coast ': 19, ' Cura ao ': 41, ' Antigua Barbuda ': 14, ' Burundi ': 3, ' East Timor ': 4, ' Tunisia ': 76, ' Andorra ': 64, ' U S Virgin Islands ': 17, ' Antarctica ': 3, ' Papua New Guinea ': 14, ' Montserrat ': 2, ' Malawi ': 10, ' Yemen ': 16, ' Suriname ': 11, ' Paraguay ': 28, ' Aruba ': 31, ' Mongolia ': 39, ' Moldova ': 108, ' St Pierre and Miquelon ': 2, ' Cambodia ': 34, ' Seychelles ': 21, ' Guyana ': 5, ' Senegal ': 24, ' El Salvador ': 24, ' Guam ': 14, ' Myanmar ': 18, ' Madagascar ': 8, ' Benin ': 6, ' Saint Kitts and Nevis ': 9, ' Martinique ': 5, ' Vanuatu ': 8, ' British Virgin Islands ': 16, ' Belize ': 8, ' Democratic Republic of the Congo ': 9, ' Gabon ': 7, ' New Caledonia ': 10, ' Bhutan ': 6, ' Faroe Islands ': 16, ' Kyrgyzstan ': 21, ' Gambia ': 5, ' Syria ': 33, ' Laos ': 9, ' Mauritania ': 8, ' Central Africa Republic ': 3, ' Reunion ': 6, ' Saint Martin ': 4, ' Cameroon ': 9, ' Guadeloupe ': 5, ' Liberia ': 3, ' Haiti ': 6, ' Mali ': 5, ' Saint Lucia ': 8, ' French Guiana ': 4, ' Swaziland ': 8, ' Falkland Islands Malvinas ': 6, ' Tajikistan ': 16, ' Afghanistan ': 8, ' Bolivia ': 18, ' Dominica ': 11, ' Niger ': 2, ' Samoa ': 4, ' Lesotho ': 3, ' French Polynesia ': 3, ' Grenada ': 3, ' Wallis and Futuna ': 2, ' Svalbard Jan Mayen ': 1, ' Djibouti ': 2, ' Saint Barts ': 3, ' Kiribati ': 2, ' Cook Islands ': 2, ' Congo ': 3, ' Somalia ': 3, ' Eritrea ': 2, ' Saint Vincent Grenadines ': 2, ' San Marino ': 3, ' Turkmenistan ': 5, ' Vatican City ': 1, ' South Sudan ': 2, ' Anguilla ': 1, ' Cocos K I ': 2, ' Bonaire St Eustatius and Saba ': 3, ' Cape Verde ': 1, ' Northern Mariana Islands ': 1, ' Tuvalu ': 1, ' Guinea ': 1, ' American Samoa ': 2, ' Palau ': 1}\n"
          ],
          "name": "stdout"
        }
      ]
    },
    {
      "cell_type": "code",
      "metadata": {
        "id": "xuAb1TfN8BdW",
        "colab_type": "code",
        "colab": {
          "base_uri": "https://localhost:8080/",
          "height": 2734
        },
        "outputId": "dd779cff-7e5b-46f1-e9db-eb439ebab687"
      },
      "source": [
        "# 대륙별 행 추출\n",
        "hotel_review_America = hotel_review[['Reviewer_Nationality',\"Negative_Review\",\"Positive_Review\"]]\n",
        "Usa = hotel_review_America[hotel_review_America['Reviewer_Nationality']  == \" United Stated of America \"]\n",
        "Ca = hotel_review_America[hotel_review_America['Reviewer_Nationality']  == \" Canada \"]\n",
        "Ar = hotel_review_America[hotel_review_America['Reviewer_Nationality']  == \" Argentina \"]\n",
        "Br = hotel_review_America[hotel_review_America['Reviewer_Nationality']  == \" Brazil \"]\n",
        "Me = hotel_review_America[hotel_review_America['Reviewer_Nationality']  == \" Mexico \"]\n",
        "AMERICA = pd.concat([Usa,Ca,Ar,Br,Me])\n",
        "AMERICA"
      ],
      "execution_count": 4,
      "outputs": [
        {
          "output_type": "execute_result",
          "data": {
            "text/html": [
              "<div>\n",
              "<style scoped>\n",
              "    .dataframe tbody tr th:only-of-type {\n",
              "        vertical-align: middle;\n",
              "    }\n",
              "\n",
              "    .dataframe tbody tr th {\n",
              "        vertical-align: top;\n",
              "    }\n",
              "\n",
              "    .dataframe thead th {\n",
              "        text-align: right;\n",
              "    }\n",
              "</style>\n",
              "<table border=\"1\" class=\"dataframe\">\n",
              "  <thead>\n",
              "    <tr style=\"text-align: right;\">\n",
              "      <th></th>\n",
              "      <th>Reviewer_Nationality</th>\n",
              "      <th>Negative_Review</th>\n",
              "      <th>Positive_Review</th>\n",
              "    </tr>\n",
              "  </thead>\n",
              "  <tbody>\n",
              "    <tr>\n",
              "      <th>14</th>\n",
              "      <td>Canada</td>\n",
              "      <td>The staff in the restaurant could of been mor...</td>\n",
              "      <td>It was very good very historic building that ...</td>\n",
              "    </tr>\n",
              "    <tr>\n",
              "      <th>39</th>\n",
              "      <td>Canada</td>\n",
              "      <td>Staff a few were friendly and willing enough ...</td>\n",
              "      <td>Location on the park with easy access to tram...</td>\n",
              "    </tr>\n",
              "    <tr>\n",
              "      <th>106</th>\n",
              "      <td>Canada</td>\n",
              "      <td>The front desk staff particularly the young m...</td>\n",
              "      <td>The rooms were comfortable and clean and the ...</td>\n",
              "    </tr>\n",
              "    <tr>\n",
              "      <th>117</th>\n",
              "      <td>Canada</td>\n",
              "      <td>The outside of the hotel is under constructio...</td>\n",
              "      <td>The inside of the hotel is very classy He sta...</td>\n",
              "    </tr>\n",
              "    <tr>\n",
              "      <th>119</th>\n",
              "      <td>Canada</td>\n",
              "      <td>The hotel gardens and patios were under major...</td>\n",
              "      <td>The location of this hotel is great It s very...</td>\n",
              "    </tr>\n",
              "    <tr>\n",
              "      <th>215</th>\n",
              "      <td>Canada</td>\n",
              "      <td>No Negative</td>\n",
              "      <td>It was a well kept hotel in a lovely area The...</td>\n",
              "    </tr>\n",
              "    <tr>\n",
              "      <th>219</th>\n",
              "      <td>Canada</td>\n",
              "      <td>We don t like the open concept shower It gets...</td>\n",
              "      <td>We liked the location and the extra pleasant ...</td>\n",
              "    </tr>\n",
              "    <tr>\n",
              "      <th>246</th>\n",
              "      <td>Canada</td>\n",
              "      <td>Beds sucked Air conditioner too loud for use</td>\n",
              "      <td>Nice property and building</td>\n",
              "    </tr>\n",
              "    <tr>\n",
              "      <th>264</th>\n",
              "      <td>Canada</td>\n",
              "      <td>The hotel was under renovation while we there...</td>\n",
              "      <td>The bed was very comfortable and the room was...</td>\n",
              "    </tr>\n",
              "    <tr>\n",
              "      <th>418</th>\n",
              "      <td>Canada</td>\n",
              "      <td>Squeaky floors Difficult to go to the bathroo...</td>\n",
              "      <td>Clean comfy beds Beautiful gardens Excellent ...</td>\n",
              "    </tr>\n",
              "    <tr>\n",
              "      <th>432</th>\n",
              "      <td>Canada</td>\n",
              "      <td>The rooms are very small we had trouble fitti...</td>\n",
              "      <td>The location is excellent direct route from t...</td>\n",
              "    </tr>\n",
              "    <tr>\n",
              "      <th>444</th>\n",
              "      <td>Canada</td>\n",
              "      <td>We choose to personally take our laundry to b...</td>\n",
              "      <td>Staff was very friendly and helpful The locat...</td>\n",
              "    </tr>\n",
              "    <tr>\n",
              "      <th>454</th>\n",
              "      <td>Canada</td>\n",
              "      <td>No Negative</td>\n",
              "      <td>I especially liked my room s well operating w...</td>\n",
              "    </tr>\n",
              "    <tr>\n",
              "      <th>495</th>\n",
              "      <td>Canada</td>\n",
              "      <td>There was nothing that we can think of The ro...</td>\n",
              "      <td>It was small but comfortable and very quiet T...</td>\n",
              "    </tr>\n",
              "    <tr>\n",
              "      <th>532</th>\n",
              "      <td>Canada</td>\n",
              "      <td>They weren t inexpensive</td>\n",
              "      <td>The room was clean the buffet offered plenty ...</td>\n",
              "    </tr>\n",
              "    <tr>\n",
              "      <th>545</th>\n",
              "      <td>Canada</td>\n",
              "      <td>Took several days to fix a broken window curt...</td>\n",
              "      <td>Very comfortable beds Very quiet despite faci...</td>\n",
              "    </tr>\n",
              "    <tr>\n",
              "      <th>562</th>\n",
              "      <td>Canada</td>\n",
              "      <td>Wifi is hit and miss not a huge deal but it i...</td>\n",
              "      <td>This is an excellent hotel Location is amazin...</td>\n",
              "    </tr>\n",
              "    <tr>\n",
              "      <th>564</th>\n",
              "      <td>Canada</td>\n",
              "      <td>No Negative</td>\n",
              "      <td>staff are always joyful and helpful we were u...</td>\n",
              "    </tr>\n",
              "    <tr>\n",
              "      <th>570</th>\n",
              "      <td>Canada</td>\n",
              "      <td>Rooms are small and would have preferred one ...</td>\n",
              "      <td>The location is perfect Close to the tube aro...</td>\n",
              "    </tr>\n",
              "    <tr>\n",
              "      <th>753</th>\n",
              "      <td>Canada</td>\n",
              "      <td>Bathrooms very small</td>\n",
              "      <td>No Positive</td>\n",
              "    </tr>\n",
              "    <tr>\n",
              "      <th>762</th>\n",
              "      <td>Canada</td>\n",
              "      <td>No Negative</td>\n",
              "      <td>Excellent location Nice and quiet with easy a...</td>\n",
              "    </tr>\n",
              "    <tr>\n",
              "      <th>842</th>\n",
              "      <td>Canada</td>\n",
              "      <td>No Negative</td>\n",
              "      <td>Quiet friendly staff cleanliness garden very ...</td>\n",
              "    </tr>\n",
              "    <tr>\n",
              "      <th>885</th>\n",
              "      <td>Canada</td>\n",
              "      <td>Very disappointed they removed the early morn...</td>\n",
              "      <td>Staff are amazing</td>\n",
              "    </tr>\n",
              "    <tr>\n",
              "      <th>960</th>\n",
              "      <td>Canada</td>\n",
              "      <td>Bathroom was tiny terrible lay out</td>\n",
              "      <td>Location</td>\n",
              "    </tr>\n",
              "    <tr>\n",
              "      <th>983</th>\n",
              "      <td>Canada</td>\n",
              "      <td>Meals very plain No extras or garnishes Resta...</td>\n",
              "      <td>Nice room Modern and cool Bar space in lobby ...</td>\n",
              "    </tr>\n",
              "    <tr>\n",
              "      <th>991</th>\n",
              "      <td>Canada</td>\n",
              "      <td>No Negative</td>\n",
              "      <td>Book a room that comes with access to the Clu...</td>\n",
              "    </tr>\n",
              "    <tr>\n",
              "      <th>1213</th>\n",
              "      <td>Canada</td>\n",
              "      <td>No Negative</td>\n",
              "      <td>Nice modern clean decor Great location Close ...</td>\n",
              "    </tr>\n",
              "    <tr>\n",
              "      <th>1309</th>\n",
              "      <td>Canada</td>\n",
              "      <td>No Negative</td>\n",
              "      <td>The hotel is in a very central location but t...</td>\n",
              "    </tr>\n",
              "    <tr>\n",
              "      <th>1410</th>\n",
              "      <td>Canada</td>\n",
              "      <td>Service at the restaurant is slightly slow</td>\n",
              "      <td>No Positive</td>\n",
              "    </tr>\n",
              "    <tr>\n",
              "      <th>1544</th>\n",
              "      <td>Canada</td>\n",
              "      <td>No Negative</td>\n",
              "      <td>Very new and modern</td>\n",
              "    </tr>\n",
              "    <tr>\n",
              "      <th>...</th>\n",
              "      <td>...</td>\n",
              "      <td>...</td>\n",
              "      <td>...</td>\n",
              "    </tr>\n",
              "    <tr>\n",
              "      <th>494507</th>\n",
              "      <td>Mexico</td>\n",
              "      <td>No Negative</td>\n",
              "      <td>Excelent restaurant</td>\n",
              "    </tr>\n",
              "    <tr>\n",
              "      <th>497214</th>\n",
              "      <td>Mexico</td>\n",
              "      <td>Room and Bathroom</td>\n",
              "      <td>Service</td>\n",
              "    </tr>\n",
              "    <tr>\n",
              "      <th>497454</th>\n",
              "      <td>Mexico</td>\n",
              "      <td>No Negative</td>\n",
              "      <td>Great location and nice staff</td>\n",
              "    </tr>\n",
              "    <tr>\n",
              "      <th>497532</th>\n",
              "      <td>Mexico</td>\n",
              "      <td>Dear Sir hotel customer care I am currently s...</td>\n",
              "      <td>Nothing ver very bad experience they could no...</td>\n",
              "    </tr>\n",
              "    <tr>\n",
              "      <th>497924</th>\n",
              "      <td>Mexico</td>\n",
              "      <td>None overall great service the building is ol...</td>\n",
              "      <td>Location is perfect close to best attractions...</td>\n",
              "    </tr>\n",
              "    <tr>\n",
              "      <th>498259</th>\n",
              "      <td>Mexico</td>\n",
              "      <td>THE HOTEL IS VERY OLD NEEDS REMODELING IT IS ...</td>\n",
              "      <td>No Positive</td>\n",
              "    </tr>\n",
              "    <tr>\n",
              "      <th>498337</th>\n",
              "      <td>Mexico</td>\n",
              "      <td>Breakfast</td>\n",
              "      <td>Awsome location</td>\n",
              "    </tr>\n",
              "    <tr>\n",
              "      <th>498353</th>\n",
              "      <td>Mexico</td>\n",
              "      <td>Smell in the room</td>\n",
              "      <td>Location and convenience</td>\n",
              "    </tr>\n",
              "    <tr>\n",
              "      <th>498514</th>\n",
              "      <td>Mexico</td>\n",
              "      <td>very old rooms and bathrooms</td>\n",
              "      <td>the location was excellent very good breakfast</td>\n",
              "    </tr>\n",
              "    <tr>\n",
              "      <th>498620</th>\n",
              "      <td>Mexico</td>\n",
              "      <td>Could hear people walking in the hallway Room...</td>\n",
              "      <td>Great location very helpful staff</td>\n",
              "    </tr>\n",
              "    <tr>\n",
              "      <th>500552</th>\n",
              "      <td>Mexico</td>\n",
              "      <td>The room was like a sauna Staff did not care ...</td>\n",
              "      <td>Nothing</td>\n",
              "    </tr>\n",
              "    <tr>\n",
              "      <th>500669</th>\n",
              "      <td>Mexico</td>\n",
              "      <td>You could always put a little more on cleanli...</td>\n",
              "      <td>Staff was extremely helpful</td>\n",
              "    </tr>\n",
              "    <tr>\n",
              "      <th>503762</th>\n",
              "      <td>Mexico</td>\n",
              "      <td>A little bit expensive the breakfast for just...</td>\n",
              "      <td>The view from the room nice and quiet hotel</td>\n",
              "    </tr>\n",
              "    <tr>\n",
              "      <th>505952</th>\n",
              "      <td>Mexico</td>\n",
              "      <td>No Negative</td>\n",
              "      <td>Personal security in the entrance beautiful v...</td>\n",
              "    </tr>\n",
              "    <tr>\n",
              "      <th>506503</th>\n",
              "      <td>Mexico</td>\n",
              "      <td>No Negative</td>\n",
              "      <td>Everything it is so Awesome</td>\n",
              "    </tr>\n",
              "    <tr>\n",
              "      <th>506792</th>\n",
              "      <td>Mexico</td>\n",
              "      <td>No Negative</td>\n",
              "      <td>Great place very nice and modern</td>\n",
              "    </tr>\n",
              "    <tr>\n",
              "      <th>507204</th>\n",
              "      <td>Mexico</td>\n",
              "      <td>price</td>\n",
              "      <td>location facilities</td>\n",
              "    </tr>\n",
              "    <tr>\n",
              "      <th>507522</th>\n",
              "      <td>Mexico</td>\n",
              "      <td>Parking is minorly Expensive</td>\n",
              "      <td>Rooms Were Beautiful</td>\n",
              "    </tr>\n",
              "    <tr>\n",
              "      <th>507925</th>\n",
              "      <td>Mexico</td>\n",
              "      <td>No Negative</td>\n",
              "      <td>Location excellent hotel</td>\n",
              "    </tr>\n",
              "    <tr>\n",
              "      <th>508162</th>\n",
              "      <td>Mexico</td>\n",
              "      <td>My room was a little dark had an insude view</td>\n",
              "      <td>Location confort and prize</td>\n",
              "    </tr>\n",
              "    <tr>\n",
              "      <th>508167</th>\n",
              "      <td>Mexico</td>\n",
              "      <td>Bathroom door has not lock</td>\n",
              "      <td>Location</td>\n",
              "    </tr>\n",
              "    <tr>\n",
              "      <th>509248</th>\n",
              "      <td>Mexico</td>\n",
              "      <td>Cleaning and room and house service every day</td>\n",
              "      <td>They dont clean the rooms everyday but every ...</td>\n",
              "    </tr>\n",
              "    <tr>\n",
              "      <th>509885</th>\n",
              "      <td>Mexico</td>\n",
              "      <td>You couldn t get room service</td>\n",
              "      <td>The bedroom was very clean and comfortable Th...</td>\n",
              "    </tr>\n",
              "    <tr>\n",
              "      <th>510522</th>\n",
              "      <td>Mexico</td>\n",
              "      <td>No Negative</td>\n",
              "      <td>It is a fantastic hotel Very cool and well de...</td>\n",
              "    </tr>\n",
              "    <tr>\n",
              "      <th>511579</th>\n",
              "      <td>Mexico</td>\n",
              "      <td>Only two available electricity sockets at the...</td>\n",
              "      <td>The staff was very gently The breakfast buffe...</td>\n",
              "    </tr>\n",
              "    <tr>\n",
              "      <th>512213</th>\n",
              "      <td>Mexico</td>\n",
              "      <td>Breakfast is very poor it has very low variet...</td>\n",
              "      <td>The room was big difficult to find in Europe</td>\n",
              "    </tr>\n",
              "    <tr>\n",
              "      <th>512254</th>\n",
              "      <td>Mexico</td>\n",
              "      <td>No Negative</td>\n",
              "      <td>They are extremly friendly The location is ve...</td>\n",
              "    </tr>\n",
              "    <tr>\n",
              "      <th>512508</th>\n",
              "      <td>Mexico</td>\n",
              "      <td>No Negative</td>\n",
              "      <td>The staff at Amadeus was extremely nice and h...</td>\n",
              "    </tr>\n",
              "    <tr>\n",
              "      <th>514672</th>\n",
              "      <td>Mexico</td>\n",
              "      <td>Maybe better pillows</td>\n",
              "      <td>The staff was very nice The room was perfect ...</td>\n",
              "    </tr>\n",
              "    <tr>\n",
              "      <th>515736</th>\n",
              "      <td>Mexico</td>\n",
              "      <td>No Negative</td>\n",
              "      <td>The rooms are enormous and really comfortable...</td>\n",
              "    </tr>\n",
              "  </tbody>\n",
              "</table>\n",
              "<p>10868 rows × 3 columns</p>\n",
              "</div>"
            ],
            "text/plain": [
              "       Reviewer_Nationality  ...                                    Positive_Review\n",
              "14                  Canada   ...   It was very good very historic building that ...\n",
              "39                  Canada   ...   Location on the park with easy access to tram...\n",
              "106                 Canada   ...   The rooms were comfortable and clean and the ...\n",
              "117                 Canada   ...   The inside of the hotel is very classy He sta...\n",
              "119                 Canada   ...   The location of this hotel is great It s very...\n",
              "215                 Canada   ...   It was a well kept hotel in a lovely area The...\n",
              "219                 Canada   ...   We liked the location and the extra pleasant ...\n",
              "246                 Canada   ...                        Nice property and building \n",
              "264                 Canada   ...   The bed was very comfortable and the room was...\n",
              "418                 Canada   ...   Clean comfy beds Beautiful gardens Excellent ...\n",
              "432                 Canada   ...   The location is excellent direct route from t...\n",
              "444                 Canada   ...   Staff was very friendly and helpful The locat...\n",
              "454                 Canada   ...   I especially liked my room s well operating w...\n",
              "495                 Canada   ...   It was small but comfortable and very quiet T...\n",
              "532                 Canada   ...   The room was clean the buffet offered plenty ...\n",
              "545                 Canada   ...   Very comfortable beds Very quiet despite faci...\n",
              "562                 Canada   ...   This is an excellent hotel Location is amazin...\n",
              "564                 Canada   ...   staff are always joyful and helpful we were u...\n",
              "570                 Canada   ...   The location is perfect Close to the tube aro...\n",
              "753                 Canada   ...                                        No Positive\n",
              "762                 Canada   ...   Excellent location Nice and quiet with easy a...\n",
              "842                 Canada   ...   Quiet friendly staff cleanliness garden very ...\n",
              "885                 Canada   ...                                 Staff are amazing \n",
              "960                 Canada   ...                                           Location\n",
              "983                 Canada   ...   Nice room Modern and cool Bar space in lobby ...\n",
              "991                 Canada   ...   Book a room that comes with access to the Clu...\n",
              "1213                Canada   ...   Nice modern clean decor Great location Close ...\n",
              "1309                Canada   ...   The hotel is in a very central location but t...\n",
              "1410                Canada   ...                                        No Positive\n",
              "1544                Canada   ...                                Very new and modern\n",
              "...                     ...  ...                                                ...\n",
              "494507              Mexico   ...                                Excelent restaurant\n",
              "497214              Mexico   ...                                            Service\n",
              "497454              Mexico   ...                      Great location and nice staff\n",
              "497532              Mexico   ...   Nothing ver very bad experience they could no...\n",
              "497924              Mexico   ...   Location is perfect close to best attractions...\n",
              "498259              Mexico   ...                                        No Positive\n",
              "498337              Mexico   ...                                    Awsome location\n",
              "498353              Mexico   ...                           Location and convenience\n",
              "498514              Mexico   ...     the location was excellent very good breakfast\n",
              "498620              Mexico   ...                 Great location very helpful staff \n",
              "500552              Mexico   ...                                            Nothing\n",
              "500669              Mexico   ...                        Staff was extremely helpful\n",
              "503762              Mexico   ...       The view from the room nice and quiet hotel \n",
              "505952              Mexico   ...   Personal security in the entrance beautiful v...\n",
              "506503              Mexico   ...                       Everything it is so Awesome \n",
              "506792              Mexico   ...                  Great place very nice and modern \n",
              "507204              Mexico   ...                                location facilities\n",
              "507522              Mexico   ...                               Rooms Were Beautiful\n",
              "507925              Mexico   ...                          Location excellent hotel \n",
              "508162              Mexico   ...                         Location confort and prize\n",
              "508167              Mexico   ...                                           Location\n",
              "509248              Mexico   ...   They dont clean the rooms everyday but every ...\n",
              "509885              Mexico   ...   The bedroom was very clean and comfortable Th...\n",
              "510522              Mexico   ...   It is a fantastic hotel Very cool and well de...\n",
              "511579              Mexico   ...   The staff was very gently The breakfast buffe...\n",
              "512213              Mexico   ...      The room was big difficult to find in Europe \n",
              "512254              Mexico   ...   They are extremly friendly The location is ve...\n",
              "512508              Mexico   ...   The staff at Amadeus was extremely nice and h...\n",
              "514672              Mexico   ...   The staff was very nice The room was perfect ...\n",
              "515736              Mexico   ...   The rooms are enormous and really comfortable...\n",
              "\n",
              "[10868 rows x 3 columns]"
            ]
          },
          "metadata": {
            "tags": []
          },
          "execution_count": 4
        }
      ]
    },
    {
      "cell_type": "code",
      "metadata": {
        "id": "QUDBbl7u8BdY",
        "colab_type": "code",
        "colab": {}
      },
      "source": [
        "Negative = AMERICA.iloc[:,1]\n",
        "Positive = AMERICA.iloc[:,2]"
      ],
      "execution_count": 0,
      "outputs": []
    },
    {
      "cell_type": "code",
      "metadata": {
        "id": "u1xpkiuC8Bda",
        "colab_type": "code",
        "colab": {
          "base_uri": "https://localhost:8080/",
          "height": 71
        },
        "outputId": "a2363b62-13b2-412f-d960-dc429babc3bb"
      },
      "source": [
        "Negative = [re.sub(\"\\'\", \"\", str(sent)) for sent in Negative]\n",
        "Negative = [re.sub(\"No Negative'\", \"\", str(sent)) for sent in Negative]\n",
        "pprint(Negative[:1])"
      ],
      "execution_count": 6,
      "outputs": [
        {
          "output_type": "stream",
          "text": [
            "[' The staff in the restaurant could of been more pleasant we only visited '\n",
            " 'once but that wouldn t stop us from booking again it might of just been an '\n",
            " 'off night for him ']\n"
          ],
          "name": "stdout"
        }
      ]
    },
    {
      "cell_type": "code",
      "metadata": {
        "id": "1XvkUkyn8Bdd",
        "colab_type": "code",
        "colab": {
          "base_uri": "https://localhost:8080/",
          "height": 35
        },
        "outputId": "9f8f45f3-913c-4561-f995-7faae6ce37dd"
      },
      "source": [
        "Positive = [re.sub(\"\\'\", \"\", str(sent1)) for sent1 in Positive]\n",
        "Positive = [re.sub(\"No Positive'\", \"\", str(sent1)) for sent1 in Positive]\n",
        "pprint(Positive[:1])"
      ],
      "execution_count": 7,
      "outputs": [
        {
          "output_type": "stream",
          "text": [
            "[' It was very good very historic building that s why I chose it ']\n"
          ],
          "name": "stdout"
        }
      ]
    },
    {
      "cell_type": "code",
      "metadata": {
        "id": "rP8BLte28Bdg",
        "colab_type": "code",
        "colab": {}
      },
      "source": [
        "import gensim \n",
        "from gensim.models import Word2Vec"
      ],
      "execution_count": 0,
      "outputs": []
    },
    {
      "cell_type": "code",
      "metadata": {
        "id": "e7DDa1Xb8Bdi",
        "colab_type": "code",
        "colab": {
          "base_uri": "https://localhost:8080/",
          "height": 73
        },
        "outputId": "61348f88-ab36-4ac8-9a88-de97f6ba1727"
      },
      "source": [
        "def sent_to_words(sentences):\n",
        "    for sentence in sentences:\n",
        "        yield(gensim.utils.simple_preprocess(str(sentence), deacc=True))  # deacc=True removes punctuations\n",
        "\n",
        "data_words1 = list(sent_to_words(Negative))\n",
        "data_words2 = list(sent_to_words(Positive))\n",
        "\n",
        "print(data_words1[:1])\n",
        "print(data_words2[:1])"
      ],
      "execution_count": 9,
      "outputs": [
        {
          "output_type": "stream",
          "text": [
            "[['the', 'staff', 'in', 'the', 'restaurant', 'could', 'of', 'been', 'more', 'pleasant', 'we', 'only', 'visited', 'once', 'but', 'that', 'wouldn', 'stop', 'us', 'from', 'booking', 'again', 'it', 'might', 'of', 'just', 'been', 'an', 'off', 'night', 'for', 'him']]\n",
            "[['it', 'was', 'very', 'good', 'very', 'historic', 'building', 'that', 'why', 'chose', 'it']]\n"
          ],
          "name": "stdout"
        }
      ]
    },
    {
      "cell_type": "code",
      "metadata": {
        "id": "-e0rqN0v8Bdm",
        "colab_type": "code",
        "colab": {
          "base_uri": "https://localhost:8080/",
          "height": 53
        },
        "outputId": "1b61bef6-7ca2-46f0-85f7-916e1d222bc5"
      },
      "source": [
        "%%time\n",
        "model1 = Word2Vec(data_words1)"
      ],
      "execution_count": 10,
      "outputs": [
        {
          "output_type": "stream",
          "text": [
            "CPU times: user 1.96 s, sys: 16 ms, total: 1.98 s\n",
            "Wall time: 1.15 s\n"
          ],
          "name": "stdout"
        }
      ]
    },
    {
      "cell_type": "code",
      "metadata": {
        "id": "KoGychvr8Bdo",
        "colab_type": "code",
        "colab": {
          "base_uri": "https://localhost:8080/",
          "height": 53
        },
        "outputId": "5437a8b7-63a6-46e4-e7b5-cb250657ea60"
      },
      "source": [
        "%%time\n",
        "model2 = Word2Vec(data_words2)"
      ],
      "execution_count": 11,
      "outputs": [
        {
          "output_type": "stream",
          "text": [
            "CPU times: user 1.78 s, sys: 17 ms, total: 1.79 s\n",
            "Wall time: 1 s\n"
          ],
          "name": "stdout"
        }
      ]
    },
    {
      "cell_type": "code",
      "metadata": {
        "id": "tFra_ScX8Bdr",
        "colab_type": "code",
        "colab": {
          "base_uri": "https://localhost:8080/",
          "height": 253
        },
        "outputId": "a8186c92-1de8-44f5-a42b-ff0e2a298e86"
      },
      "source": [
        "model1.wv.most_similar(\"service\")"
      ],
      "execution_count": 13,
      "outputs": [
        {
          "output_type": "stream",
          "text": [
            "/usr/local/lib/python3.6/dist-packages/gensim/matutils.py:737: FutureWarning: Conversion of the second argument of issubdtype from `int` to `np.signedinteger` is deprecated. In future, it will be treated as `np.int64 == np.dtype(int).type`.\n",
            "  if np.issubdtype(vec.dtype, np.int):\n"
          ],
          "name": "stderr"
        },
        {
          "output_type": "execute_result",
          "data": {
            "text/plain": [
              "[('food', 0.9849331974983215),\n",
              " ('bad', 0.9822552800178528),\n",
              " ('restaurant', 0.9796799421310425),\n",
              " ('impersonal', 0.9785584807395935),\n",
              " ('slow', 0.978010892868042),\n",
              " ('wifi', 0.9748818874359131),\n",
              " ('pool', 0.9738884568214417),\n",
              " ('cooked', 0.9729845523834229),\n",
              " ('high', 0.9724013805389404),\n",
              " ('fitted', 0.9714035391807556)]"
            ]
          },
          "metadata": {
            "tags": []
          },
          "execution_count": 13
        }
      ]
    },
    {
      "cell_type": "code",
      "metadata": {
        "id": "zD_Rbcfv8SYl",
        "colab_type": "code",
        "colab": {
          "base_uri": "https://localhost:8080/",
          "height": 253
        },
        "outputId": "d8b89c41-53d4-4901-e128-97ecea483f81"
      },
      "source": [
        "model1.wv.most_similar(\"room\")"
      ],
      "execution_count": 14,
      "outputs": [
        {
          "output_type": "stream",
          "text": [
            "/usr/local/lib/python3.6/dist-packages/gensim/matutils.py:737: FutureWarning: Conversion of the second argument of issubdtype from `int` to `np.signedinteger` is deprecated. In future, it will be treated as `np.int64 == np.dtype(int).type`.\n",
            "  if np.issubdtype(vec.dtype, np.int):\n"
          ],
          "name": "stderr"
        },
        {
          "output_type": "execute_result",
          "data": {
            "text/plain": [
              "[('elevator', 0.9537550210952759),\n",
              " ('bed', 0.944840669631958),\n",
              " ('bathroom', 0.937239408493042),\n",
              " ('side', 0.9328557252883911),\n",
              " ('size', 0.9327760338783264),\n",
              " ('shower', 0.9318338632583618),\n",
              " ('beds', 0.9309026598930359),\n",
              " ('dark', 0.9299718737602234),\n",
              " ('noisy', 0.9256476163864136),\n",
              " ('uncomfortable', 0.9234119653701782)]"
            ]
          },
          "metadata": {
            "tags": []
          },
          "execution_count": 14
        }
      ]
    },
    {
      "cell_type": "code",
      "metadata": {
        "id": "hsfSAtX58SJI",
        "colab_type": "code",
        "colab": {
          "base_uri": "https://localhost:8080/",
          "height": 253
        },
        "outputId": "e3eedcc0-27dc-4778-9e67-0f4b5d28214d"
      },
      "source": [
        "model1.wv.most_similar(\"location\")"
      ],
      "execution_count": 15,
      "outputs": [
        {
          "output_type": "stream",
          "text": [
            "/usr/local/lib/python3.6/dist-packages/gensim/matutils.py:737: FutureWarning: Conversion of the second argument of issubdtype from `int` to `np.signedinteger` is deprecated. In future, it will be treated as `np.int64 == np.dtype(int).type`.\n",
            "  if np.issubdtype(vec.dtype, np.int):\n"
          ],
          "name": "stderr"
        },
        {
          "output_type": "execute_result",
          "data": {
            "text/plain": [
              "[('quite', 0.9838259220123291),\n",
              " ('old', 0.9787646532058716),\n",
              " ('dated', 0.9736653566360474),\n",
              " ('soft', 0.9725807309150696),\n",
              " ('high', 0.9722407460212708),\n",
              " ('far', 0.9702354669570923),\n",
              " ('fancy', 0.9687228798866272),\n",
              " ('bit', 0.9686322212219238),\n",
              " ('area', 0.9685993194580078),\n",
              " ('tight', 0.9682952761650085)]"
            ]
          },
          "metadata": {
            "tags": []
          },
          "execution_count": 15
        }
      ]
    },
    {
      "cell_type": "code",
      "metadata": {
        "id": "4Lk3bcMb8R3J",
        "colab_type": "code",
        "colab": {
          "base_uri": "https://localhost:8080/",
          "height": 253
        },
        "outputId": "54328a2f-67ea-4609-a569-7819a5e8c03d"
      },
      "source": [
        "model1.wv.most_similar(\"transport\")"
      ],
      "execution_count": 17,
      "outputs": [
        {
          "output_type": "stream",
          "text": [
            "/usr/local/lib/python3.6/dist-packages/gensim/matutils.py:737: FutureWarning: Conversion of the second argument of issubdtype from `int` to `np.signedinteger` is deprecated. In future, it will be treated as `np.int64 == np.dtype(int).type`.\n",
            "  if np.issubdtype(vec.dtype, np.int):\n"
          ],
          "name": "stderr"
        },
        {
          "output_type": "execute_result",
          "data": {
            "text/plain": [
              "[('helped', 0.9989373683929443),\n",
              " ('issue', 0.9989067912101746),\n",
              " ('tables', 0.9988416433334351),\n",
              " ('quickly', 0.9988182783126831),\n",
              " ('badly', 0.9987307786941528),\n",
              " ('directly', 0.998630166053772),\n",
              " ('inconvenience', 0.998599648475647),\n",
              " ('wrong', 0.9985870122909546),\n",
              " ('white', 0.9985445737838745),\n",
              " ('nor', 0.998522162437439)]"
            ]
          },
          "metadata": {
            "tags": []
          },
          "execution_count": 17
        }
      ]
    },
    {
      "cell_type": "code",
      "metadata": {
        "id": "jK9oUY7u8Bdt",
        "colab_type": "code",
        "colab": {
          "base_uri": "https://localhost:8080/",
          "height": 253
        },
        "outputId": "0e25797f-6be5-4335-cb8a-90d4d62330eb"
      },
      "source": [
        "model2.wv.most_similar(\"service\")"
      ],
      "execution_count": 18,
      "outputs": [
        {
          "output_type": "stream",
          "text": [
            "/usr/local/lib/python3.6/dist-packages/gensim/matutils.py:737: FutureWarning: Conversion of the second argument of issubdtype from `int` to `np.signedinteger` is deprecated. In future, it will be treated as `np.int64 == np.dtype(int).type`.\n",
            "  if np.issubdtype(vec.dtype, np.int):\n"
          ],
          "name": "stderr"
        },
        {
          "output_type": "execute_result",
          "data": {
            "text/plain": [
              "[('restaurant', 0.9681097269058228),\n",
              " ('incredibly', 0.9608511924743652),\n",
              " ('concierge', 0.96083003282547),\n",
              " ('delicious', 0.9572252631187439),\n",
              " ('buffet', 0.9553201198577881),\n",
              " ('welcoming', 0.9529483318328857),\n",
              " ('professional', 0.952130913734436),\n",
              " ('breakfast', 0.9499074220657349),\n",
              " ('reception', 0.9483577013015747),\n",
              " ('facilities', 0.9463878870010376)]"
            ]
          },
          "metadata": {
            "tags": []
          },
          "execution_count": 18
        }
      ]
    },
    {
      "cell_type": "code",
      "metadata": {
        "id": "DGoz_IaH8iwM",
        "colab_type": "code",
        "colab": {
          "base_uri": "https://localhost:8080/",
          "height": 253
        },
        "outputId": "da1bb7ec-388e-423c-d97f-92bdf10a3322"
      },
      "source": [
        "model2.wv.most_similar(\"room\")"
      ],
      "execution_count": 21,
      "outputs": [
        {
          "output_type": "stream",
          "text": [
            "/usr/local/lib/python3.6/dist-packages/gensim/matutils.py:737: FutureWarning: Conversion of the second argument of issubdtype from `int` to `np.signedinteger` is deprecated. In future, it will be treated as `np.int64 == np.dtype(int).type`.\n",
            "  if np.issubdtype(vec.dtype, np.int):\n"
          ],
          "name": "stderr"
        },
        {
          "output_type": "execute_result",
          "data": {
            "text/plain": [
              "[('bathroom', 0.9665687084197998),\n",
              " ('bed', 0.9595426321029663),\n",
              " ('shower', 0.9514538049697876),\n",
              " ('sofa', 0.9425439834594727),\n",
              " ('large', 0.9311589002609253),\n",
              " ('size', 0.9281160831451416),\n",
              " ('pillows', 0.9269039630889893),\n",
              " ('spacious', 0.9239405393600464),\n",
              " ('comfy', 0.923820436000824),\n",
              " ('decorated', 0.9085723757743835)]"
            ]
          },
          "metadata": {
            "tags": []
          },
          "execution_count": 21
        }
      ]
    },
    {
      "cell_type": "code",
      "metadata": {
        "id": "Okxfz-Lk8lbR",
        "colab_type": "code",
        "colab": {
          "base_uri": "https://localhost:8080/",
          "height": 253
        },
        "outputId": "07859f15-c854-440f-df6e-73829214a4d7"
      },
      "source": [
        "model2.wv.most_similar(\"location\")"
      ],
      "execution_count": 22,
      "outputs": [
        {
          "output_type": "stream",
          "text": [
            "/usr/local/lib/python3.6/dist-packages/gensim/matutils.py:737: FutureWarning: Conversion of the second argument of issubdtype from `int` to `np.signedinteger` is deprecated. In future, it will be treated as `np.int64 == np.dtype(int).type`.\n",
            "  if np.issubdtype(vec.dtype, np.int):\n"
          ],
          "name": "stderr"
        },
        {
          "output_type": "execute_result",
          "data": {
            "text/plain": [
              "[('is', 0.8893594145774841),\n",
              " ('perfect', 0.8646179437637329),\n",
              " ('neighborhood', 0.8565983176231384),\n",
              " ('affordable', 0.8547906279563904),\n",
              " ('convenient', 0.8535569906234741),\n",
              " ('neighbourhood', 0.8480147123336792),\n",
              " ('central', 0.8412215113639832),\n",
              " ('great', 0.8313050270080566),\n",
              " ('value', 0.8162866234779358),\n",
              " ('near', 0.814899206161499)]"
            ]
          },
          "metadata": {
            "tags": []
          },
          "execution_count": 22
        }
      ]
    },
    {
      "cell_type": "code",
      "metadata": {
        "id": "4IxDM_8a8tp0",
        "colab_type": "code",
        "colab": {
          "base_uri": "https://localhost:8080/",
          "height": 253
        },
        "outputId": "3d200f1b-262e-4b55-b442-fd75a6427264"
      },
      "source": [
        "model2.wv.most_similar(\"transport\")"
      ],
      "execution_count": 23,
      "outputs": [
        {
          "output_type": "stream",
          "text": [
            "/usr/local/lib/python3.6/dist-packages/gensim/matutils.py:737: FutureWarning: Conversion of the second argument of issubdtype from `int` to `np.signedinteger` is deprecated. In future, it will be treated as `np.int64 == np.dtype(int).type`.\n",
            "  if np.issubdtype(vec.dtype, np.int):\n"
          ],
          "name": "stderr"
        },
        {
          "output_type": "execute_result",
          "data": {
            "text/plain": [
              "[('accessible', 0.9948354363441467),\n",
              " ('court', 0.993882417678833),\n",
              " ('placa', 0.9926022291183472),\n",
              " ('walkable', 0.992347240447998),\n",
              " ('beach', 0.9919555187225342),\n",
              " ('gloucester', 0.986873209476471),\n",
              " ('railway', 0.9866646528244019),\n",
              " ('buckingham', 0.9864444732666016),\n",
              " ('market', 0.9862738847732544),\n",
              " ('rail', 0.9860687255859375)]"
            ]
          },
          "metadata": {
            "tags": []
          },
          "execution_count": 23
        }
      ]
    },
    {
      "cell_type": "code",
      "metadata": {
        "id": "KSLMvwG38wbb",
        "colab_type": "code",
        "colab": {}
      },
      "source": [
        ""
      ],
      "execution_count": 0,
      "outputs": []
    }
  ]
}